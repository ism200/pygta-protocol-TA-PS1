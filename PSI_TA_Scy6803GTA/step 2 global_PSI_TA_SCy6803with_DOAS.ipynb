{
 "cells": [
  {
   "cell_type": "markdown",
   "metadata": {},
   "source": [
    "# Step 2a Global analysis of 670nm excitation TA of WL-PSI of SCy6803"
   ]
  },
  {
   "cell_type": "markdown",
   "metadata": {},
   "source": [
    "### Package imports"
   ]
  },
  {
   "cell_type": "code",
   "execution_count": null,
   "metadata": {},
   "outputs": [],
   "source": [
    "from glotaran.io import load_parameters, save_result\n",
    "from glotaran.optimization.optimize import optimize\n",
    "from glotaran.project.scheme import Scheme\n",
    "\n",
    "# Plotting related imports\n",
    "import matplotlib.pyplot as plt\n",
    "from pyglotaran_extras import plot_overview, plot_data_overview\n",
    "from pyglotaran_extras import plot_doas\n",
    "from pyglotaran_extras import plot_fitted_traces, select_plot_wavelengths\n",
    "from pyglotaran_extras.inspect import show_a_matrixes\n",
    "from pyglotaran_extras.plotting.style import PlotStyle\n",
    "from pyglotaran_extras.plotting.style import ColorCode\n",
    "from cycler import cycler\n"
   ]
  },
  {
   "cell_type": "markdown",
   "metadata": {},
   "source": [
    "### Data inspection"
   ]
  },
  {
   "cell_type": "code",
   "execution_count": null,
   "metadata": {},
   "outputs": [],
   "source": [
    "# specify data paths\n",
    "DATA_PATH_670_1 = \"data/SCy6803WL/synWTred670_700nm_exc2RPnocycle1nm_reva.ascii\"\n",
    "DATA_PATH_670_2 = \"data/SCy6803WL/synWTred670_700nm_exc2RPnocycle1nm_revb.ascii\"\n",
    "DATA_PATH_670_3 = \"data/SCy6803WL/synWTred670_700nm_exc2RPnocycle1nm_revc.ascii\"\n",
    "DATA_PATH_670_4 = \"data/SCy6803WL/synWTred670_700nm_exc2RPnocycle1nm_revd.ascii\"\n"
   ]
  },
  {
   "cell_type": "code",
   "execution_count": null,
   "metadata": {},
   "outputs": [],
   "source": [
    "fig, axes = plot_data_overview(\n",
    "    DATA_PATH_670_1,\n",
    "    nr_of_data_svd_vectors=5,\n",
    "    linlog=False,\n",
    "    cmap=\"seismic\",\n",
    "    vmin=-7,\n",
    "    vmax=7,\n",
    "    use_svd_number=True,\n",
    "    title=\"670 nm excitation Time Range 1\",\n",
    ")\n",
    "# change color map seismic or bwr\n",
    "# axes[0].set_cmap('seismic')\n"
   ]
  },
  {
   "cell_type": "code",
   "execution_count": null,
   "metadata": {},
   "outputs": [],
   "source": [
    "fig, axes = plot_data_overview(\n",
    "    DATA_PATH_670_2,\n",
    "    nr_of_data_svd_vectors=5,\n",
    "    linlog=False,\n",
    "    linthresh=10,\n",
    "    cmap=\"seismic\",\n",
    "    vmin=-7,\n",
    "    vmax=7,\n",
    "    use_svd_number=True,\n",
    "    title=\"670 nm excitation Time Range 2\",\n",
    ")\n"
   ]
  },
  {
   "cell_type": "markdown",
   "metadata": {},
   "source": [
    "## Global Analysis"
   ]
  },
  {
   "cell_type": "markdown",
   "metadata": {},
   "source": [
    "### Model specification\n",
    "\n",
    "This time the model and parameters are defined in each step, as the model and/or parameters may be tweaked in each step."
   ]
  },
  {
   "cell_type": "markdown",
   "metadata": {},
   "source": [
    "### Define the analysis scheme and optimize\n",
    "\n",
    "A scheme is a collection of a model, parameters and data, along with options for optimization."
   ]
  },
  {
   "cell_type": "code",
   "execution_count": null,
   "metadata": {},
   "outputs": [],
   "source": [
    "global_scheme = Scheme(\n",
    "    model=\"models/global_step1_model_PSI_TA_SCy6803WL670_without_DOAS.yml\",  # type: ignore\n",
    "    parameters=load_parameters(\n",
    "        \"models/global_step1_parameters_PSI_TA_SCy6803WL670_without_DOAS.csv\"\n",
    "    ),\n",
    "    maximum_number_function_evaluations=15,\n",
    "    clp_link_tolerance=0.1,\n",
    "    data={\n",
    "        # TA data\n",
    "        \"670TR1\": DATA_PATH_670_1,\n",
    "        \"670TR2\": DATA_PATH_670_2,\n",
    "    },  # type: ignore\n",
    ")\n",
    "global_scheme.validate()\n"
   ]
  },
  {
   "cell_type": "code",
   "execution_count": null,
   "metadata": {},
   "outputs": [],
   "source": [
    "global_result_670 = optimize(global_scheme, raise_exception=True)\n"
   ]
  },
  {
   "cell_type": "markdown",
   "metadata": {},
   "source": [
    "<sub>For reference, after 14 iterations the final cost is 3.3293e+02</sub>"
   ]
  },
  {
   "cell_type": "markdown",
   "metadata": {},
   "source": [
    "## Residual analysis of the 670 nm excitation TR1 data"
   ]
  },
  {
   "cell_type": "code",
   "execution_count": null,
   "metadata": {},
   "outputs": [],
   "source": [
    "from custom_plotting import plot_residual_and_svd\n",
    "\n",
    "fig, axes = plot_residual_and_svd([global_result_670.data[\"670TR1\"]])\n",
    "axes[0].annotate(\"A\", xy=(-0.1, 1), xycoords=\"axes fraction\", fontsize=16)\n",
    "axes[1].annotate(\"B\", xy=(-0.1, 1), xycoords=\"axes fraction\", fontsize=16)\n",
    "axes[2].annotate(\"C\", xy=(-0.1, 1), xycoords=\"axes fraction\", fontsize=16)\n"
   ]
  },
  {
   "cell_type": "markdown",
   "metadata": {},
   "source": [
    "## Plot result for interpretation\n"
   ]
  },
  {
   "cell_type": "code",
   "execution_count": null,
   "metadata": {},
   "outputs": [],
   "source": [
    "from custom_plotting import plot_concentration_and_spectra\n",
    "\n",
    "myFRLcolors = [\n",
    "    \"tab:grey\",\n",
    "    \"tab:orange\",\n",
    "    ColorCode.cyan,\n",
    "    ColorCode.green,\n",
    "    \"m\",\n",
    "    \"y\",\n",
    "    \"k\",\n",
    "    \"r\",\n",
    "    \"b\",\n",
    "    \"tab:purple\",\n",
    "]\n",
    "custom_cycler = cycler(color=myFRLcolors)\n",
    "\n",
    "fig, axes = plot_concentration_and_spectra(\n",
    "    [global_result_670.data[\"670TR1\"], global_result_670.data[\"670TR2\"]],\n",
    "    cycler=custom_cycler,\n",
    "    das_cycler=custom_cycler,\n",
    ")\n"
   ]
  },
  {
   "cell_type": "code",
   "execution_count": null,
   "metadata": {},
   "outputs": [],
   "source": [
    "global_scheme = Scheme(\n",
    "    model=\"models/global_step2_model_PSI_TA_SCy6803WL670_with_DOAS.yml\",  # type: ignore\n",
    "    parameters=load_parameters(\n",
    "        \"models/global_step2_parameters_PSI_TA_SCy6803WL670_with_DOAS.csv\"\n",
    "    ),\n",
    "    maximum_number_function_evaluations=15,\n",
    "    clp_link_tolerance=0.1,\n",
    "    data={\n",
    "        # TA data\n",
    "        \"670TR1\": DATA_PATH_670_1,\n",
    "        \"670TR2\": DATA_PATH_670_2,\n",
    "    },  # type: ignore\n",
    ")\n",
    "global_scheme.validate()\n"
   ]
  },
  {
   "cell_type": "code",
   "execution_count": null,
   "metadata": {},
   "outputs": [],
   "source": [
    "global_result670 = optimize(global_scheme, raise_exception=True)\n"
   ]
  },
  {
   "cell_type": "markdown",
   "metadata": {},
   "source": [
    "## Residual analysis of the 670 nm excitation TR1 data"
   ]
  },
  {
   "cell_type": "code",
   "execution_count": null,
   "metadata": {},
   "outputs": [],
   "source": [
    "from custom_plotting import plot_residual_and_svd\n",
    "\n",
    "fig, axes = plot_residual_and_svd([global_result670.data[\"670TR1\"]])\n",
    "axes[0].annotate(\"A\", xy=(-0.1, 1), xycoords=\"axes fraction\", fontsize=16)\n",
    "axes[1].annotate(\"B\", xy=(-0.1, 1), xycoords=\"axes fraction\", fontsize=16)\n",
    "axes[2].annotate(\"C\", xy=(-0.1, 1), xycoords=\"axes fraction\", fontsize=16)\n"
   ]
  },
  {
   "cell_type": "markdown",
   "metadata": {},
   "source": [
    "## Plot result for interpretation\n"
   ]
  },
  {
   "cell_type": "code",
   "execution_count": null,
   "metadata": {},
   "outputs": [],
   "source": [
    "myFRLcolors = [\n",
    "    \"tab:grey\",\n",
    "    \"tab:orange\",\n",
    "    ColorCode.cyan,\n",
    "    ColorCode.green,\n",
    "    \"m\",\n",
    "    \"y\",\n",
    "    \"k\",\n",
    "    \"r\",\n",
    "    \"b\",\n",
    "    \"tab:purple\",\n",
    "]\n",
    "\n",
    "custom_cycler = cycler(color=myFRLcolors)\n",
    "fig, axes = plot_concentration_and_spectra(\n",
    "    [global_result670.data[\"670TR1\"], global_result670.data[\"670TR2\"]],\n",
    "    cycler=custom_cycler,\n",
    "    das_cycler=custom_cycler,\n",
    ")\n"
   ]
  },
  {
   "cell_type": "markdown",
   "metadata": {},
   "source": [
    "To save the results of the optimization we can use the `save_result` command.\n",
    "\n",
    "Because it saves *everything* it consumes about 20MB of disk space per save."
   ]
  },
  {
   "cell_type": "code",
   "execution_count": null,
   "metadata": {},
   "outputs": [],
   "source": [
    "save_result(\n",
    "    result=global_result670,\n",
    "    result_path=\"results/global670/result.yaml\",\n",
    "    allow_overwrite=True,\n",
    ")\n"
   ]
  },
  {
   "cell_type": "markdown",
   "metadata": {},
   "source": [
    "### Results and parameters"
   ]
  },
  {
   "cell_type": "code",
   "execution_count": null,
   "metadata": {},
   "outputs": [],
   "source": [
    "# Just call the result to get the optimization result summary.\n",
    "global_result670\n",
    "# For easier copy-and-paste try:\n",
    "# print(global_result)\n"
   ]
  },
  {
   "cell_type": "code",
   "execution_count": null,
   "metadata": {},
   "outputs": [],
   "source": [
    "# Access the result's `optimized_parameters` to print a markdown table of the optimized parameters:\n",
    "global_result670.optimized_parameters\n"
   ]
  },
  {
   "cell_type": "markdown",
   "metadata": {},
   "source": [
    "## what to do if the estimated rate constants are not in decreasing order?\n",
    "then one should sort the estimated rate constants in decreasing order, and repeat the fit with those new starting values"
   ]
  },
  {
   "cell_type": "markdown",
   "metadata": {},
   "source": [
    "### Amplitude matrices"
   ]
  },
  {
   "cell_type": "code",
   "execution_count": null,
   "metadata": {},
   "outputs": [],
   "source": [
    "show_a_matrixes(global_result670)\n"
   ]
  },
  {
   "cell_type": "markdown",
   "metadata": {},
   "source": [
    "## Result plots"
   ]
  },
  {
   "cell_type": "markdown",
   "metadata": {},
   "source": [
    "<sub>Note: The color scheme of the plots in this notebook may not match published figures.</sub>"
   ]
  },
  {
   "cell_type": "markdown",
   "metadata": {},
   "source": [
    "## Fit quality"
   ]
  },
  {
   "cell_type": "code",
   "execution_count": null,
   "metadata": {},
   "outputs": [],
   "source": [
    "global_result_TA = (\n",
    "    global_result670.data[\"670TR1\"],\n",
    "    global_result670.data[\"670TR2\"],\n",
    ")\n",
    "wavelengths = select_plot_wavelengths(global_result_TA, equidistant_wavelengths=True)\n",
    "fig_traces = plot_fitted_traces(global_result_TA, wavelengths, linlog=True, linthresh=1)\n"
   ]
  },
  {
   "cell_type": "markdown",
   "metadata": {},
   "source": [
    "The above command `plot_fitted_traces` is used to plot a selection of traces for a set of wavelengths (autogenerated using the `select_plot_wavelengths` function)."
   ]
  },
  {
   "cell_type": "markdown",
   "metadata": {},
   "source": [
    "## Overview 670 exc"
   ]
  },
  {
   "cell_type": "code",
   "execution_count": null,
   "metadata": {},
   "outputs": [],
   "source": [
    "fig_670TR1 = plot_overview(\n",
    "    global_result670.data[\"670TR1\"],\n",
    "    nr_of_data_svd_vectors=4,\n",
    "    nr_of_residual_svd_vectors=1,\n",
    "    linlog=False,\n",
    "    linthresh=1,\n",
    "    cycler=cycler(\n",
    "        color=[\"y\", \"g\", \"tab:orange\", \"r\", \"k\", \"c\", \"b\", \"m\", \"tab:purple\"]\n",
    "    ),\n",
    "    use_svd_number=True,\n",
    "    svd_cycler=PlotStyle().cycler,\n",
    ")\n"
   ]
  },
  {
   "cell_type": "code",
   "execution_count": null,
   "metadata": {},
   "outputs": [],
   "source": [
    "fig_670TR2 = plot_overview(\n",
    "    global_result670.data[\"670TR2\"],\n",
    "    nr_of_data_svd_vectors=4,\n",
    "    nr_of_residual_svd_vectors=1,\n",
    "    linlog=False,\n",
    "    linthresh=1,\n",
    "    cycler=cycler(\n",
    "        color=[\"y\", \"g\", \"tab:orange\", \"r\", \"k\", \"c\", \"b\", \"m\", \"tab:purple\"]\n",
    "    ),\n",
    "    use_svd_number=True,\n",
    "    svd_cycler=PlotStyle().cycler,\n",
    ")\n"
   ]
  },
  {
   "cell_type": "markdown",
   "metadata": {},
   "source": [
    "## Coherent Artifact\n"
   ]
  },
  {
   "cell_type": "code",
   "execution_count": null,
   "metadata": {},
   "outputs": [],
   "source": [
    "from pyglotaran_extras import plot_coherent_artifact\n",
    "\n",
    "fig, axes = plot_coherent_artifact(\n",
    "    global_result670.data[\"670TR1\"], time_range=(-0.3, 0.3), figsize=(10, 4)\n",
    ")\n",
    "axes[0].set_xlabel(\"Time (ps)\")\n",
    "axes[1].set_xlabel(\"Wavelength (nm)\")\n",
    "axes[0].set_ylabel(\"\")\n",
    "axes[0].annotate(\"A\", xy=(0.02, 0.9), xycoords=\"axes fraction\", fontsize=16)\n",
    "axes[1].annotate(\"B\", xy=(0.02, 0.9), xycoords=\"axes fraction\", fontsize=16)\n",
    "fig.tight_layout()\n"
   ]
  },
  {
   "cell_type": "markdown",
   "metadata": {},
   "source": [
    "## Overview of the estimated DOAS and phases of 670 nm excitation data"
   ]
  },
  {
   "cell_type": "code",
   "execution_count": null,
   "metadata": {},
   "outputs": [],
   "source": [
    "fig, axes = plot_doas(\n",
    "    global_result670.data[\"670TR1\"],\n",
    "    damped_oscillation=[\"osc1\"],\n",
    "    time_range=(-0.3, 0.3),\n",
    "    spectral=700,\n",
    "    figsize=(15, 4),\n",
    "    normalize=False,\n",
    "    # oscillation_type=\"sin\",\n",
    "    # center_λ=550,\n",
    ")\n",
    "\n",
    "axes[0].set_xlabel(\"Time (ps)\")\n",
    "axes[0].axhline(0, color=\"k\", linewidth=1)\n",
    "axes[1].set_xlabel(\"Wavelength (nm)\")\n",
    "axes[2].set_xlabel(\"Wavelength (nm)\")\n",
    "axes[1].set_ylabel(\"\")\n",
    "axes[1].set_title(\"DOAS\")\n",
    "# axes[0].annotate(\"A\", xy=(0.01, 0.89), xycoords=\"axes fraction\", fontsize=16)\n",
    "# axes[1].annotate(\"B\", xy=(0.01, 0.89), xycoords=\"axes fraction\", fontsize=16)\n",
    "# axes[2].annotate(\"C\", xy=(0.01, 0.89), xycoords=\"axes fraction\", fontsize=16)\n",
    "axes[0].annotate(\"C\", xy=(0.01, 0.89), xycoords=\"axes fraction\", fontsize=16)\n",
    "axes[1].annotate(\"D\", xy=(0.01, 0.89), xycoords=\"axes fraction\", fontsize=16)\n",
    "axes[2].annotate(\"E\", xy=(0.01, 0.89), xycoords=\"axes fraction\", fontsize=16)\n"
   ]
  },
  {
   "cell_type": "markdown",
   "metadata": {},
   "source": [
    "# Step 2b Global analysis of 700nm excitation TA of WL-PSI of SCy6803"
   ]
  },
  {
   "cell_type": "markdown",
   "metadata": {},
   "source": [
    "### Data inspection"
   ]
  },
  {
   "cell_type": "code",
   "execution_count": null,
   "metadata": {},
   "outputs": [],
   "source": [
    "# specify data paths\n",
    "DATA_PATH_700_3 = \"data/SCy6803WL/synWTred670_700nm_exc2RPnocycle1nm_revc.ascii\"\n",
    "DATA_PATH_700_4 = \"data/SCy6803WL/synWTred670_700nm_exc2RPnocycle1nm_revd.ascii\"\n"
   ]
  },
  {
   "cell_type": "code",
   "execution_count": null,
   "metadata": {},
   "outputs": [],
   "source": [
    "fig, axes = plot_data_overview(\n",
    "    DATA_PATH_700_3,\n",
    "    nr_of_data_svd_vectors=5,\n",
    "    linlog=False,\n",
    "    cmap=\"seismic\",\n",
    "    vmin=-7,\n",
    "    vmax=7,\n",
    "    use_svd_number=True,\n",
    "    title=\"700 nm excitation Time Range 1\",\n",
    ")\n",
    "# change color map seismic or bwr\n",
    "# axes[0].set_cmap('seismic')\n"
   ]
  },
  {
   "cell_type": "code",
   "execution_count": null,
   "metadata": {},
   "outputs": [],
   "source": [
    "fig, axes = plot_data_overview(\n",
    "    DATA_PATH_700_4,\n",
    "    nr_of_data_svd_vectors=5,\n",
    "    linlog=False,\n",
    "    linthresh=10,\n",
    "    cmap=\"seismic\",\n",
    "    vmin=-7,\n",
    "    vmax=7,\n",
    "    use_svd_number=True,\n",
    "    title=\"700 nm excitation Time Range 2\",\n",
    ")\n"
   ]
  },
  {
   "cell_type": "markdown",
   "metadata": {},
   "source": [
    "## Global Analysis"
   ]
  },
  {
   "cell_type": "markdown",
   "metadata": {},
   "source": [
    "### Model specification\n",
    "\n",
    "The model and parameters are defined in each step, as the model and/or parameters may be tweaked in each step."
   ]
  },
  {
   "cell_type": "markdown",
   "metadata": {},
   "source": [
    "### Create scheme and optimize it"
   ]
  },
  {
   "cell_type": "code",
   "execution_count": null,
   "metadata": {},
   "outputs": [],
   "source": [
    "global_scheme = Scheme(\n",
    "    model=\"models/global_step3_model_PSI_TA_SCy6803WL700.yml\",  # type: ignore\n",
    "    parameters=load_parameters(\n",
    "        \"models/global_step3_parameters_PSI_TA_SCy6803WL700.csv\"\n",
    "    ),\n",
    "    maximum_number_function_evaluations=15,\n",
    "    clp_link_tolerance=0.1,\n",
    "    data={\n",
    "        # TA data\n",
    "        # \"670TR1\": DATA_PATH1,\n",
    "        # \"670TR2\": DATA_PATH2,\n",
    "        \"700TR1\": DATA_PATH_700_3,\n",
    "        \"700TR2\": DATA_PATH_700_4,\n",
    "    },  # type: ignore\n",
    ")\n",
    "global_scheme.validate()\n"
   ]
  },
  {
   "cell_type": "code",
   "execution_count": null,
   "metadata": {},
   "outputs": [],
   "source": [
    "global_result700 = optimize(global_scheme, raise_exception=True)\n"
   ]
  },
  {
   "cell_type": "markdown",
   "metadata": {},
   "source": [
    "To save the results of the optimization we can use the `save_result` command.\n",
    "\n",
    "Because it saves *everything* it consumes about 50MB of disk space per save."
   ]
  },
  {
   "cell_type": "code",
   "execution_count": null,
   "metadata": {},
   "outputs": [],
   "source": [
    "save_result(\n",
    "    result=global_result700,\n",
    "    result_path=\"results/global700/result.yaml\",\n",
    "    allow_overwrite=True,\n",
    ")\n"
   ]
  },
  {
   "cell_type": "markdown",
   "metadata": {},
   "source": [
    "### Results and parameters"
   ]
  },
  {
   "cell_type": "code",
   "execution_count": null,
   "metadata": {},
   "outputs": [],
   "source": [
    "# Just call the result to get the optimization result summary.\n",
    "global_result700\n",
    "# For easier copy-and-paste try:\n",
    "# print(global_result)\n"
   ]
  },
  {
   "cell_type": "code",
   "execution_count": null,
   "metadata": {},
   "outputs": [],
   "source": [
    "# Access the result's `optimized_parameters` to print a markdown table of the optimized parameters:\n",
    "global_result700.optimized_parameters\n"
   ]
  },
  {
   "cell_type": "markdown",
   "metadata": {},
   "source": [
    "## what to do if the estimated rate constants are not in decreasing order?\n",
    "then one should sort the estimated rate constants in decreasing order, and repeat the fit with those new starting values"
   ]
  },
  {
   "cell_type": "markdown",
   "metadata": {},
   "source": [
    "### Amplitude matrices"
   ]
  },
  {
   "cell_type": "code",
   "execution_count": null,
   "metadata": {},
   "outputs": [],
   "source": [
    "show_a_matrixes(global_result700)\n"
   ]
  },
  {
   "cell_type": "markdown",
   "metadata": {},
   "source": [
    "### Amplitude matrices"
   ]
  },
  {
   "cell_type": "code",
   "execution_count": null,
   "metadata": {},
   "outputs": [],
   "source": [
    "show_a_matrixes(global_result700)\n"
   ]
  },
  {
   "cell_type": "markdown",
   "metadata": {},
   "source": [
    "## Result plots"
   ]
  },
  {
   "cell_type": "markdown",
   "metadata": {},
   "source": [
    "<sub>Note: The color scheme of the plots in this notebook may not match published figures.</sub>"
   ]
  },
  {
   "cell_type": "markdown",
   "metadata": {},
   "source": [
    "## Fit quality"
   ]
  },
  {
   "cell_type": "code",
   "execution_count": null,
   "metadata": {},
   "outputs": [],
   "source": [
    "global_result_TA_700 = (\n",
    "    global_result700.data[\"700TR1\"],\n",
    "    global_result700.data[\"700TR2\"],\n",
    ")\n",
    "wavelengths = select_plot_wavelengths(\n",
    "    global_result_TA_700, equidistant_wavelengths=True\n",
    ")\n",
    "fig_traces_700 = plot_fitted_traces(\n",
    "    global_result_TA_700, wavelengths, linlog=True, linthresh=1\n",
    ")\n"
   ]
  },
  {
   "cell_type": "markdown",
   "metadata": {},
   "source": [
    "The above command `plot_fitted_traces` is used to plot a selection of traces for a set of wavelengths (autogenerated using the `select_plot_wavelengths` function)."
   ]
  },
  {
   "cell_type": "markdown",
   "metadata": {},
   "source": [
    "## Overview 700 exc"
   ]
  },
  {
   "cell_type": "code",
   "execution_count": null,
   "metadata": {},
   "outputs": [],
   "source": [
    "custom_cycler = cycler(color=[\"k\", \"r\", \"g\", \"tab:purple\"])\n",
    "fig_700TR1 = plot_overview(\n",
    "    global_result700.data[\"700TR1\"],\n",
    "    nr_of_data_svd_vectors=4,\n",
    "    nr_of_residual_svd_vectors=1,\n",
    "    linlog=False,\n",
    "    linthresh=1,\n",
    "    cycler=custom_cycler,\n",
    "    use_svd_number=True,\n",
    "    svd_cycler=PlotStyle().cycler,\n",
    ")\n"
   ]
  },
  {
   "cell_type": "code",
   "execution_count": null,
   "metadata": {},
   "outputs": [],
   "source": [
    "fig_700TR = plot_overview(\n",
    "    global_result700.data[\"700TR2\"],\n",
    "    nr_of_data_svd_vectors=4,\n",
    "    nr_of_residual_svd_vectors=1,\n",
    "    linlog=False,\n",
    "    linthresh=10,\n",
    "    cycler=custom_cycler,  # defined in cell above\n",
    "    use_svd_number=True,\n",
    "    svd_cycler=PlotStyle().cycler,\n",
    ")\n"
   ]
  },
  {
   "cell_type": "markdown",
   "metadata": {},
   "source": [
    "## Coherent Artifact\n"
   ]
  },
  {
   "cell_type": "code",
   "execution_count": null,
   "metadata": {},
   "outputs": [],
   "source": [
    "from pyglotaran_extras import plot_coherent_artifact\n",
    "\n",
    "fig, axes = plot_coherent_artifact(\n",
    "    global_result700.data[\"700TR1\"], time_range=(-0.3, 0.3), figsize=(10, 4)\n",
    ")\n",
    "axes[0].set_xlabel(\"Time (ps)\")\n",
    "axes[1].set_xlabel(\"Wavelength (nm)\")\n",
    "axes[0].set_ylabel(\"\")\n",
    "axes[0].annotate(\"A\", xy=(0.02, 0.9), xycoords=\"axes fraction\", fontsize=16)\n",
    "axes[1].annotate(\"B\", xy=(0.02, 0.9), xycoords=\"axes fraction\", fontsize=16)\n",
    "fig.tight_layout()\n"
   ]
  },
  {
   "cell_type": "markdown",
   "metadata": {},
   "source": [
    "## Plot result for interpretation\n"
   ]
  },
  {
   "cell_type": "code",
   "execution_count": null,
   "metadata": {},
   "outputs": [],
   "source": [
    "# [ \"tab:grey\",\"tab:orange\",  ColorCode.cyan, ColorCode.green,\"m\", \"y\", \"k\",\"r\", \"b\", \"tab:purple\"]\n",
    "custom_cycler = cycler(color=[\"k\", \"r\", \"g\", \"tab:purple\"])\n",
    "\n",
    "fig, axes = plot_concentration_and_spectra(\n",
    "    [global_result700.data[\"700TR1\"], global_result700.data[\"700TR2\"]],\n",
    "    cycler=custom_cycler,\n",
    "    das_cycler=custom_cycler,\n",
    ")\n"
   ]
  },
  {
   "cell_type": "code",
   "execution_count": null,
   "metadata": {},
   "outputs": [],
   "source": [
    "# result_dataset.data[\"670TR1\"]\n",
    "# result_dataset.data[\"700TR1\"]\n",
    "from custom_plotting import plot_final_and_diff_EADS\n",
    "\n",
    "fig_EADSdiff, _ = plot_final_and_diff_EADS(\n",
    "    global_result670.data[\"670TR1\"], global_result700.data[\"700TR1\"], scale=0.85\n",
    ")\n"
   ]
  },
  {
   "cell_type": "markdown",
   "metadata": {},
   "source": [
    "## Residual analysis of the 700 nm excitation TR1 data"
   ]
  },
  {
   "cell_type": "code",
   "execution_count": null,
   "metadata": {},
   "outputs": [],
   "source": [
    "fig, axes = plot_residual_and_svd([global_result700.data[\"700TR1\"]])\n",
    "axes[0].annotate(\"A\", xy=(-0.1, 1), xycoords=\"axes fraction\", fontsize=16)\n",
    "axes[1].annotate(\"B\", xy=(-0.1, 1), xycoords=\"axes fraction\", fontsize=16)\n",
    "axes[2].annotate(\"C\", xy=(-0.1, 1), xycoords=\"axes fraction\", fontsize=16)\n"
   ]
  },
  {
   "cell_type": "markdown",
   "metadata": {},
   "source": [
    "\n",
    "# Step 2c Simultaneous global analysis of TA of WL-PSI of SCy6803"
   ]
  },
  {
   "cell_type": "markdown",
   "metadata": {},
   "source": [
    "### Inspect data"
   ]
  },
  {
   "cell_type": "markdown",
   "metadata": {},
   "source": [
    "## Global Analysis"
   ]
  },
  {
   "cell_type": "markdown",
   "metadata": {},
   "source": [
    "### Used model and parameters"
   ]
  },
  {
   "cell_type": "markdown",
   "metadata": {},
   "source": [
    "### Create scheme and optimize it"
   ]
  },
  {
   "cell_type": "code",
   "execution_count": null,
   "metadata": {},
   "outputs": [],
   "source": [
    "global_scheme = Scheme(\n",
    "    model=\"models/global_step4_model_PSI_TA_SCy6803WL670and700.yml\",  # type: ignore\n",
    "    parameters=load_parameters(\n",
    "        \"models/global_step4_parameters_PSI_TA_SCy6803WL670and700.csv\"\n",
    "    ),\n",
    "    maximum_number_function_evaluations=5,\n",
    "    clp_link_tolerance=0.1,\n",
    "    data={\n",
    "        # TA data\n",
    "        \"670TR1\": DATA_PATH_670_1,\n",
    "        \"670TR2\": DATA_PATH_670_2,\n",
    "        \"700TR1\": DATA_PATH_700_3,\n",
    "        \"700TR2\": DATA_PATH_700_4,\n",
    "    },  # type: ignore\n",
    ")\n",
    "global_scheme.validate()\n"
   ]
  },
  {
   "cell_type": "code",
   "execution_count": null,
   "metadata": {},
   "outputs": [],
   "source": [
    "global_result_670_700 = optimize(global_scheme, raise_exception=True)\n"
   ]
  },
  {
   "cell_type": "markdown",
   "metadata": {},
   "source": [
    "To save the results of the optimization we can use the `save_result` command.\n",
    "\n",
    "Because it saves *everything* it consumes about 40MB of disk space per save."
   ]
  },
  {
   "cell_type": "code",
   "execution_count": null,
   "metadata": {},
   "outputs": [],
   "source": [
    "save_result(\n",
    "    result=global_result_670_700,\n",
    "    result_path=\"results/global670and700/result.yaml\",\n",
    "    allow_overwrite=True,\n",
    ")\n"
   ]
  },
  {
   "cell_type": "markdown",
   "metadata": {},
   "source": [
    "### Results and parameters"
   ]
  },
  {
   "cell_type": "code",
   "execution_count": null,
   "metadata": {},
   "outputs": [],
   "source": [
    "# Just call the result to get the optimization result summary.\n",
    "global_result_670_700\n",
    "# For easier copy-and-paste try:\n",
    "# print(global_result)\n"
   ]
  },
  {
   "cell_type": "code",
   "execution_count": null,
   "metadata": {},
   "outputs": [],
   "source": [
    "# Access the result's `optimized_parameters` to print a markdown table of the optimized parameters:\n",
    "global_result_670_700.optimized_parameters\n"
   ]
  },
  {
   "cell_type": "markdown",
   "metadata": {},
   "source": [
    "### Amplitude matrices"
   ]
  },
  {
   "cell_type": "code",
   "execution_count": null,
   "metadata": {},
   "outputs": [],
   "source": [
    "show_a_matrixes(global_result_670_700)\n"
   ]
  },
  {
   "cell_type": "markdown",
   "metadata": {},
   "source": [
    "## Result plots"
   ]
  },
  {
   "cell_type": "markdown",
   "metadata": {},
   "source": [
    "<sub>Note: The color scheme of the plots in this notebook may not match published figures.</sub>"
   ]
  },
  {
   "cell_type": "markdown",
   "metadata": {},
   "source": [
    "## Fit quality"
   ]
  },
  {
   "cell_type": "code",
   "execution_count": null,
   "metadata": {},
   "outputs": [],
   "source": [
    "global_result_TA = (\n",
    "    global_result_670_700.data[\"670TR1\"],\n",
    "    global_result_670_700.data[\"670TR2\"],\n",
    "    global_result_670_700.data[\"700TR1\"],\n",
    "    global_result_670_700.data[\"700TR2\"],\n",
    ")\n",
    "wavelengths = select_plot_wavelengths(global_result_TA, equidistant_wavelengths=True)\n",
    "fig_TA = plot_fitted_traces(global_result_TA, wavelengths, linlog=True, linthresh=1)\n"
   ]
  },
  {
   "cell_type": "markdown",
   "metadata": {},
   "source": [
    "The above command `plot_fitted_traces` is used to plot a selection of traces for a set of wavelengths (autogenerated using the `select_plot_wavelengths` function).\n",
    "To show to make a manual selection of traces, and 'dress up the plot' see the code below, which reproduces Figure 2 of the iScience paper."
   ]
  },
  {
   "cell_type": "code",
   "execution_count": null,
   "metadata": {},
   "outputs": [],
   "source": [
    "# Reproduction of Figure 2 of the iScience paper\n",
    "from pyglotaran_extras.plotting.style import ColorCode as cc\n",
    "from custom_plotting import plot_fitted_traces_iscience\n",
    "\n",
    "fig, ax_ = plot_fitted_traces_iscience(\n",
    "    global_result_TA,\n",
    "    [685, 700, 720, 760],\n",
    "    linlog=True,\n",
    "    linthresh=1,  # published figure uses 0.3 for easthetic reasons, but here 1 looks better\n",
    "    axes_shape=(2, 2),\n",
    "    figsize=(6, 4),\n",
    "    title=\"\",\n",
    "    per_axis_legend=True,\n",
    "    cycler=cycler(\n",
    "        color=[\n",
    "            cc.grey,\n",
    "            cc.black,\n",
    "            cc.grey,\n",
    "            cc.black,\n",
    "            cc.orange,\n",
    "            cc.red,\n",
    "            cc.orange,\n",
    "            cc.red,\n",
    "        ]\n",
    "    ),\n",
    ")\n"
   ]
  },
  {
   "cell_type": "markdown",
   "metadata": {},
   "source": [
    "## Overview 670 exc"
   ]
  },
  {
   "cell_type": "code",
   "execution_count": null,
   "metadata": {},
   "outputs": [],
   "source": [
    "from pyglotaran_extras.plotting.style import ColorCode\n",
    "\n",
    "fig_670_TR1 = plot_overview(\n",
    "    global_result_670_700.data[\"670TR1\"],\n",
    "    nr_of_data_svd_vectors=4,\n",
    "    nr_of_residual_svd_vectors=2,\n",
    "    linlog=False,\n",
    "    linthresh=1,\n",
    "    cycler=cycler(\n",
    "        color=[\n",
    "            \"tab:grey\",\n",
    "            \"tab:orange\",\n",
    "            ColorCode.cyan,\n",
    "            ColorCode.green,\n",
    "            \"m\",\n",
    "            \"y\",\n",
    "            \"k\",\n",
    "            \"r\",\n",
    "            \"b\",\n",
    "            \"tab:purple\",\n",
    "        ]\n",
    "    ),\n",
    "    use_svd_number=True,\n",
    "    das_cycler=PlotStyle().cycler,\n",
    "    svd_cycler=PlotStyle().cycler,\n",
    ")\n"
   ]
  },
  {
   "cell_type": "markdown",
   "metadata": {},
   "source": [
    "## Residual analysis of the 670 nm excitation TR1 data"
   ]
  },
  {
   "cell_type": "code",
   "execution_count": null,
   "metadata": {},
   "outputs": [],
   "source": [
    "fig, axes = plot_residual_and_svd([global_result_670_700.data[\"670TR1\"]])\n",
    "axes[0].annotate(\"A\", xy=(-0.1, 1), xycoords=\"axes fraction\", fontsize=16)\n",
    "axes[1].annotate(\"B\", xy=(-0.1, 1), xycoords=\"axes fraction\", fontsize=16)\n",
    "axes[2].annotate(\"C\", xy=(-0.1, 1), xycoords=\"axes fraction\", fontsize=16)\n"
   ]
  },
  {
   "cell_type": "code",
   "execution_count": null,
   "metadata": {},
   "outputs": [],
   "source": [
    "global_result_670_700.data[\"670TR2\"]\n"
   ]
  },
  {
   "cell_type": "markdown",
   "metadata": {},
   "source": [
    "## Residual analysis of all data"
   ]
  },
  {
   "cell_type": "code",
   "execution_count": null,
   "metadata": {},
   "outputs": [],
   "source": [
    "from custom_plotting import plot_svd_of_residual\n",
    "fig, axes = plot_svd_of_residual(\n",
    "    [global_result_670_700.data[\"670TR1\"],\n",
    "    global_result_670_700.data[\"670TR2\"],\n",
    "    global_result_670_700.data[\"700TR1\"],\n",
    "    global_result_670_700.data[\"700TR2\"]],\n",
    "    linlog=True,\n",
    "    linthresh=1,\n",
    "    index=0,\n",
    ")\n",
    "axes[0].annotate(\"A\", xy=(-0.1, 1), xycoords=\"axes fraction\", fontsize=16)\n",
    "axes[1].annotate(\"B\", xy=(-0.1, 1), xycoords=\"axes fraction\", fontsize=16)\n"
   ]
  },
  {
   "cell_type": "code",
   "execution_count": null,
   "metadata": {},
   "outputs": [],
   "source": [
    "global_result_670_700.data[\"700TR2\"].residual.plot(x=\"time\")\n"
   ]
  },
  {
   "cell_type": "code",
   "execution_count": null,
   "metadata": {},
   "outputs": [],
   "source": [
    "global_result_670_700.data[\"700TR2\"].weighted_residual.plot(x=\"time\")\n"
   ]
  },
  {
   "cell_type": "code",
   "execution_count": null,
   "metadata": {},
   "outputs": [],
   "source": [
    "global_result_670_700.data[\"700TR1\"].weighted_residual.plot(x=\"time\")\n"
   ]
  },
  {
   "cell_type": "code",
   "execution_count": null,
   "metadata": {},
   "outputs": [],
   "source": [
    "global_result_670_700.data[\"700TR2\"].residual_right_singular_vectors.isel(\n",
    "    spectral=slice(56, 72), right_singular_value_index=0\n",
    ").plot()\n"
   ]
  },
  {
   "cell_type": "code",
   "execution_count": null,
   "metadata": {},
   "outputs": [],
   "source": [
    "global_result_670_700.data[\"700TR2\"].weighted_residual_right_singular_vectors.isel(\n",
    "    spectral=slice(56, 72), right_singular_value_index=0\n",
    ").plot()\n"
   ]
  },
  {
   "cell_type": "code",
   "execution_count": null,
   "metadata": {},
   "outputs": [],
   "source": [
    "fig, axis = plt.subplots(1, 1, figsize=(3, 2))\n",
    "global_result_670_700.data[\"700TR1\"].data.plot(\n",
    "    x=\"time\", ax=axis, vmin=-5, vmax=5, cmap=\"seismic\"\n",
    ")\n",
    "axis.set_xlabel(\"Time (ps)\")\n",
    "axis.set_ylabel(\"Wavelength (nm)\")\n"
   ]
  },
  {
   "cell_type": "code",
   "execution_count": null,
   "metadata": {},
   "outputs": [],
   "source": [
    "fig, axes = plot_svd_of_residual(\n",
    "    [global_result_670_700.data[\"670TR1\"],\n",
    "    global_result_670_700.data[\"670TR2\"],\n",
    "    global_result_670_700.data[\"700TR1\"],\n",
    "    global_result_670_700.data[\"700TR2\"]],\n",
    "    linlog=True,\n",
    "    linthresh=1,\n",
    "    index=1,\n",
    ")\n",
    "axes[0].annotate(\"A\", xy=(-0.1, 1), xycoords=\"axes fraction\", fontsize=16)\n",
    "axes[1].annotate(\"B\", xy=(-0.1, 1), xycoords=\"axes fraction\", fontsize=16)\n",
    "axes[0].set_title(\"residual 2nd LSV\")\n",
    "axes[1].set_title(\"residual 2nd RSV\")\n"
   ]
  },
  {
   "cell_type": "code",
   "execution_count": null,
   "metadata": {},
   "outputs": [],
   "source": [
    "_ = plot_overview(\n",
    "    global_result_670_700.data[\"670TR2\"],\n",
    "    nr_of_data_svd_vectors=4,\n",
    "    nr_of_residual_svd_vectors=2,\n",
    "    linlog=False,\n",
    "    linthresh=1,\n",
    "    cycler=cycler(\n",
    "        # color=[ \"tab:grey\",\"tab:orange\",  \"c\", \"g\",\"m\", \"y\", \"k\",\"r\", \"b\", \"tab:purple\"]\n",
    "        color=[\n",
    "            \"tab:grey\",\n",
    "            \"tab:orange\",\n",
    "            ColorCode.cyan,\n",
    "            ColorCode.green,\n",
    "            \"m\",\n",
    "            \"y\",\n",
    "            \"k\",\n",
    "            \"r\",\n",
    "            \"b\",\n",
    "            \"tab:purple\",\n",
    "        ]\n",
    "    ),\n",
    "    use_svd_number=True,\n",
    "    das_cycler=PlotStyle().cycler,\n",
    "    svd_cycler=PlotStyle().cycler,\n",
    ")\n"
   ]
  },
  {
   "cell_type": "markdown",
   "metadata": {},
   "source": [
    "## Overview 700 exc"
   ]
  },
  {
   "cell_type": "code",
   "execution_count": null,
   "metadata": {},
   "outputs": [],
   "source": [
    "_ = plot_overview(\n",
    "    global_result_670_700.data[\"700TR1\"],\n",
    "    nr_of_data_svd_vectors=4,\n",
    "    nr_of_residual_svd_vectors=2,\n",
    "    linlog=False,\n",
    "    linthresh=1,\n",
    "    cycler=cycler(color=[\"k\", \"r\", \"g\", \"tab:purple\"]),\n",
    "    use_svd_number=True,\n",
    "    svd_cycler=PlotStyle().cycler,\n",
    ")\n"
   ]
  },
  {
   "cell_type": "code",
   "execution_count": null,
   "metadata": {},
   "outputs": [],
   "source": [
    "_ = plot_overview(\n",
    "    global_result_670_700.data[\"700TR2\"],\n",
    "    nr_of_data_svd_vectors=4,\n",
    "    nr_of_residual_svd_vectors=2,\n",
    "    linlog=False,\n",
    "    linthresh=1,\n",
    "    cycler=cycler(color=[\"k\", \"r\", \"g\", \"tab:purple\"]),\n",
    "    use_svd_number=True,\n",
    "    svd_cycler=PlotStyle().cycler,\n",
    ")\n"
   ]
  },
  {
   "cell_type": "markdown",
   "metadata": {},
   "source": [
    "## Residual analysis of the 700 nm excitation TR2 data"
   ]
  },
  {
   "cell_type": "code",
   "execution_count": null,
   "metadata": {},
   "outputs": [],
   "source": [
    "fig, axes = plot_residual_and_svd([global_result_670_700.data[\"700TR2\"]])\n",
    "axes[0].annotate(\"A\", xy=(-0.1, 1), xycoords=\"axes fraction\", fontsize=16)\n",
    "axes[1].annotate(\"B\", xy=(-0.1, 1), xycoords=\"axes fraction\", fontsize=16)\n",
    "axes[2].annotate(\"C\", xy=(-0.1, 1), xycoords=\"axes fraction\", fontsize=16)\n"
   ]
  },
  {
   "cell_type": "markdown",
   "metadata": {},
   "source": [
    "## Plot result for interpretation\n"
   ]
  },
  {
   "cell_type": "code",
   "execution_count": null,
   "metadata": {},
   "outputs": [],
   "source": [
    "myFRLcolors = [\n",
    "    \"tab:grey\",\n",
    "    \"tab:orange\",\n",
    "    ColorCode.cyan,\n",
    "    ColorCode.green,\n",
    "    \"m\",\n",
    "    \"y\",\n",
    "    \"k\",\n",
    "    \"r\",\n",
    "    \"b\",\n",
    "    \"tab:purple\",\n",
    "]\n",
    "custom_cycler = cycler(color=myFRLcolors)\n",
    "\n",
    "\n",
    "fig, axes = plot_concentration_and_spectra(\n",
    "    [global_result_670_700.data[\"670TR1\"], global_result_670_700.data[\"670TR2\"]], cycler=custom_cycler\n",
    ")\n"
   ]
  },
  {
   "cell_type": "code",
   "execution_count": null,
   "metadata": {},
   "outputs": [],
   "source": [
    "myFRLcolors = [\"k\", \"r\", \"g\", \"tab:purple\"]\n",
    "\n",
    "custom_cycler = cycler(color=myFRLcolors)\n",
    "\n",
    "\n",
    "fig, axes = plot_concentration_and_spectra(\n",
    "    [global_result_670_700.data[\"700TR1\"], global_result_670_700.data[\"700TR2\"]],\n",
    "    cycler=custom_cycler,\n",
    "    labels=(\"D\", \"E\", \"F\"),\n",
    ")\n"
   ]
  },
  {
   "cell_type": "markdown",
   "metadata": {},
   "source": [
    "## Coherent Artifact\n"
   ]
  },
  {
   "cell_type": "code",
   "execution_count": null,
   "metadata": {},
   "outputs": [],
   "source": [
    "from pyglotaran_extras import plot_coherent_artifact\n",
    "\n",
    "fig, axes = plot_coherent_artifact(\n",
    "    global_result_670_700.data[\"670TR1\"], time_range=(-0.3, 0.3), figsize=(10, 4)\n",
    ")\n",
    "axes[0].set_xlabel(\"Time (ps)\")\n",
    "axes[1].set_xlabel(\"Wavelength (nm)\")\n",
    "axes[0].set_ylabel(\"\")\n",
    "axes[0].annotate(\"A\", xy=(0.02, 0.9), xycoords=\"axes fraction\", fontsize=16)\n",
    "axes[1].annotate(\"B\", xy=(0.02, 0.9), xycoords=\"axes fraction\", fontsize=16)\n",
    "fig.tight_layout()\n"
   ]
  },
  {
   "cell_type": "code",
   "execution_count": null,
   "metadata": {},
   "outputs": [],
   "source": [
    "from pyglotaran_extras import plot_coherent_artifact\n",
    "\n",
    "fig, axes = plot_coherent_artifact(\n",
    "    global_result_670_700.data[\"700TR1\"], time_range=(-0.3, 0.3), figsize=(10, 4)\n",
    ")\n",
    "axes[0].set_xlabel(\"Time (ps)\")\n",
    "axes[1].set_xlabel(\"Wavelength (nm)\")\n",
    "axes[0].set_ylabel(\"\")\n",
    "axes[0].annotate(\"A\", xy=(0.02, 0.9), xycoords=\"axes fraction\", fontsize=16)\n",
    "axes[1].annotate(\"B\", xy=(0.02, 0.9), xycoords=\"axes fraction\", fontsize=16)\n",
    "fig.tight_layout()\n"
   ]
  },
  {
   "cell_type": "markdown",
   "metadata": {},
   "source": [
    "## Overview of the estimated DOAS and phases of 670 nm excitation data"
   ]
  },
  {
   "cell_type": "code",
   "execution_count": null,
   "metadata": {},
   "outputs": [],
   "source": [
    "from pyglotaran_extras import plot_doas\n",
    "from pyglotaran_extras.plotting.style import ColorCode\n",
    "\n",
    "fig, axes = plot_doas(\n",
    "    global_result_670_700.data[\"670TR1\"],\n",
    "    damped_oscillation=[\"osc1\"],\n",
    "    time_range=(-0.3, 0.3),\n",
    "    spectral=700,\n",
    "    figsize=(15, 4),\n",
    "    normalize=False,\n",
    "    # oscillation_type=\"sin\",\n",
    "    # center_λ=550,\n",
    ")\n",
    "\n",
    "axes[0].set_xlabel(\"Time (ps)\")\n",
    "axes[0].axhline(0, color=\"k\", linewidth=1)\n",
    "axes[1].set_xlabel(\"Wavelength (nm)\")\n",
    "axes[2].set_xlabel(\"Wavelength (nm)\")\n",
    "axes[1].set_ylabel(\"\")\n",
    "axes[1].set_title(\"DOAS\")\n",
    "# axes[0].annotate(\"A\", xy=(0.01, 0.89), xycoords=\"axes fraction\", fontsize=16)\n",
    "# axes[1].annotate(\"B\", xy=(0.01, 0.89), xycoords=\"axes fraction\", fontsize=16)\n",
    "# axes[2].annotate(\"C\", xy=(0.01, 0.89), xycoords=\"axes fraction\", fontsize=16)\n",
    "axes[0].annotate(\"C\", xy=(0.01, 0.89), xycoords=\"axes fraction\", fontsize=16)\n",
    "axes[1].annotate(\"D\", xy=(0.01, 0.89), xycoords=\"axes fraction\", fontsize=16)\n",
    "axes[2].annotate(\"E\", xy=(0.01, 0.89), xycoords=\"axes fraction\", fontsize=16)\n"
   ]
  },
  {
   "cell_type": "code",
   "execution_count": null,
   "metadata": {},
   "outputs": [],
   "source": [
    "from glotaran.io import save_dataset\n",
    "from glotaran.utils.io import create_clp_guide_dataset\n",
    "\n",
    "for species in global_result_670_700.data[\"670TR2\"].species:\n",
    "    clp_guide = create_clp_guide_dataset(global_result_670_700.data[\"670TR2\"], species.item())\n",
    "    string_in_string = \"guide/global670and700_670TR2_clp_{}.ascii\".format(\n",
    "        species.item()\n",
    "    )\n",
    "    save_dataset(clp_guide.data, string_in_string, allow_overwrite=True)\n"
   ]
  }
 ],
 "metadata": {
  "kernelspec": {
   "display_name": "Python 3 (ipykernel)",
   "language": "python",
   "name": "python3"
  },
  "language_info": {
   "codemirror_mode": {
    "name": "ipython",
    "version": 3
   },
   "file_extension": ".py",
   "mimetype": "text/x-python",
   "name": "python",
   "nbconvert_exporter": "python",
   "pygments_lexer": "ipython3",
   "version": "3.10.13"
  },
  "vscode": {
   "interpreter": {
    "hash": "c96939a00adbd8139175687d27213cba589faa8203f47f613c3350e59358e0cf"
   }
  }
 },
 "nbformat": 4,
 "nbformat_minor": 4
}

{
 "cells": [
  {
   "cell_type": "markdown",
   "metadata": {},
   "source": [
    "# Target analysis of 670 and 700nm excitation TA data of WL of SCy6803"
   ]
  },
  {
   "cell_type": "markdown",
   "metadata": {},
   "source": [
    "## Inspect data"
   ]
  },
  {
   "cell_type": "code",
   "execution_count": null,
   "metadata": {},
   "outputs": [],
   "source": [
    "from cycler import cycler\n",
    "from glotaran.io import load_parameters, save_result\n",
    "from glotaran.optimization.optimize import optimize\n",
    "from glotaran.project.scheme import Scheme\n",
    "from pyglotaran_extras.plotting.plot_overview import plot_overview\n",
    "from pyglotaran_extras.plotting.plot_traces import (\n",
    "    plot_fitted_traces,\n",
    "    select_plot_wavelengths,\n",
    ")\n",
    "from pyglotaran_extras.inspect import show_a_matrixes"
   ]
  },
  {
   "cell_type": "code",
   "execution_count": null,
   "metadata": {},
   "outputs": [],
   "source": [
    "# from pyglotaran_extras import plot_data_overview\n",
    "\n",
    "# DATA_PATH1 = \"corr/20230927sv1_corrected_data_global_670TR1.ascii\"\n",
    "# DATA_PATH2 = \"corr/20230927sv1_corrected_data_global_670TR2.ascii\"\n",
    "# DATA_PATH3 = \"corr/20230927sv1_corrected_data_global_700TR1.ascii\"\n",
    "# DATA_PATH4 = \"corr/20230927sv1_corrected_data_global_700TR2.ascii\"\n",
    "# fig, axes = plot_data_overview(\n",
    "#     DATA_PATH3, nr_of_data_svd_vectors=5, linlog=False\n",
    "# )\n",
    "# change color map seismic or bwr\n",
    "# axes[0].set_cmap('seismic')"
   ]
  },
  {
   "cell_type": "code",
   "execution_count": null,
   "metadata": {},
   "outputs": [],
   "source": [
    "from pyglotaran_extras import plot_data_overview\n",
    "\n",
    "DATA_PATH1 = \"data/SCy6803WL/synWTred670_700nm_exc2RPnocycle1nm_reva.ascii\"\n",
    "DATA_PATH2 = \"data/SCy6803WL/synWTred670_700nm_exc2RPnocycle1nm_revb.ascii\"\n",
    "DATA_PATH3 = \"data/SCy6803WL/synWTred670_700nm_exc2RPnocycle1nm_revc.ascii\"\n",
    "DATA_PATH4 = \"data/SCy6803WL/synWTred670_700nm_exc2RPnocycle1nm_revd.ascii\"\n",
    "fig, axes = plot_data_overview(\n",
    "    DATA_PATH4, nr_of_data_svd_vectors=3, linlog=True, linthresh=0.1,cmap='seismic',datamin = -7,datamax=7\n",
    ")\n",
    "# change color map seismic or bwr\n",
    "# axes[0].set_cmap('seismic')"
   ]
  },
  {
   "cell_type": "code",
   "execution_count": null,
   "metadata": {},
   "outputs": [],
   "source": [
    "fig, axes = plot_data_overview(\n",
    "    DATA_PATH4, nr_of_data_svd_vectors=3, linlog=True, linthresh=0.1,cmap='bwr',datamin = -7,datamax=7\n",
    ")"
   ]
  },
  {
   "cell_type": "markdown",
   "metadata": {},
   "source": [
    "## Target Analysis"
   ]
  },
  {
   "cell_type": "markdown",
   "metadata": {},
   "source": [
    "### Used model and parameters"
   ]
  },
  {
   "cell_type": "code",
   "execution_count": null,
   "metadata": {},
   "outputs": [],
   "source": [
    "# target_model_path = \"models/20230829step5_Bulk_RP2_CA_Red_Ant1_RP1_RC_free_Red2.yml\""
   ]
  },
  {
   "cell_type": "code",
   "execution_count": null,
   "metadata": {},
   "outputs": [],
   "source": [
    "# target_parameters_path = \"models/20230829step5_Bulk_RP2_CA_Red_Ant1_RP1_RC_free_Red2.csv\"\n",
    "# optimizedparameters = load_parameters(target_parameters_path)"
   ]
  },
  {
   "cell_type": "code",
   "execution_count": null,
   "metadata": {},
   "outputs": [],
   "source": []
  },
  {
   "cell_type": "markdown",
   "metadata": {},
   "source": [
    "#### Model file"
   ]
  },
  {
   "cell_type": "code",
   "execution_count": null,
   "metadata": {},
   "outputs": [],
   "source": [
    "# Uncomment the following 2 lines to display the target model file in the notebook\n",
    "# from glotaran.utils.ipython import display_file\n",
    "# display_file(target_model_path, syntax=\"yaml\")\n",
    "\n",
    "# Alternatively (recommended), open the file in a text editor to see the model definition"
   ]
  },
  {
   "cell_type": "markdown",
   "metadata": {},
   "source": [
    "#### Parameters file"
   ]
  },
  {
   "cell_type": "code",
   "execution_count": null,
   "metadata": {},
   "outputs": [],
   "source": [
    "# Uncomment the next line and run the cell to print the starting values of the analysis\n",
    "# These starting values have already been optimized, hence the name optimizedparameters\n",
    "\n",
    "# optimizedparameters"
   ]
  },
  {
   "cell_type": "markdown",
   "metadata": {},
   "source": [
    "# Create scheme 1 with Bulk to RP2 and optimize it"
   ]
  },
  {
   "cell_type": "code",
   "execution_count": null,
   "metadata": {},
   "outputs": [],
   "source": [
    "target_scheme = Scheme(\n",
    "    model=\"models/20230827step1_Bulk_RP2_CA.yml\",\n",
    "    parameters=load_parameters(\"models/20230827step1_Bulk_RP2_CA.csv\"),\n",
    "    maximum_number_function_evaluations=9,\n",
    "    clp_link_tolerance=0.1,\n",
    "    data={\n",
    "        # TA data\n",
    "        \"670TR1\": DATA_PATH1,\n",
    "        \"670TR2\": DATA_PATH2,\n",
    "        \"700TR1\": DATA_PATH3,\n",
    "        \"700TR2\": DATA_PATH4,\n",
    "    },  # type: ignore\n",
    ")\n",
    "target_scheme.validate()"
   ]
  },
  {
   "cell_type": "code",
   "execution_count": null,
   "metadata": {},
   "outputs": [],
   "source": [
    "target_result1 = optimize(target_scheme, raise_exception=True)"
   ]
  },
  {
   "cell_type": "code",
   "execution_count": null,
   "metadata": {},
   "outputs": [],
   "source": [
    "# Just call the result to get the optimization result summary.\n",
    "target_result1\n",
    "# For easier copy-and-paste try:\n",
    "# print(target_result)"
   ]
  },
  {
   "cell_type": "code",
   "execution_count": null,
   "metadata": {},
   "outputs": [],
   "source": []
  },
  {
   "cell_type": "markdown",
   "metadata": {},
   "source": [
    "## Plot result for interpretation\n"
   ]
  },
  {
   "cell_type": "code",
   "execution_count": null,
   "metadata": {},
   "outputs": [],
   "source": [
    "import matplotlib.pyplot as plt\n",
    "from cycler import cycler\n",
    "from pyglotaran_extras.plotting.plot_concentrations import plot_concentrations\n",
    "from pyglotaran_extras.plotting.plot_spectra import plot_sas\n",
    "from pyglotaran_extras.plotting.style import ColorCode\n",
    "\n",
    "myFRLcolors = [ \"g\", \"b\",]\n",
    "\n",
    "fig, axes = plt.subplots(1, 2, figsize=(15, 4))\n",
    "custom_cycler2 = cycler(color=myFRLcolors, linestyle=[\"--\"] * 2)\n",
    "plot_concentrations(target_result1.data[\"700TR1\"], axes[0], center_λ=0, linlog=True, cycler=custom_cycler2)\n",
    "plot_concentrations(target_result1.data[\"700TR2\"], axes[0], center_λ=0, linlog=True, cycler=custom_cycler2)\n",
    "custom_cycler = cycler(color=myFRLcolors)\n",
    "plot_concentrations(target_result1.data[\"670TR1\"], axes[0], center_λ=0, linlog=True, cycler=custom_cycler)\n",
    "plot_concentrations(target_result1.data[\"670TR2\"], axes[0], center_λ=0, linlog=True, cycler=custom_cycler)\n",
    "plot_sas(target_result1.data[\"670TR2\"], axes[1], cycler=custom_cycler)\n",
    "\n",
    "axes[0].set_xlabel(\"Time (ps)\")\n",
    "axes[0].set_ylabel(\"\")\n",
    "axes[0].axhline(0, color=\"k\", linewidth=1)\n",
    "axes[1].set_xlabel(\"Wavelength (nm)\")\n",
    "axes[1].set_ylabel(\"SADS (mOD)\")\n",
    "axes[1].set_title(\"SADS\")\n",
    "axes[1].axhline(0, color=\"k\", linewidth=1)\n",
    "axes[0].annotate(\"A\", xy=(-0.05, 1.02), xycoords=\"axes fraction\", fontsize=16)\n",
    "axes[1].annotate(\"B\", xy=(-0.05, 1.02), xycoords=\"axes fraction\", fontsize=16)"
   ]
  },
  {
   "cell_type": "code",
   "execution_count": null,
   "metadata": {},
   "outputs": [],
   "source": [
    "# Access the result's `optimized_parameters` to print a markdown table of the optimized parameters:\n",
    "target_result1.optimized_parameters"
   ]
  },
  {
   "cell_type": "markdown",
   "metadata": {},
   "source": [
    "## Residual analysis of all data"
   ]
  },
  {
   "cell_type": "code",
   "execution_count": null,
   "metadata": {},
   "outputs": [],
   "source": [
    "import matplotlib.pyplot as plt\n",
    "from pyglotaran_extras.plotting.plot_residual import plot_residual\n",
    "from pyglotaran_extras.plotting.plot_svd import plot_lsv_residual\n",
    "from pyglotaran_extras.plotting.plot_svd import plot_rsv_residual\n",
    "\n",
    "\n",
    "def plot_svd_of_residual(result_dataset,result_dataset2,result_dataset3,result_dataset4,linlog,linthresh):\n",
    "    fig, axes = plt.subplots(1, 2, figsize=(10, 2))\n",
    "    custom_cycler = cycler(color=[\"tab:grey\"])\n",
    "    plot_lsv_residual(result_dataset, axes[0], indices=[0],linlog=linlog,linthresh=linthresh, cycler=custom_cycler)\n",
    "    plot_lsv_residual(result_dataset2, axes[0], indices=[0],linlog=linlog,linthresh=linthresh)\n",
    "    custom_cycler = cycler(color=[\"tab:orange\"])\n",
    "    plot_lsv_residual(result_dataset3, axes[0], indices=[0],linlog=linlog,linthresh=linthresh, cycler=custom_cycler)\n",
    "    custom_cycler = cycler(color=[\"r\"])\n",
    "    plot_lsv_residual(result_dataset4, axes[0], indices=[0],linlog=linlog,linthresh=linthresh, cycler=custom_cycler)\n",
    "    axes[0].set_xlabel(\"Time (ps)\")\n",
    "    axes[0].get_legend().remove()\n",
    "    axes[0].set_ylabel(\"\")\n",
    "    axes[0].set_title(\"residual 1st LSV\")\n",
    "    custom_cycler = cycler(color=[\"tab:grey\"])\n",
    "    plot_rsv_residual(result_dataset, axes[1], indices=[0], cycler=custom_cycler)\n",
    "    plot_rsv_residual(result_dataset2, axes[1], indices=[0])\n",
    "    custom_cycler = cycler(color=[\"tab:orange\"])\n",
    "    plot_rsv_residual(result_dataset3, axes[1], indices=[0], cycler=custom_cycler)\n",
    "    custom_cycler = cycler(color=[\"r\"])\n",
    "    plot_rsv_residual(result_dataset4, axes[1], indices=[0], cycler=custom_cycler)\n",
    "    axes[1].set_xlabel(\"Wavelength (nm)\")\n",
    "    axes[1].set_title(\"residual 1st RSV\")\n",
    "    axes[1].get_legend().remove()\n",
    "    axes[1].set_ylabel(\"\")\n",
    "\n",
    "    return fig, axes\n",
    "\n",
    "fig, axes = plot_svd_of_residual(target_result1.data[\"670TR1\"],target_result1.data[\"670TR2\"],target_result1.data[\"700TR1\"],target_result1.data[\"700TR2\"],linlog=True,linthresh=1)\n",
    "axes[0].annotate(\"A\", xy=(-0.1, 1), xycoords=\"axes fraction\", fontsize=16)\n",
    "axes[1].annotate(\"B\", xy=(-0.1, 1), xycoords=\"axes fraction\", fontsize=16)\n"
   ]
  },
  {
   "cell_type": "markdown",
   "metadata": {},
   "source": [
    "# Create scheme 2 introducing Red and optimize it"
   ]
  },
  {
   "cell_type": "code",
   "execution_count": null,
   "metadata": {},
   "outputs": [],
   "source": [
    "target_scheme = Scheme(\n",
    "    model=\"models/20230827step2_Bulk_RP2_CA_Red.yml\",\n",
    "    parameters=load_parameters(\"models/20230827step2_Bulk_RP2_CA_Red.csv\"),\n",
    "    maximum_number_function_evaluations=9,\n",
    "    clp_link_tolerance=0.1,\n",
    "    data={\n",
    "        # TA data\n",
    "        \"670TR1\": DATA_PATH1,\n",
    "        \"670TR2\": DATA_PATH2,\n",
    "        \"700TR1\": DATA_PATH3,\n",
    "        \"700TR2\": DATA_PATH4,\n",
    "    },  # type: ignore\n",
    ")\n",
    "target_scheme.validate()"
   ]
  },
  {
   "cell_type": "code",
   "execution_count": null,
   "metadata": {},
   "outputs": [],
   "source": [
    "target_result2 = optimize(target_scheme, raise_exception=True)"
   ]
  },
  {
   "cell_type": "code",
   "execution_count": null,
   "metadata": {},
   "outputs": [],
   "source": [
    "# Just call the result to get the optimization result summary.\n",
    "target_result2\n",
    "# For easier copy-and-paste try:\n",
    "# print(target_result)"
   ]
  },
  {
   "cell_type": "markdown",
   "metadata": {},
   "source": [
    "## Plot result for interpretation\n"
   ]
  },
  {
   "cell_type": "code",
   "execution_count": null,
   "metadata": {},
   "outputs": [],
   "source": [
    "myFRLcolors = [ \"g\", \"r\",\"b\",]\n",
    "fig, axes = plt.subplots(1, 2, figsize=(15, 4))\n",
    "custom_cycler2 = cycler(color=myFRLcolors, linestyle=[\"--\"] * 3)\n",
    "plot_concentrations(target_result2.data[\"700TR1\"], axes[0], center_λ=0, linlog=True, cycler=custom_cycler2)\n",
    "plot_concentrations(target_result2.data[\"700TR2\"], axes[0], center_λ=0, linlog=True, cycler=custom_cycler2)\n",
    "custom_cycler = cycler(color=myFRLcolors)\n",
    "plot_concentrations(target_result2.data[\"670TR1\"], axes[0], center_λ=0, linlog=True, cycler=custom_cycler)\n",
    "plot_concentrations(target_result2.data[\"670TR2\"], axes[0], center_λ=0, linlog=True, cycler=custom_cycler)\n",
    "plot_sas(target_result2.data[\"670TR2\"], axes[1], cycler=custom_cycler)\n",
    "axes[0].set_xlabel(\"Time (ps)\")\n",
    "axes[0].set_ylabel(\"\")\n",
    "axes[0].axhline(0, color=\"k\", linewidth=1)\n",
    "axes[1].set_xlabel(\"Wavelength (nm)\")\n",
    "axes[1].set_ylabel(\"SADS (mOD)\")\n",
    "axes[1].set_title(\"SADS\")\n",
    "axes[1].axhline(0, color=\"k\", linewidth=1)\n",
    "axes[0].annotate(\"A\", xy=(-0.05, 1.02), xycoords=\"axes fraction\", fontsize=16)\n",
    "axes[1].annotate(\"B\", xy=(-0.05, 1.02), xycoords=\"axes fraction\", fontsize=16)"
   ]
  },
  {
   "cell_type": "code",
   "execution_count": null,
   "metadata": {},
   "outputs": [],
   "source": [
    "# Access the result's `optimized_parameters` to print a markdown table of the optimized parameters:\n",
    "target_result2.optimized_parameters"
   ]
  },
  {
   "cell_type": "markdown",
   "metadata": {},
   "source": [
    "## Residual analysis of all data"
   ]
  },
  {
   "cell_type": "code",
   "execution_count": null,
   "metadata": {},
   "outputs": [],
   "source": [
    "fig, axes = plot_svd_of_residual(target_result2.data[\"670TR1\"],target_result2.data[\"670TR2\"],target_result2.data[\"700TR1\"],target_result2.data[\"700TR2\"],linlog=True,linthresh=1)\n",
    "axes[0].annotate(\"A\", xy=(-0.1, 1), xycoords=\"axes fraction\", fontsize=16)\n",
    "axes[1].annotate(\"B\", xy=(-0.1, 1), xycoords=\"axes fraction\", fontsize=16)\n"
   ]
  },
  {
   "cell_type": "markdown",
   "metadata": {},
   "source": [
    "# Create scheme 3C introducing Ant1 and RP1 and optimize it"
   ]
  },
  {
   "cell_type": "code",
   "execution_count": null,
   "metadata": {},
   "outputs": [],
   "source": [
    "target_scheme = Scheme(\n",
    "    model=\"models/20231016step3C_Bulk_RP2_CA_Red_Ant1_RP1.yml\",\n",
    "    parameters=load_parameters(\"models/20231016step3C_Bulk_RP2_CA_Red_Ant1_RP1.csv\"),\n",
    "    maximum_number_function_evaluations=9,\n",
    "    clp_link_tolerance=0.1,\n",
    "    data={\n",
    "        # TA data\n",
    "        \"670TR1\": DATA_PATH1,\n",
    "        \"670TR2\": DATA_PATH2,\n",
    "        \"700TR1\": DATA_PATH3,\n",
    "        \"700TR2\": DATA_PATH4,\n",
    "        \"RP1SADS\": \"guide/20231016global_670TR2_clp_br4.ascii\",\n",
    "    },  # type: ignore\n",
    ")\n",
    "target_scheme.validate()"
   ]
  },
  {
   "cell_type": "code",
   "execution_count": null,
   "metadata": {},
   "outputs": [],
   "source": [
    "target_result3 = optimize(target_scheme, raise_exception=True)"
   ]
  },
  {
   "cell_type": "code",
   "execution_count": null,
   "metadata": {},
   "outputs": [],
   "source": [
    "# Just call the result to get the optimization result summary.\n",
    "target_result3\n",
    "# For easier copy-and-paste try:\n",
    "# print(target_result)"
   ]
  },
  {
   "cell_type": "markdown",
   "metadata": {},
   "source": [
    "## Plot result for interpretation\n"
   ]
  },
  {
   "cell_type": "code",
   "execution_count": null,
   "metadata": {},
   "outputs": [],
   "source": [
    "myFRLcolors = [  ColorCode.green,\"g\", \"r\",ColorCode.cyan,\"b\",]\n",
    "fig, axes = plt.subplots(1, 2, figsize=(15, 4))\n",
    "custom_cycler2 = cycler(color=myFRLcolors, linestyle=[\"--\"] * 5)\n",
    "plot_concentrations(target_result3.data[\"700TR1\"], axes[0], center_λ=0, linlog=True, cycler=custom_cycler2)\n",
    "plot_concentrations(target_result3.data[\"700TR2\"], axes[0], center_λ=0, linlog=True, cycler=custom_cycler2)\n",
    "custom_cycler = cycler(color=myFRLcolors)\n",
    "plot_concentrations(target_result3.data[\"670TR1\"], axes[0], center_λ=0, linlog=True, cycler=custom_cycler)\n",
    "plot_concentrations(target_result3.data[\"670TR2\"], axes[0], center_λ=0, linlog=True, cycler=custom_cycler)\n",
    "plot_sas(target_result3.data[\"670TR2\"], axes[1], cycler=custom_cycler)\n",
    "axes[0].set_xlabel(\"Time (ps)\")\n",
    "axes[0].set_ylabel(\"\")\n",
    "axes[0].axhline(0, color=\"k\", linewidth=1)\n",
    "axes[1].set_xlabel(\"Wavelength (nm)\")\n",
    "axes[1].set_ylabel(\"SADS (mOD)\")\n",
    "axes[1].set_title(\"SADS\")\n",
    "axes[1].axhline(0, color=\"k\", linewidth=1)\n",
    "axes[0].annotate(\"A\", xy=(-0.05, 1.02), xycoords=\"axes fraction\", fontsize=16)\n",
    "axes[1].annotate(\"B\", xy=(-0.05, 1.02), xycoords=\"axes fraction\", fontsize=16)"
   ]
  },
  {
   "cell_type": "code",
   "execution_count": null,
   "metadata": {},
   "outputs": [],
   "source": [
    "# Access the result's `optimized_parameters` to print a markdown table of the optimized parameters:\n",
    "target_result3.optimized_parameters"
   ]
  },
  {
   "cell_type": "markdown",
   "metadata": {},
   "source": [
    "## Residual analysis of all data"
   ]
  },
  {
   "cell_type": "code",
   "execution_count": null,
   "metadata": {},
   "outputs": [],
   "source": [
    "fig, axes = plot_svd_of_residual(target_result3.data[\"670TR1\"],target_result3.data[\"670TR2\"],target_result3.data[\"700TR1\"],target_result3.data[\"700TR2\"],linlog=True,linthresh=1)\n",
    "axes[0].annotate(\"A\", xy=(-0.1, 1), xycoords=\"axes fraction\", fontsize=16)\n",
    "axes[1].annotate(\"B\", xy=(-0.1, 1), xycoords=\"axes fraction\", fontsize=16)\n"
   ]
  },
  {
   "cell_type": "code",
   "execution_count": null,
   "metadata": {},
   "outputs": [],
   "source": [
    "# stop"
   ]
  },
  {
   "cell_type": "markdown",
   "metadata": {},
   "source": [
    "## Create the step 3C guidance data sets"
   ]
  },
  {
   "cell_type": "code",
   "execution_count": null,
   "metadata": {},
   "outputs": [],
   "source": [
    "from glotaran.io import save_dataset\n",
    "from glotaran.utils.io import create_clp_guide_dataset\n",
    "\n",
    "for species in target_result3.data[\"670TR2\"].species:\n",
    "    clp_guide = create_clp_guide_dataset(target_result3.data[\"670TR2\"], species.item())\n",
    "    string_in_string = \"guide/20231016step3C_Bulk_RP2_CA_Red_Ant1_RP1_clp_{}.ascii\".format(species.item())\n",
    "    save_dataset(clp_guide.data, string_in_string,allow_overwrite=True)"
   ]
  },
  {
   "cell_type": "markdown",
   "metadata": {},
   "source": [
    "# Create scheme 4D introducing RC and free Chla and optimize it"
   ]
  },
  {
   "cell_type": "code",
   "execution_count": null,
   "metadata": {},
   "outputs": [],
   "source": [
    "target_scheme = Scheme(\n",
    "    model=\"models/20231011step4D_Bulk_RP2_CA_Red_Ant1_RP1_RC_free.yml\",\n",
    "    parameters=load_parameters(\"models/20231011step4D_Bulk_RP2_CA_Red_Ant1_RP1_RC_free.csv\"),\n",
    "    maximum_number_function_evaluations=9,\n",
    "    clp_link_tolerance=0.1,\n",
    "    data={\n",
    "        # TA data\n",
    "        \"670TR1\": DATA_PATH1,\n",
    "        \"670TR2\": DATA_PATH2,\n",
    "        \"700TR1\": DATA_PATH3,\n",
    "        \"700TR2\": DATA_PATH4,\n",
    "        \"Ant1SADS\": \"guide/20231016step3C_Bulk_RP2_CA_Red_Ant1_RP1_clp_Ant1.ascii\",\n",
    "        \"RP1SADS\": \"guide/20231016step3C_Bulk_RP2_CA_Red_Ant1_RP1_clp_RP1.ascii\",\n",
    "        # \"RP1SADS\": \"guide/20231011global_670TR2_br4.ascii\",\n",
    "    },  # type: ignore\n",
    ")\n",
    "target_scheme.validate()"
   ]
  },
  {
   "cell_type": "code",
   "execution_count": null,
   "metadata": {},
   "outputs": [],
   "source": [
    "target_result4 = optimize(target_scheme, raise_exception=True)"
   ]
  },
  {
   "cell_type": "code",
   "execution_count": null,
   "metadata": {},
   "outputs": [],
   "source": [
    "# Just call the result to get the optimization result summary.\n",
    "target_result4\n",
    "# For easier copy-and-paste try:\n",
    "# print(target_result)"
   ]
  },
  {
   "cell_type": "markdown",
   "metadata": {},
   "source": [
    "## Plot result for interpretation\n"
   ]
  },
  {
   "cell_type": "code",
   "execution_count": null,
   "metadata": {},
   "outputs": [],
   "source": [
    "myFRLcolors = [ ColorCode.green,\"g\",  \"r\", \"k\",ColorCode.cyan, \"b\", \"y\"]\n",
    "fig, axes = plt.subplots(1, 2, figsize=(15, 4))\n",
    "custom_cycler2 = cycler(color=myFRLcolors, linestyle=[\"--\"] * 7)\n",
    "plot_concentrations(target_result4.data[\"700TR1\"], axes[0], center_λ=0, linlog=True, cycler=custom_cycler2)\n",
    "plot_concentrations(target_result4.data[\"700TR2\"], axes[0], center_λ=0, linlog=True, cycler=custom_cycler2)\n",
    "custom_cycler = cycler(color=myFRLcolors)\n",
    "plot_concentrations(target_result4.data[\"670TR1\"], axes[0], center_λ=0, linlog=True, cycler=custom_cycler)\n",
    "plot_concentrations(target_result4.data[\"670TR2\"], axes[0], center_λ=0, linlog=True, cycler=custom_cycler)\n",
    "plot_sas(target_result4.data[\"670TR2\"], axes[1], cycler=custom_cycler)\n",
    "axes[0].set_xlabel(\"Time (ps)\")\n",
    "axes[0].set_ylabel(\"\")\n",
    "axes[0].axhline(0, color=\"k\", linewidth=1)\n",
    "axes[1].set_xlabel(\"Wavelength (nm)\")\n",
    "axes[1].set_ylabel(\"SADS (mOD)\")\n",
    "axes[1].set_title(\"SADS\")\n",
    "axes[1].axhline(0, color=\"k\", linewidth=1)\n",
    "axes[0].annotate(\"A\", xy=(-0.05, 1.02), xycoords=\"axes fraction\", fontsize=16)\n",
    "axes[1].annotate(\"B\", xy=(-0.05, 1.02), xycoords=\"axes fraction\", fontsize=16)"
   ]
  },
  {
   "cell_type": "code",
   "execution_count": null,
   "metadata": {},
   "outputs": [],
   "source": [
    "# stop"
   ]
  },
  {
   "cell_type": "code",
   "execution_count": null,
   "metadata": {},
   "outputs": [],
   "source": [
    "# Access the result's `optimized_parameters` to print a markdown table of the optimized parameters:\n",
    "target_result4.optimized_parameters"
   ]
  },
  {
   "cell_type": "markdown",
   "metadata": {},
   "source": [
    "## Residual analysis of all data"
   ]
  },
  {
   "cell_type": "code",
   "execution_count": null,
   "metadata": {},
   "outputs": [],
   "source": [
    "fig, axes = plot_svd_of_residual(target_result4.data[\"670TR1\"],target_result4.data[\"670TR2\"],target_result4.data[\"700TR1\"],target_result4.data[\"700TR2\"],linlog=True,linthresh=1)\n",
    "axes[0].annotate(\"A\", xy=(-0.1, 1), xycoords=\"axes fraction\", fontsize=16)\n",
    "axes[1].annotate(\"B\", xy=(-0.1, 1), xycoords=\"axes fraction\", fontsize=16)\n"
   ]
  },
  {
   "cell_type": "markdown",
   "metadata": {},
   "source": [
    "There is no more structure in the 1st LSV of the residual matrices. However, the RMSE of the 670TR1 is 10% larger than the RMSE of the other three data sets."
   ]
  },
  {
   "cell_type": "markdown",
   "metadata": {},
   "source": [
    "## Residual analysis of the 670 nm excitation TR1 data"
   ]
  },
  {
   "cell_type": "code",
   "execution_count": null,
   "metadata": {},
   "outputs": [],
   "source": [
    "import matplotlib.pyplot as plt\n",
    "from pyglotaran_extras.plotting.plot_residual import plot_residual\n",
    "from pyglotaran_extras.plotting.plot_svd import plot_lsv_residual\n",
    "from pyglotaran_extras.plotting.plot_svd import plot_rsv_residual\n",
    "\n",
    "def plot_residual_and_svd(result_dataset):\n",
    "    fig, axes = plt.subplots(1, 3, figsize=(10, 2))\n",
    "    plot_residual(result_dataset, axes[0])\n",
    "    axes[0].get_legend().remove()\n",
    "    axes[0].set_ylabel(\"Wavelength (nm)\")\n",
    "    axes[0].set_title(\"residual 670TR1\")\n",
    "    plot_lsv_residual(result_dataset, axes[1], indices=[0,1])\n",
    "    axes[1].get_legend().remove()\n",
    "    axes[1].set_ylabel(\"\")\n",
    "    axes[1].set_title(\"residual LSV1,2\")\n",
    "    plot_rsv_residual(result_dataset, axes[2], indices=[0,1])\n",
    "    axes[2].set_xlabel(\"Wavelength (nm)\")\n",
    "    axes[2].set_title(\"residual RSV1,2\")\n",
    "    axes[2].get_legend().remove()\n",
    "    axes[2].set_ylabel(\"\")\n",
    "\n",
    "    return fig, axes\n",
    "\n",
    "\n",
    "fig, axes = plot_residual_and_svd(target_result4.data[\"670TR1\"])\n",
    "axes[0].annotate(\"A\", xy=(-0.1, 1), xycoords=\"axes fraction\", fontsize=16)\n",
    "axes[1].annotate(\"B\", xy=(-0.1, 1), xycoords=\"axes fraction\", fontsize=16)\n",
    "axes[2].annotate(\"C\", xy=(-0.1, 1), xycoords=\"axes fraction\", fontsize=16)"
   ]
  },
  {
   "cell_type": "markdown",
   "metadata": {},
   "source": [
    "LSV2 of the 670TR1 residual shows a trend on the timescale of 5 ps, and RSV2 is large around 700 nm. This can be solved by the splitting of the Red compartment in two parts. Thus, we introduce a 2nd Red compartment. Both are only mildly guided by the Red SADS estimated in step 4."
   ]
  },
  {
   "cell_type": "markdown",
   "metadata": {},
   "source": [
    "## Create the step 4D guidance data sets"
   ]
  },
  {
   "cell_type": "code",
   "execution_count": null,
   "metadata": {},
   "outputs": [],
   "source": [
    "# from glotaran.io import save_dataset\n",
    "# from glotaran.utils.io import create_clp_guide_dataset\n",
    "\n",
    "for species in target_result4.data[\"670TR2\"].species:\n",
    "    clp_guide = create_clp_guide_dataset(target_result4.data[\"670TR2\"], species.item())\n",
    "    string_in_string = \"guide/20231011step4D_Bulk_RP2_CA_Red_Ant1_RP1_RC_free_clp_{}.ascii\".format(species.item())\n",
    "    save_dataset(clp_guide.data, string_in_string,allow_overwrite=True)"
   ]
  },
  {
   "cell_type": "markdown",
   "metadata": {},
   "source": [
    "# Create scheme 5 introducing Red2 and optimize it"
   ]
  },
  {
   "cell_type": "code",
   "execution_count": null,
   "metadata": {},
   "outputs": [],
   "source": [
    "target_scheme = Scheme(\n",
    "    model=\"models/20231011step5_Bulk_RP2_CA_Red_Ant1_RP1_RC_free_Red2.yml\",\n",
    "    parameters=load_parameters(\"models/20231011step5_Bulk_RP2_CA_Red_Ant1_RP1_RC_free_Red2.csv\"),\n",
    "    maximum_number_function_evaluations=7,\n",
    "    clp_link_tolerance=0.1,\n",
    "    data={\n",
    "        # TA data\n",
    "        \"670TR1\": DATA_PATH1,\n",
    "        \"670TR2\": DATA_PATH2,\n",
    "        \"700TR1\": DATA_PATH3,\n",
    "        \"700TR2\": DATA_PATH4,\n",
    "        \"Red1SADS\": \"guide/20231011step4D_Bulk_RP2_CA_Red_Ant1_RP1_RC_free_clp_Red.ascii\",\n",
    "        \"RCSADS\": \"guide/20231011step4D_Bulk_RP2_CA_Red_Ant1_RP1_RC_free_clp_RC.ascii\",\n",
    "        \"Red2SADS\": \"guide/20231011step4D_Bulk_RP2_CA_Red_Ant1_RP1_RC_free_clp_Red.ascii\",\n",
    "        \"Ant1SADS\": \"guide/20231011step4D_Bulk_RP2_CA_Red_Ant1_RP1_RC_free_clp_Ant1.ascii\",\n",
    "        \"RP1SADS\": \"guide/20231011step4D_Bulk_RP2_CA_Red_Ant1_RP1_RC_free_clp_RP1.ascii\",\n",
    "        # \"RP2SADS\": \"guide/20231011step4D_Bulk_RP2_CA_Red_Ant1_RP1_RC_free_clp_RP2.ascii\",\n",
    "        # \"RP2aSADS\": \"guide/20231011step4D_Bulk_RP2_CA_Red_Ant1_RP1_RC_free_clp_RP2.ascii\",\n",
    "        \"freeSADS\": \"guide/20231011step4D_Bulk_RP2_CA_Red_Ant1_RP1_RC_free_clp_free.ascii\",\n",
    "    },  # type: ignore\n",
    ")\n",
    "target_scheme.validate()"
   ]
  },
  {
   "cell_type": "code",
   "execution_count": null,
   "metadata": {},
   "outputs": [],
   "source": [
    "target_result5 = optimize(target_scheme, raise_exception=True)"
   ]
  },
  {
   "cell_type": "markdown",
   "metadata": {},
   "source": [
    "- 9         6.8022e+02  with RP2&2A 7.30e-02\n",
    "- 3         7.9918e+02 with scat 7.91e-02\n",
    "-  7         6.6122e+02  weight Ant1 0.3\n",
    "-   7         6.6810e+02  weight Ant1 3.\n",
    "-     7         6.6583e+02 weight Ant1 1.\n",
    "-        7         6.6740e+02  weight Ant1 2."
   ]
  },
  {
   "cell_type": "markdown",
   "metadata": {},
   "source": [
    "### Results and parameters"
   ]
  },
  {
   "cell_type": "code",
   "execution_count": null,
   "metadata": {},
   "outputs": [],
   "source": [
    "# Just call the result to get the optimization result summary.\n",
    "target_result5\n",
    "# For easier copy-and-paste try:\n",
    "# print(target_result)"
   ]
  },
  {
   "cell_type": "markdown",
   "metadata": {},
   "source": [
    "Note that this RMSE of is virtually the same as that reached in a global analysis with 5 and 4 lifetimes for the 670 and 700 nm excitation TA data, respectively."
   ]
  },
  {
   "cell_type": "markdown",
   "metadata": {},
   "source": [
    "## Residual analysis of the 670 nm excitation TR1 data"
   ]
  },
  {
   "cell_type": "code",
   "execution_count": null,
   "metadata": {},
   "outputs": [],
   "source": [
    "fig, axes = plot_residual_and_svd(target_result5.data[\"670TR1\"])\n",
    "axes[0].annotate(\"A\", xy=(-0.1, 1), xycoords=\"axes fraction\", fontsize=16)\n",
    "axes[1].annotate(\"B\", xy=(-0.1, 1), xycoords=\"axes fraction\", fontsize=16)\n",
    "axes[2].annotate(\"C\", xy=(-0.1, 1), xycoords=\"axes fraction\", fontsize=16)"
   ]
  },
  {
   "cell_type": "markdown",
   "metadata": {},
   "source": [
    "The introduction of the 2nd Red compartment has led to a decrease in the RMSE and disappearance of the previous structure in LSV2 and RSV2 of 670TR1. Instead these are now dominated by the still imperfect description of the CA, cf. also the large residuals straddling time zero in (A)."
   ]
  },
  {
   "cell_type": "markdown",
   "metadata": {},
   "source": [
    "## Plot result for interpretation\n"
   ]
  },
  {
   "cell_type": "code",
   "execution_count": null,
   "metadata": {},
   "outputs": [],
   "source": [
    "myFRLcolors = [ ColorCode.green,\"g\",\"tab:orange\",  \"r\", \"k\",ColorCode.cyan, \"b\", \"y\",\"w\"]\n",
    "\n",
    "fig, axes = plt.subplots(1, 2, figsize=(15, 4))\n",
    "custom_cycler2 = cycler(color=myFRLcolors, linestyle=[\"--\"] * 9)\n",
    "plot_concentrations(target_result5.data[\"700TR1\"], axes[0], center_λ=0, linlog=True, cycler=custom_cycler2)\n",
    "plot_concentrations(target_result5.data[\"700TR2\"], axes[0], center_λ=0, linlog=True, cycler=custom_cycler2)\n",
    "custom_cycler = cycler(color=myFRLcolors)\n",
    "plot_concentrations(target_result5.data[\"670TR1\"], axes[0], center_λ=0, linlog=True, cycler=custom_cycler)\n",
    "plot_concentrations(target_result5.data[\"670TR2\"], axes[0], center_λ=0, linlog=True, cycler=custom_cycler)\n",
    "plot_sas(target_result5.data[\"670TR2\"], axes[1], cycler=custom_cycler)\n",
    "axes[0].set_xlabel(\"Time (ps)\")\n",
    "axes[0].set_ylabel(\"\")\n",
    "axes[0].axhline(0, color=\"k\", linewidth=1)\n",
    "axes[1].set_xlabel(\"Wavelength (nm)\")\n",
    "axes[1].set_ylabel(\"SADS (mOD)\")\n",
    "axes[1].set_title(\"SADS\")\n",
    "axes[1].axhline(0, color=\"k\", linewidth=1)\n",
    "axes[0].annotate(\"A\", xy=(-0.05, 1.02), xycoords=\"axes fraction\", fontsize=16)\n",
    "axes[1].annotate(\"B\", xy=(-0.05, 1.02), xycoords=\"axes fraction\", fontsize=16)"
   ]
  },
  {
   "cell_type": "markdown",
   "metadata": {},
   "source": [
    "The estimated SADS are still very raw (especially of Red2), since we use very small weights of the guidance SADS (estimated in step 4C) of 0.15 for Red1 and Red2 and 0.5 for RC."
   ]
  },
  {
   "cell_type": "markdown",
   "metadata": {},
   "source": [
    "## Comparison of the estimated SADS (red) and the guidance spectra (black)\n",
    "The guidance spectra are the SADS estimated with scheme 3C.\n",
    "Alternatively, (smooth) shapes can be estimated with the help of spectral models or splines. "
   ]
  },
  {
   "cell_type": "code",
   "execution_count": null,
   "metadata": {},
   "outputs": [],
   "source": [
    "\n",
    "fig, axes = plt.subplots(2, 3, figsize=(15, 7))\n",
    "target_result5.data[\"RCSADS\"].data.plot(ax=axes[0,0])\n",
    "target_result5.data[\"RCSADS\"].fitted_data.plot(ax=axes[0,0])\n",
    "target_result5.data[\"Red1SADS\"].data.plot(ax=axes[0,1])\n",
    "target_result5.data[\"Red1SADS\"].fitted_data.plot(ax=axes[0,1])\n",
    "target_result5.data[\"Red2SADS\"].data.plot(ax=axes[0,2])\n",
    "target_result5.data[\"Red2SADS\"].fitted_data.plot(ax=axes[0,2])\n",
    "target_result5.data[\"RP1SADS\"].data.plot(ax=axes[1,0])\n",
    "target_result5.data[\"RP1SADS\"].fitted_data.plot(ax=axes[1,0])\n",
    "target_result5.data[\"Ant1SADS\"].data.plot(ax=axes[1,1])\n",
    "target_result5.data[\"Ant1SADS\"].fitted_data.plot(ax=axes[1,1])\n",
    "target_result5.data[\"freeSADS\"].data.plot(ax=axes[1,2])\n",
    "target_result5.data[\"freeSADS\"].fitted_data.plot(ax=axes[1,2])\n",
    "axes[0,0].set_xlabel(\"\")\n",
    "axes[0,0].set_ylabel(\"SADS (mOD)\")\n",
    "axes[0,0].set_title(\"RC\")\n",
    "axes[0,1].set_xlabel(\"\")\n",
    "axes[0,1].set_ylabel(\"SADS (mOD)\")\n",
    "axes[0,1].set_title(\"Red1\")\n",
    "axes[0,2].set_xlabel(\"\")\n",
    "axes[0,2].set_ylabel(\"SADS (mOD)\")\n",
    "axes[0,2].set_title(\"Red2\")\n",
    "axes[1,0].set_xlabel(\"Wavelength (nm)\")\n",
    "axes[1,0].set_ylabel(\"SADS (mOD)\")\n",
    "axes[1,0].set_title(\"RP1\")\n",
    "axes[1,1].set_xlabel(\"Wavelength (nm)\")\n",
    "axes[1,1].set_ylabel(\"SADS (mOD)\")\n",
    "axes[1,1].set_title(\"Ant1\")\n",
    "axes[1,2].set_xlabel(\"Wavelength (nm)\")\n",
    "axes[1,2].set_ylabel(\"SADS (mOD)\")\n",
    "axes[1,2].set_title(\"free\")"
   ]
  },
  {
   "cell_type": "markdown",
   "metadata": {},
   "source": [
    "## Create the step 5 guidance data sets"
   ]
  },
  {
   "cell_type": "code",
   "execution_count": null,
   "metadata": {},
   "outputs": [],
   "source": [
    "# from glotaran.io import save_dataset\n",
    "# from glotaran.utils.io import create_clp_guide_dataset\n",
    "\n",
    "for species in target_result5.data[\"670TR2\"].species:\n",
    "    clp_guide = create_clp_guide_dataset(target_result5.data[\"670TR2\"], species.item())\n",
    "    string_in_string = \"guide/20231011step5_Bulk_RP2_CA_Red_Ant1_RP1_RC_free_Red2_clp_{}.ascii\".format(species.item())\n",
    "    save_dataset(clp_guide.data, string_in_string,allow_overwrite=True)"
   ]
  },
  {
   "cell_type": "markdown",
   "metadata": {},
   "source": [
    "Now in order to compute smooth guidance SADS we fit the estimated SADS of RC, Red1 and Red2 with a sum of two skewed gaussians, and employ these fits as the new guidance SADS, employing heavier weights of 0.4 and 0.7 for Red1 and Red2."
   ]
  },
  {
   "cell_type": "markdown",
   "metadata": {},
   "source": [
    "# Fit of the estimated SADS of RC, Red1 and Red2 with a sum of two skewed gaussians"
   ]
  },
  {
   "cell_type": "code",
   "execution_count": null,
   "metadata": {},
   "outputs": [],
   "source": [
    "# from pathlib import Path\n",
    "\n",
    "# import matplotlib.pyplot as plt\n",
    "from glotaran.io import load_dataset, load_model, load_parameters\n",
    "# from glotaran.optimization.optimize import optimize\n",
    "# from glotaran.project.scheme import Scheme\n",
    "# from pyglotaran_extras.plotting.plot_overview import plot_overview\n",
    "from pyglotaran_extras.plotting.style import PlotStyle\n",
    "# from pyglotaran_extras import plot_data_overview\n",
    "\n",
    "plot_style = PlotStyle()\n",
    "plt.rc(\"axes\", prop_cycle=plot_style.cycler)\n",
    "plt.rcParams[\"figure.figsize\"] = (21, 14)\n",
    "\n",
    "dataset = load_dataset(\"guide/20231011step5_Bulk_RP2_CA_Red_Ant1_RP1_RC_free_Red2_clp_RC.ascii\")\n",
    "# plot_data_overview(dataset)"
   ]
  },
  {
   "cell_type": "code",
   "execution_count": null,
   "metadata": {},
   "outputs": [],
   "source": [
    "    spectral_model = load_model(\"models/spectral_model.yml\")\n",
    "    spectral_parameters = load_parameters(\"models/spectral_params.yml\")\n",
    "    spectral_model.validate(parameters=spectral_parameters)\n",
    "\n",
    "    spectral_scheme = Scheme(\n",
    "        spectral_model,\n",
    "        spectral_parameters,\n",
    "        data={\"dataset\": dataset},\n",
    "    )\n",
    "    spectral_result = optimize(spectral_scheme)\n",
    "    # spectral_result\n",
    "    # print(f\"\\n{'#'*3} Spectral Model - Optimization Result {'#'*3}\\n\")\n",
    "    # print(spectral_result)\n",
    "\n",
    "    # %%\n",
    "    # print(f\"\\n{'#'*3} Spectral Model - Optimized Parameters {'#'*3}\\n\")\n",
    "    spectral_result.optimized_parameters\n",
    "    # BUG in plot_overview\n",
    "    # plot_overview(spectral_result.data[\"dataset\"], linlog=False)\n"
   ]
  },
  {
   "cell_type": "code",
   "execution_count": null,
   "metadata": {},
   "outputs": [],
   "source": [
    "spectral_result"
   ]
  },
  {
   "cell_type": "code",
   "execution_count": null,
   "metadata": {},
   "outputs": [],
   "source": [
    "from pyglotaran_extras.plotting.plot_overview import plot_overview\n",
    "fig, axes = plot_overview(spectral_result.data[\"dataset\"], linlog=False)\n"
   ]
  },
  {
   "cell_type": "code",
   "execution_count": null,
   "metadata": {},
   "outputs": [],
   "source": [
    "from glotaran.io import save_dataset\n",
    "\n",
    "# string_in_string = \"guide/20231011step5_Bulk_RP2_CA_Red_Ant1_RP1_RC_free_Red2_clp_spectral_{}.ascii\".format(species.item())\n",
    "save_dataset(spectral_result.data[\"dataset\"].fitted_data, \"guide/20231011step5_Bulk_RP2_CA_Red_Ant1_RP1_RC_free_Red2_clp_RC_fitted.ascii\",allow_overwrite=True)"
   ]
  },
  {
   "cell_type": "code",
   "execution_count": null,
   "metadata": {},
   "outputs": [],
   "source": [
    "spectral_resultRC=spectral_result"
   ]
  },
  {
   "cell_type": "code",
   "execution_count": null,
   "metadata": {},
   "outputs": [],
   "source": [
    "plot_style = PlotStyle()\n",
    "plt.rc(\"axes\", prop_cycle=plot_style.cycler)\n",
    "plt.rcParams[\"figure.figsize\"] = (21, 14)\n",
    "\n",
    "dataset = load_dataset(\"guide/20231011step5_Bulk_RP2_CA_Red_Ant1_RP1_RC_free_Red2_clp_Red1.ascii\")\n",
    "# plot_data_overview(dataset)"
   ]
  },
  {
   "cell_type": "code",
   "execution_count": null,
   "metadata": {},
   "outputs": [],
   "source": [
    "    spectral_model = load_model(\"models/spectral_model.yml\")\n",
    "    spectral_parameters = load_parameters(\"models/spectral_params.yml\")\n",
    "    spectral_model.validate(parameters=spectral_parameters)\n",
    "\n",
    "    spectral_scheme = Scheme(\n",
    "        spectral_model,\n",
    "        spectral_parameters,\n",
    "        data={\"dataset\": dataset},\n",
    "    )\n",
    "    spectral_result = optimize(spectral_scheme)\n",
    "    # spectral_result\n",
    "    # print(f\"\\n{'#'*3} Spectral Model - Optimization Result {'#'*3}\\n\")\n",
    "    # print(spectral_result)\n",
    "\n",
    "    # %%\n",
    "    # print(f\"\\n{'#'*3} Spectral Model - Optimized Parameters {'#'*3}\\n\")\n",
    "    spectral_result.optimized_parameters\n",
    "    # BUG in plot_overview\n",
    "    # plot_overview(spectral_result.data[\"dataset\"], linlog=False)\n"
   ]
  },
  {
   "cell_type": "code",
   "execution_count": null,
   "metadata": {},
   "outputs": [],
   "source": [
    "spectral_result"
   ]
  },
  {
   "cell_type": "code",
   "execution_count": null,
   "metadata": {},
   "outputs": [],
   "source": [
    "from pyglotaran_extras.plotting.plot_overview import plot_overview\n",
    "fig, axes = plot_overview(spectral_result.data[\"dataset\"], linlog=False)\n"
   ]
  },
  {
   "cell_type": "code",
   "execution_count": null,
   "metadata": {},
   "outputs": [],
   "source": [
    "from glotaran.io import save_dataset\n",
    "\n",
    "# string_in_string = \"guide/20231011step5_Bulk_RP2_CA_Red_Ant1_RP1_RC_free_Red2_clp_spectral_{}.ascii\".format(species.item())\n",
    "save_dataset(spectral_result.data[\"dataset\"].fitted_data, \"guide/20231011step5_Bulk_RP2_CA_Red_Ant1_RP1_RC_free_Red2_clp_Red1_fitted.ascii\",allow_overwrite=True)"
   ]
  },
  {
   "cell_type": "code",
   "execution_count": null,
   "metadata": {},
   "outputs": [],
   "source": [
    "spectral_resultRed1=spectral_result"
   ]
  },
  {
   "cell_type": "code",
   "execution_count": null,
   "metadata": {},
   "outputs": [],
   "source": [
    "plot_style = PlotStyle()\n",
    "plt.rc(\"axes\", prop_cycle=plot_style.cycler)\n",
    "plt.rcParams[\"figure.figsize\"] = (21, 14)\n",
    "\n",
    "dataset = load_dataset(\"guide/20231011step5_Bulk_RP2_CA_Red_Ant1_RP1_RC_free_Red2_clp_Red2.ascii\")\n",
    "# plot_data_overview(dataset)"
   ]
  },
  {
   "cell_type": "code",
   "execution_count": null,
   "metadata": {},
   "outputs": [],
   "source": [
    "    spectral_model = load_model(\"models/spectral_model.yml\")\n",
    "    spectral_parameters = load_parameters(\"models/spectral_params.yml\")\n",
    "    spectral_model.validate(parameters=spectral_parameters)\n",
    "\n",
    "    spectral_scheme = Scheme(\n",
    "        spectral_model,\n",
    "        spectral_parameters,\n",
    "        data={\"dataset\": dataset},\n",
    "    )\n",
    "    spectral_result = optimize(spectral_scheme)\n",
    "    # spectral_result\n",
    "    # print(f\"\\n{'#'*3} Spectral Model - Optimization Result {'#'*3}\\n\")\n",
    "    # print(spectral_result)\n",
    "\n",
    "    # %%\n",
    "    # print(f\"\\n{'#'*3} Spectral Model - Optimized Parameters {'#'*3}\\n\")\n",
    "    spectral_result.optimized_parameters\n",
    "    # BUG in plot_overview\n",
    "    # plot_overview(spectral_result.data[\"dataset\"], linlog=False)\n"
   ]
  },
  {
   "cell_type": "code",
   "execution_count": null,
   "metadata": {},
   "outputs": [],
   "source": [
    "spectral_result"
   ]
  },
  {
   "cell_type": "code",
   "execution_count": null,
   "metadata": {},
   "outputs": [],
   "source": [
    "from pyglotaran_extras.plotting.plot_overview import plot_overview\n",
    "fig, axes = plot_overview(spectral_result.data[\"dataset\"], linlog=False)\n"
   ]
  },
  {
   "cell_type": "code",
   "execution_count": null,
   "metadata": {},
   "outputs": [],
   "source": [
    "from glotaran.io import save_dataset\n",
    "\n",
    "# string_in_string = \"guide/20231011step5_Bulk_RP2_CA_Red_Ant1_RP1_RC_free_Red2_clp_spectral_{}.ascii\".format(species.item())\n",
    "save_dataset(spectral_result.data[\"dataset\"].fitted_data, \"guide/20231011step5_Bulk_RP2_CA_Red_Ant1_RP1_RC_free_Red2_clp_Red2_fitted.ascii\",allow_overwrite=True)"
   ]
  },
  {
   "cell_type": "code",
   "execution_count": null,
   "metadata": {},
   "outputs": [],
   "source": [
    "spectral_resultRed2=spectral_result"
   ]
  },
  {
   "cell_type": "markdown",
   "metadata": {},
   "source": [
    "# Spectral fits of the raw SADS of RC, Red1, and Red2"
   ]
  },
  {
   "cell_type": "code",
   "execution_count": null,
   "metadata": {},
   "outputs": [],
   "source": [
    "fig, axes = plt.subplots(1, 3, figsize=(15, 4))\n",
    "spectral_resultRC.data[\"dataset\"].data.plot(ax=axes[0])\n",
    "spectral_resultRC.data[\"dataset\"].fitted_data.plot(ax=axes[0])\n",
    "spectral_resultRed1.data[\"dataset\"].data.plot(ax=axes[1])\n",
    "spectral_resultRed1.data[\"dataset\"].fitted_data.plot(ax=axes[1])\n",
    "spectral_resultRed2.data[\"dataset\"].data.plot(ax=axes[2])\n",
    "spectral_resultRed2.data[\"dataset\"].fitted_data.plot(ax=axes[2])\n",
    "axes[0].set_xlabel(\"Wavelength (nm)\")\n",
    "axes[0].set_ylabel(\"SADS (mOD)\")\n",
    "axes[0].set_title(\"RC\")\n",
    "axes[1].set_xlabel(\"Wavelength (nm)\")\n",
    "axes[1].set_ylabel(\"SADS (mOD)\")\n",
    "axes[1].set_title(\"Red1\")\n",
    "axes[2].set_xlabel(\"Wavelength (nm)\")\n",
    "axes[2].set_ylabel(\"SADS (mOD)\")\n",
    "axes[2].set_title(\"Red2\")\n"
   ]
  },
  {
   "cell_type": "markdown",
   "metadata": {},
   "source": [
    "# Use scheme 5 with smooth guidance SADS and optimize it"
   ]
  },
  {
   "cell_type": "code",
   "execution_count": null,
   "metadata": {},
   "outputs": [],
   "source": [
    "target_scheme = Scheme(\n",
    "    model=\"models/20231011step5_Bulk_RP2_CA_Red_Ant1_RP1_RC_free_Red2refined.yml\",\n",
    "    parameters=load_parameters(\"models/20231011step5_Bulk_RP2_CA_Red_Ant1_RP1_RC_free_Red2.csv\"),\n",
    "    maximum_number_function_evaluations=9,\n",
    "    clp_link_tolerance=0.1,\n",
    "    data={\n",
    "        # TA data\n",
    "        \"670TR1\": DATA_PATH1,\n",
    "        \"670TR2\": DATA_PATH2,\n",
    "        \"700TR1\": DATA_PATH3,\n",
    "        \"700TR2\": DATA_PATH4,\n",
    "        \"RCSADS\": \"guide/20231011step5_Bulk_RP2_CA_Red_Ant1_RP1_RC_free_Red2_clp_RC_fitted.ascii\",\n",
    "        \"Red1SADS\": \"guide/20231011step5_Bulk_RP2_CA_Red_Ant1_RP1_RC_free_Red2_clp_Red1_fitted.ascii\",\n",
    "        \"Red2SADS\": \"guide/20231011step5_Bulk_RP2_CA_Red_Ant1_RP1_RC_free_Red2_clp_Red2_fitted.ascii\",\n",
    "        \"Ant1SADS\": \"guide/20231011step4D_Bulk_RP2_CA_Red_Ant1_RP1_RC_free_clp_Ant1.ascii\",\n",
    "        \"RP1SADS\": \"guide/20231011step4D_Bulk_RP2_CA_Red_Ant1_RP1_RC_free_clp_RP1.ascii\",\n",
    "        # \"RP2SADS\": \"guide/20231011step4D_Bulk_RP2_CA_Red_Ant1_RP1_RC_free_clp_RP2.ascii\",\n",
    "        # \"RP2aSADS\": \"guide/20231011step4D_Bulk_RP2_CA_Red_Ant1_RP1_RC_free_clp_RP2.ascii\",\n",
    "        \"freeSADS\": \"guide/20231011step4D_Bulk_RP2_CA_Red_Ant1_RP1_RC_free_clp_free.ascii\",\n",
    "    },  # type: ignore\n",
    ")\n",
    "target_scheme.validate()"
   ]
  },
  {
   "cell_type": "code",
   "execution_count": null,
   "metadata": {},
   "outputs": [],
   "source": [
    "target_result = optimize(target_scheme, raise_exception=True)"
   ]
  },
  {
   "cell_type": "markdown",
   "metadata": {},
   "source": [
    "-      Step 5 :  7         6.6740e+02  weight Ant1 2.\n",
    "-  9         6.6732e+02 weight Ant1 70.\n",
    "-    9         6.6538e+02    weight Ant1 2. Red2 0.4\n",
    "-     9         6.7674e+02  weight Ant1 2. Red2 1.\n",
    "-     9         6.7314e+02   weight Ant1 2. Red2 0.7"
   ]
  },
  {
   "cell_type": "markdown",
   "metadata": {},
   "source": [
    "### Results and parameters"
   ]
  },
  {
   "cell_type": "code",
   "execution_count": null,
   "metadata": {},
   "outputs": [],
   "source": [
    "# Just call the result to get the optimization result summary.\n",
    "target_result\n",
    "# For easier copy-and-paste try:\n",
    "# print(target_result)"
   ]
  },
  {
   "cell_type": "markdown",
   "metadata": {},
   "source": [
    "## Plot result for interpretation\n"
   ]
  },
  {
   "cell_type": "code",
   "execution_count": null,
   "metadata": {},
   "outputs": [],
   "source": [
    "myFRLcolors = [ ColorCode.green,\"g\",\"tab:orange\",  \"r\", \"k\",ColorCode.cyan, \"b\", \"y\"]\n",
    "\n",
    "fig, axes = plt.subplots(1, 2, figsize=(15, 4))\n",
    "custom_cycler2 = cycler(color=myFRLcolors, linestyle=[\"--\"] * 8)\n",
    "plot_concentrations(target_result.data[\"700TR1\"], axes[0], center_λ=0, linlog=True, cycler=custom_cycler2)\n",
    "plot_concentrations(target_result.data[\"700TR2\"], axes[0], center_λ=0, linlog=True, cycler=custom_cycler2)\n",
    "custom_cycler = cycler(color=myFRLcolors)\n",
    "plot_concentrations(target_result.data[\"670TR1\"], axes[0], center_λ=0, linlog=True, cycler=custom_cycler)\n",
    "plot_concentrations(target_result.data[\"670TR2\"], axes[0], center_λ=0, linlog=True, cycler=custom_cycler)\n",
    "plot_sas(target_result.data[\"670TR2\"], axes[1], cycler=custom_cycler)\n",
    "axes[0].set_xlabel(\"Time (ps)\")\n",
    "axes[0].set_ylabel(\"\")\n",
    "axes[0].axhline(0, color=\"k\", linewidth=1)\n",
    "axes[1].set_xlabel(\"Wavelength (nm)\")\n",
    "axes[1].set_ylabel(\"SADS (mOD)\")\n",
    "axes[1].set_title(\"SADS\")\n",
    "axes[1].axhline(0, color=\"k\", linewidth=1)\n",
    "axes[0].annotate(\"A\", xy=(-0.05, 1.02), xycoords=\"axes fraction\", fontsize=16)\n",
    "axes[1].annotate(\"B\", xy=(-0.05, 1.02), xycoords=\"axes fraction\", fontsize=16)"
   ]
  },
  {
   "cell_type": "markdown",
   "metadata": {},
   "source": [
    "## Residual analysis of all data"
   ]
  },
  {
   "cell_type": "code",
   "execution_count": null,
   "metadata": {},
   "outputs": [],
   "source": [
    "fig, axes = plot_svd_of_residual(target_result.data[\"670TR1\"],target_result.data[\"670TR2\"],target_result.data[\"700TR1\"],target_result.data[\"700TR2\"],linlog=True,linthresh=1)\n",
    "axes[0].annotate(\"A\", xy=(-0.1, 1), xycoords=\"axes fraction\", fontsize=16)\n",
    "axes[1].annotate(\"B\", xy=(-0.1, 1), xycoords=\"axes fraction\", fontsize=16)\n"
   ]
  },
  {
   "cell_type": "markdown",
   "metadata": {},
   "source": [
    "To save the results of the optimization we can use the `save_result` command.\n",
    "\n",
    "Because it saves *everything* it consumes about 50MB of disk space per save."
   ]
  },
  {
   "cell_type": "code",
   "execution_count": null,
   "metadata": {},
   "outputs": [],
   "source": [
    "save_result(\n",
    "    result=target_result,\n",
    "    result_path=\"results/20231016/result.yaml\",\n",
    "    allow_overwrite=True,\n",
    ")"
   ]
  },
  {
   "cell_type": "markdown",
   "metadata": {},
   "source": [
    "## Comparison of the estimated SADS (red) and the guidance spectra (black)\n",
    "The guidance spectra are the SADS estimated with scheme 3C.\n",
    "Alternatively, (smooth) shapes can be estimated with the help of spectral models or splines. "
   ]
  },
  {
   "cell_type": "code",
   "execution_count": null,
   "metadata": {},
   "outputs": [],
   "source": [
    "\n",
    "fig, axes = plt.subplots(2, 3, figsize=(15, 7))\n",
    "target_result.data[\"RCSADS\"].data.plot(ax=axes[0,0])\n",
    "target_result.data[\"RCSADS\"].fitted_data.plot(ax=axes[0,0])\n",
    "target_result.data[\"Red1SADS\"].data.plot(ax=axes[0,1])\n",
    "target_result.data[\"Red1SADS\"].fitted_data.plot(ax=axes[0,1])\n",
    "target_result.data[\"Red2SADS\"].data.plot(ax=axes[0,2])\n",
    "target_result.data[\"Red2SADS\"].fitted_data.plot(ax=axes[0,2])\n",
    "target_result.data[\"RP1SADS\"].data.plot(ax=axes[1,0])\n",
    "target_result.data[\"RP1SADS\"].fitted_data.plot(ax=axes[1,0])\n",
    "target_result.data[\"Ant1SADS\"].data.plot(ax=axes[1,1])\n",
    "target_result.data[\"Ant1SADS\"].fitted_data.plot(ax=axes[1,1])\n",
    "target_result.data[\"freeSADS\"].data.plot(ax=axes[1,2])\n",
    "target_result.data[\"freeSADS\"].fitted_data.plot(ax=axes[1,2])\n",
    "axes[0,0].set_xlabel(\"\")\n",
    "axes[0,0].set_ylabel(\"SADS (mOD)\")\n",
    "axes[0,0].set_title(\"RC\")\n",
    "axes[0,1].set_xlabel(\"\")\n",
    "axes[0,1].set_ylabel(\"SADS (mOD)\")\n",
    "axes[0,1].set_title(\"Red1\")\n",
    "axes[0,2].set_xlabel(\"\")\n",
    "axes[0,2].set_ylabel(\"SADS (mOD)\")\n",
    "axes[0,2].set_title(\"Red2\")\n",
    "axes[1,0].set_xlabel(\"Wavelength (nm)\")\n",
    "axes[1,0].set_ylabel(\"SADS (mOD)\")\n",
    "axes[1,0].set_title(\"RP1\")\n",
    "axes[1,1].set_xlabel(\"Wavelength (nm)\")\n",
    "axes[1,1].set_ylabel(\"SADS (mOD)\")\n",
    "axes[1,1].set_title(\"Ant1\")\n",
    "axes[1,2].set_xlabel(\"Wavelength (nm)\")\n",
    "axes[1,2].set_ylabel(\"SADS (mOD)\")\n",
    "axes[1,2].set_title(\"free\")"
   ]
  },
  {
   "cell_type": "code",
   "execution_count": null,
   "metadata": {},
   "outputs": [],
   "source": [
    "# Access the result's `optimized_parameters` to print a markdown table of the optimized parameters:\n",
    "target_result.optimized_parameters"
   ]
  },
  {
   "cell_type": "markdown",
   "metadata": {},
   "source": [
    "# Result plots"
   ]
  },
  {
   "cell_type": "markdown",
   "metadata": {},
   "source": [
    "<sub>Note: The color scheme of the plots in this notebook may not match published figures.</sub>"
   ]
  },
  {
   "cell_type": "markdown",
   "metadata": {},
   "source": [
    "## Fit quality"
   ]
  },
  {
   "cell_type": "code",
   "execution_count": null,
   "metadata": {},
   "outputs": [],
   "source": [
    "target_result_TA = (\n",
    "    target_result.data[\"670TR1\"],\n",
    "    target_result.data[\"670TR2\"],\n",
    "    target_result.data[\"700TR1\"],\n",
    "    target_result.data[\"700TR2\"],\n",
    ")\n",
    "wavelengths = select_plot_wavelengths(target_result_TA, equidistant_wavelengths=True)\n",
    "plot_fitted_traces(target_result_TA, wavelengths, linlog=True, linthresh=1);"
   ]
  },
  {
   "cell_type": "markdown",
   "metadata": {},
   "source": [
    "The above command `plot_fitted_traces` is used to plot a selection of traces for a set of wavelengths (autogenerated using the `select_plot_wavelengths` function).\n",
    "To show to make a manual selection of traces, and 'dress up the plot' see the code below, which reproduces Figure 2 of the paper."
   ]
  },
  {
   "cell_type": "code",
   "execution_count": null,
   "metadata": {},
   "outputs": [],
   "source": [
    "# Reproduction of Figure 2 of the paper\n",
    "import warnings\n",
    "from pyglotaran_extras.plotting.style import ColorCode as cc\n",
    "\n",
    "with warnings.catch_warnings():\n",
    "    warnings.simplefilter(\"ignore\")\n",
    "    fig, ax_ = plot_fitted_traces(\n",
    "        target_result_TA,\n",
    "        [685, 700, 720, 760],\n",
    "        linlog=True,\n",
    "        linthresh=1,  # published figure uses 0.3 for easthetic reasons, but here 1 looks better\n",
    "        axes_shape=(2, 2),\n",
    "        figsize=(6, 4),\n",
    "        title=\"\",\n",
    "        per_axis_legend=True,\n",
    "        cycler=cycler(\n",
    "            color=[\n",
    "                cc.grey,\n",
    "                cc.black,\n",
    "                cc.grey,\n",
    "                cc.black,\n",
    "                cc.orange,\n",
    "                cc.red,\n",
    "                cc.orange,\n",
    "                cc.red,\n",
    "            ]\n",
    "        ),\n",
    "    )\n",
    "    handles, labels = ax_.flatten()[0].get_legend_handles_labels()\n",
    "    for i in range(len(handles)):\n",
    "        if i == 1:\n",
    "            labels[i] = \"670 nm excitation\"\n",
    "        elif i == 5:\n",
    "            labels[i] = \"700 nm excitation\"\n",
    "        else:\n",
    "            labels[i] = \"_Hidden\"\n",
    "    for idx, ax in enumerate(ax_.flatten()):\n",
    "        ax.set_ylabel(ax.title.get_text().replace(\"spectral = \", \"\"))\n",
    "        if idx > 1:\n",
    "            ax.set_xlabel(\"Time (ps)\")\n",
    "        else:\n",
    "            ax.set_xlabel(\"\")\n",
    "        ax.set_title(\"\")\n",
    "        if ax.get_legend() is not None:\n",
    "            ax.get_legend().remove()\n",
    "        for line in ax.lines:\n",
    "            line.set_linewidth(0.5)  # Set the line width here\n",
    "    fig.legend(\n",
    "        handles,\n",
    "        labels,\n",
    "        bbox_to_anchor=(0.5, -0.05),\n",
    "        loc=\"lower center\",\n",
    "        ncol=len(handles),\n",
    "    )\n",
    "    fig.tight_layout()"
   ]
  },
  {
   "cell_type": "markdown",
   "metadata": {},
   "source": [
    "## Overview 670 exc"
   ]
  },
  {
   "cell_type": "code",
   "execution_count": null,
   "metadata": {},
   "outputs": [],
   "source": [
    "plot_overview(\n",
    "    target_result.data[\"670TR1\"],\n",
    "    nr_of_data_svd_vectors=4,\n",
    "    nr_of_residual_svd_vectors=2,\n",
    "    linlog=False,\n",
    "    linthresh=1,\n",
    "    cycler=cycler(\n",
    "        color=[ColorCode.green, \"g\", ColorCode.orange,\"r\", \"k\", ColorCode.cyan, \"b\", \"y\"]\n",
    "    ),\n",
    ");"
   ]
  },
  {
   "cell_type": "code",
   "execution_count": null,
   "metadata": {},
   "outputs": [],
   "source": [
    "plot_overview(\n",
    "    target_result.data[\"670TR2\"],\n",
    "    nr_of_data_svd_vectors=4,\n",
    "    nr_of_residual_svd_vectors=2,\n",
    "    linlog=False,\n",
    "    linthresh=1,\n",
    "    cycler=cycler(\n",
    "        color=[ColorCode.green, \"g\", ColorCode.orange,\"r\", \"k\", ColorCode.cyan, \"b\", \"y\"]\n",
    "    ),\n",
    ");"
   ]
  },
  {
   "cell_type": "markdown",
   "metadata": {},
   "source": [
    "## Overview 700 exc"
   ]
  },
  {
   "cell_type": "code",
   "execution_count": null,
   "metadata": {},
   "outputs": [],
   "source": [
    "plot_overview(\n",
    "    target_result.data[\"700TR1\"],\n",
    "    nr_of_data_svd_vectors=4,\n",
    "    nr_of_residual_svd_vectors=2,\n",
    "    linlog=False,\n",
    "    linthresh=1,\n",
    "    cycler=cycler(\n",
    "        color=[ColorCode.green, \"g\", ColorCode.orange,\"r\", \"k\", ColorCode.cyan, \"b\", \"y\"]\n",
    "    ),\n",
    ");"
   ]
  },
  {
   "cell_type": "code",
   "execution_count": null,
   "metadata": {},
   "outputs": [],
   "source": [
    "plot_overview(\n",
    "    target_result.data[\"700TR2\"],\n",
    "    nr_of_data_svd_vectors=5,\n",
    "    nr_of_residual_svd_vectors=2,\n",
    "    linlog=False,\n",
    "    linthresh=1,\n",
    "    cycler=cycler(\n",
    "        color=[ColorCode.green, \"g\", ColorCode.orange,\"r\", \"k\", ColorCode.cyan, \"b\", \"y\"]\n",
    "    ),\n",
    ");"
   ]
  },
  {
   "cell_type": "markdown",
   "metadata": {},
   "source": [
    "### Amplitude matrices"
   ]
  },
  {
   "cell_type": "code",
   "execution_count": null,
   "metadata": {},
   "outputs": [],
   "source": [
    "show_a_matrixes(target_result)"
   ]
  },
  {
   "cell_type": "markdown",
   "metadata": {},
   "source": [
    "# K-matrix of the target model"
   ]
  },
  {
   "cell_type": "code",
   "execution_count": null,
   "metadata": {},
   "outputs": [],
   "source": [
    "compartments = target_scheme.model.initial_concentration[\"input700\"].compartments\n",
    "\n",
    "target_scheme.model.k_matrix[\"kmWL\"].matrix_as_markdown(compartments).replace(\"0.0000e+00\", \"\")"
   ]
  }
 ],
 "metadata": {
  "kernelspec": {
   "display_name": "Python 3 (ipykernel)",
   "language": "python",
   "name": "python3"
  },
  "language_info": {
   "codemirror_mode": {
    "name": "ipython",
    "version": 3
   },
   "file_extension": ".py",
   "mimetype": "text/x-python",
   "name": "python",
   "nbconvert_exporter": "python",
   "pygments_lexer": "ipython3",
   "version": "3.10.6"
  },
  "vscode": {
   "interpreter": {
    "hash": "c96939a00adbd8139175687d27213cba589faa8203f47f613c3350e59358e0cf"
   }
  }
 },
 "nbformat": 4,
 "nbformat_minor": 4
}

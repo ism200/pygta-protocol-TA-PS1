{
 "cells": [
  {
   "cell_type": "markdown",
   "metadata": {},
   "source": [
    "# Step 3 Target analysis of 670 and 700nm excitation TA data of WL of SCy6803\n"
   ]
  },
  {
   "cell_type": "markdown",
   "metadata": {},
   "source": [
    "### Package imports\n"
   ]
  },
  {
   "cell_type": "code",
   "execution_count": null,
   "metadata": {},
   "outputs": [],
   "source": [
    "from glotaran.io import load_parameters, save_result\n",
    "from glotaran.optimization.optimize import optimize\n",
    "from glotaran.project.scheme import Scheme\n",
    "\n",
    "# Plotting related imports\n",
    "import matplotlib.pyplot as plt\n",
    "from pyglotaran_extras import plot_data_overview\n",
    "from pyglotaran_extras import plot_fitted_traces, select_plot_wavelengths\n",
    "from pyglotaran_extras.inspect import show_a_matrixes\n",
    "from pyglotaran_extras.plotting.style import PlotStyle\n",
    "from pyglotaran_extras.plotting.style import ColorCode\n",
    "from cycler import cycler\n"
   ]
  },
  {
   "cell_type": "markdown",
   "metadata": {},
   "source": [
    "### Data inspection\n"
   ]
  },
  {
   "cell_type": "code",
   "execution_count": null,
   "metadata": {},
   "outputs": [],
   "source": [
    "# specify data paths\n",
    "DATA_PATH_670_1 = \"data/SCy6803WL/synWTred670_700nm_exc2RPnocycle1nm_reva.ascii\"\n",
    "DATA_PATH_670_2 = \"data/SCy6803WL/synWTred670_700nm_exc2RPnocycle1nm_revb.ascii\"\n",
    "DATA_PATH_700_3 = \"data/SCy6803WL/synWTred670_700nm_exc2RPnocycle1nm_revc.ascii\"\n",
    "DATA_PATH_700_4 = \"data/SCy6803WL/synWTred670_700nm_exc2RPnocycle1nm_revd.ascii\"\n"
   ]
  },
  {
   "cell_type": "code",
   "execution_count": null,
   "metadata": {},
   "outputs": [],
   "source": [
    "fig, axes = plot_data_overview(\n",
    "    DATA_PATH_700_4,\n",
    "    nr_of_data_svd_vectors=4,\n",
    "    linlog=False,\n",
    "    linthresh=0.1,\n",
    "    cmap=\"seismic\",\n",
    "    vmin=-7,\n",
    "    vmax=7,\n",
    "    use_svd_number=True,\n",
    "    # cmap='bwr',datamin = -7,datamax=7\n",
    ")\n",
    "# TODO: the use of cmap, datamin, datamax requires an update to pyglotaran_extras\n"
   ]
  },
  {
   "cell_type": "markdown",
   "metadata": {},
   "source": [
    "## Step 3a Target Analysis\n"
   ]
  },
  {
   "cell_type": "markdown",
   "metadata": {},
   "source": [
    "### Model specification\n",
    "\n",
    "This time the model and parameters are defined in each step, as the model and/or parameters may be tweaked in each step.\n"
   ]
  },
  {
   "cell_type": "markdown",
   "metadata": {},
   "source": [
    "## Create scheme 1 with Bulk to RP2 and optimize it\n"
   ]
  },
  {
   "cell_type": "code",
   "execution_count": null,
   "metadata": {},
   "outputs": [],
   "source": [
    "target_scheme = Scheme(\n",
    "    model=\"models/target_step1_Bulk_RP2_CA.yml\",\n",
    "    parameters=load_parameters(\"models/target_step1_Bulk_RP2_CA.csv\"),\n",
    "    maximum_number_function_evaluations=9,\n",
    "    clp_link_tolerance=0.1,\n",
    "    data={\n",
    "        # TA data\n",
    "        \"670TR1\": DATA_PATH_670_1,\n",
    "        \"670TR2\": DATA_PATH_670_2,\n",
    "        \"700TR1\": DATA_PATH_700_3,\n",
    "        \"700TR2\": DATA_PATH_700_4,\n",
    "    },  # type: ignore\n",
    ")\n",
    "target_scheme.validate()\n"
   ]
  },
  {
   "cell_type": "code",
   "execution_count": null,
   "metadata": {},
   "outputs": [],
   "source": [
    "target_result1 = optimize(target_scheme, raise_exception=True)\n"
   ]
  },
  {
   "cell_type": "code",
   "execution_count": null,
   "metadata": {},
   "outputs": [],
   "source": [
    "# Just call the result to get the optimization result summary.\n",
    "target_result1\n",
    "# For easier copy-and-paste try:\n",
    "# print(target_result)\n"
   ]
  },
  {
   "cell_type": "markdown",
   "metadata": {},
   "source": [
    "### Plot result for interpretation\n"
   ]
  },
  {
   "cell_type": "code",
   "execution_count": null,
   "metadata": {},
   "outputs": [],
   "source": [
    "custom_cycler1 = cycler(color=[\"g\", \"b\"])\n",
    "custom_cycler2 = cycler(color=[\"g\", \"b\"], linestyle=[\"--\"] * 2)\n",
    "custom_cyclers = (custom_cycler1, custom_cycler1, custom_cycler2, custom_cycler2)\n",
    "from custom_plotting import plot_concentration_and_spectra\n",
    "\n",
    "_ = plot_concentration_and_spectra(\n",
    "    [\n",
    "        target_result1.data[\"700TR1\"],\n",
    "        target_result1.data[\"700TR2\"],\n",
    "        target_result1.data[\"670TR1\"],\n",
    "        target_result1.data[\"670TR2\"],\n",
    "    ],\n",
    "    cycler=custom_cyclers,\n",
    "    das_cycler=PlotStyle().cycler,\n",
    ")\n"
   ]
  },
  {
   "cell_type": "code",
   "execution_count": null,
   "metadata": {},
   "outputs": [],
   "source": [
    "# Access the result's `optimized_parameters` to print a markdown table of the optimized parameters:\n",
    "target_result1.optimized_parameters\n"
   ]
  },
  {
   "cell_type": "markdown",
   "metadata": {},
   "source": [
    "### Residual analysis of all data\n"
   ]
  },
  {
   "cell_type": "code",
   "execution_count": null,
   "metadata": {},
   "outputs": [],
   "source": [
    "from custom_plotting import plot_svd_of_residual\n",
    "\n",
    "fig, axes = plot_svd_of_residual(\n",
    "    [\n",
    "        target_result1.data[\"670TR2\"],  # order to match colors!\n",
    "        target_result1.data[\"670TR1\"],\n",
    "        target_result1.data[\"700TR1\"],\n",
    "        target_result1.data[\"700TR2\"],\n",
    "    ],\n",
    "    linlog=True,\n",
    "    linthresh=10,\n",
    "    index=0,\n",
    ")\n",
    "axes[0].annotate(\"A\", xy=(-0.1, 1), xycoords=\"axes fraction\", fontsize=16)\n",
    "axes[1].annotate(\"B\", xy=(-0.1, 1), xycoords=\"axes fraction\", fontsize=16)\n"
   ]
  },
  {
   "cell_type": "markdown",
   "metadata": {},
   "source": [
    "## Step 3b Create scheme 2 introducing Red and optimize it\n"
   ]
  },
  {
   "cell_type": "code",
   "execution_count": null,
   "metadata": {},
   "outputs": [],
   "source": [
    "target_scheme = Scheme(\n",
    "    model=\"models/target_step2_Bulk_RP2_CA_Red.yml\",\n",
    "    parameters=load_parameters(\"models/target_step2_Bulk_RP2_CA_Red.csv\"),\n",
    "    maximum_number_function_evaluations=9,\n",
    "    clp_link_tolerance=0.1,\n",
    "    data={\n",
    "        # TA data\n",
    "        \"670TR1\": DATA_PATH_670_1,\n",
    "        \"670TR2\": DATA_PATH_670_2,\n",
    "        \"700TR1\": DATA_PATH_700_3,\n",
    "        \"700TR2\": DATA_PATH_700_4,\n",
    "    },  # type: ignore\n",
    ")\n",
    "target_scheme.validate()\n"
   ]
  },
  {
   "cell_type": "code",
   "execution_count": null,
   "metadata": {},
   "outputs": [],
   "source": [
    "target_result2 = optimize(target_scheme, raise_exception=True)\n"
   ]
  },
  {
   "cell_type": "code",
   "execution_count": null,
   "metadata": {},
   "outputs": [],
   "source": [
    "# Just call the result to get the optimization result summary.\n",
    "target_result2\n",
    "# For easier copy-and-paste try:\n",
    "# print(target_result2)\n"
   ]
  },
  {
   "cell_type": "markdown",
   "metadata": {},
   "source": [
    "### Plot result for interpretation\n"
   ]
  },
  {
   "cell_type": "code",
   "execution_count": null,
   "metadata": {},
   "outputs": [],
   "source": [
    "custom_cycler1 = cycler(color=[\"g\", \"r\", \"b\"])\n",
    "custom_cycler2 = cycler(color=[\"g\", \"r\", \"b\"], linestyle=[\"--\"] * 3)\n",
    "custom_cyclers = (custom_cycler1, custom_cycler1, custom_cycler2, custom_cycler2)\n",
    "from custom_plotting import plot_concentration_and_spectra\n",
    "\n",
    "_ = plot_concentration_and_spectra(\n",
    "    [\n",
    "        target_result2.data[\"700TR1\"],\n",
    "        target_result2.data[\"700TR2\"],\n",
    "        target_result2.data[\"670TR1\"],\n",
    "        target_result2.data[\"670TR2\"],\n",
    "    ],\n",
    "    cycler=custom_cyclers,\n",
    "    das_cycler=PlotStyle().cycler,\n",
    ")\n"
   ]
  },
  {
   "cell_type": "code",
   "execution_count": null,
   "metadata": {},
   "outputs": [],
   "source": [
    "# Access the result's `optimized_parameters` to print a markdown table of the optimized parameters:\n",
    "target_result2.optimized_parameters\n"
   ]
  },
  {
   "cell_type": "markdown",
   "metadata": {},
   "source": [
    "### Residual analysis of all data\n"
   ]
  },
  {
   "cell_type": "code",
   "execution_count": null,
   "metadata": {},
   "outputs": [],
   "source": [
    "fig, axes = plot_svd_of_residual(\n",
    "    [\n",
    "        target_result2.data[\"670TR2\"],  # order!\n",
    "        target_result2.data[\"670TR1\"],\n",
    "        target_result2.data[\"700TR1\"],\n",
    "        target_result2.data[\"700TR2\"],\n",
    "    ],\n",
    "    linlog=True,\n",
    "    linthresh=10,\n",
    "    index=0,\n",
    ")\n",
    "axes[0].annotate(\"A\", xy=(-0.1, 1), xycoords=\"axes fraction\", fontsize=16)\n",
    "axes[1].annotate(\"B\", xy=(-0.1, 1), xycoords=\"axes fraction\", fontsize=16)\n"
   ]
  },
  {
   "cell_type": "markdown",
   "metadata": {},
   "source": [
    "## Step 3c Create scheme 3A introducing Ant1 and optimize it\n"
   ]
  },
  {
   "cell_type": "code",
   "execution_count": null,
   "metadata": {},
   "outputs": [],
   "source": [
    "target_scheme = Scheme(\n",
    "    model=\"models/target_step3A_Bulk_RP2_CA_Red_Ant1.yml\",\n",
    "    parameters=load_parameters(\"models/target_step3A_Bulk_RP2_CA_Red_Ant1.csv\"),\n",
    "    maximum_number_function_evaluations=9,\n",
    "    clp_link_tolerance=0.1,\n",
    "    data={\n",
    "        # TA data\n",
    "        \"670TR1\": DATA_PATH_670_1,\n",
    "        \"670TR2\": DATA_PATH_670_2,\n",
    "        \"700TR1\": DATA_PATH_700_3,\n",
    "        \"700TR2\": DATA_PATH_700_4,\n",
    "    },  # type: ignore\n",
    ")\n",
    "target_scheme.validate()\n"
   ]
  },
  {
   "cell_type": "code",
   "execution_count": null,
   "metadata": {},
   "outputs": [],
   "source": [
    "target_result3 = optimize(target_scheme, raise_exception=True)\n"
   ]
  },
  {
   "cell_type": "code",
   "execution_count": null,
   "metadata": {},
   "outputs": [],
   "source": [
    "# Just call the result to get the optimization result summary.\n",
    "target_result3\n",
    "# For easier copy-and-paste try:\n",
    "# print(target_result3)\n"
   ]
  },
  {
   "cell_type": "markdown",
   "metadata": {},
   "source": [
    "### Plot result for interpretation\n"
   ]
  },
  {
   "cell_type": "code",
   "execution_count": null,
   "metadata": {},
   "outputs": [],
   "source": [
    "myFRLcolors = [\n",
    "    ColorCode.green,\n",
    "    \"g\",\n",
    "    \"r\",\n",
    "    \"b\",\n",
    "]\n",
    "custom_cycler1 = cycler(color=myFRLcolors)\n",
    "custom_cycler2 = cycler(color=myFRLcolors, linestyle=[\"--\"] * 4)\n",
    "custom_cyclers = (custom_cycler1, custom_cycler1, custom_cycler2, custom_cycler2)\n",
    "from custom_plotting import plot_concentration_and_spectra\n",
    "\n",
    "_ = plot_concentration_and_spectra(\n",
    "    [\n",
    "        target_result3.data[\"670TR1\"],\n",
    "        target_result3.data[\"670TR2\"],\n",
    "        target_result3.data[\"700TR1\"],\n",
    "        target_result3.data[\"700TR2\"],\n",
    "    ],\n",
    "    cycler=custom_cyclers,\n",
    "    das_cycler=PlotStyle().cycler,\n",
    ")\n"
   ]
  },
  {
   "cell_type": "markdown",
   "metadata": {},
   "source": [
    "## Step 3d Create scheme 3B introducing RP1 and optimize it\n"
   ]
  },
  {
   "cell_type": "code",
   "execution_count": null,
   "metadata": {},
   "outputs": [],
   "source": [
    "target_scheme = Scheme(\n",
    "    model=\"models/target_step3B_Bulk_RP2_CA_Red_RP1.yml\",\n",
    "    parameters=load_parameters(\"models/target_step3B_Bulk_RP2_CA_Red_RP1.csv\"),\n",
    "    maximum_number_function_evaluations=9,\n",
    "    clp_link_tolerance=0.1,\n",
    "    data={\n",
    "        # TA data\n",
    "        \"670TR1\": DATA_PATH_670_1,\n",
    "        \"670TR2\": DATA_PATH_670_2,\n",
    "        \"700TR1\": DATA_PATH_700_3,\n",
    "        \"700TR2\": DATA_PATH_700_4,\n",
    "    },  # type: ignore\n",
    ")\n",
    "target_scheme.validate()\n"
   ]
  },
  {
   "cell_type": "code",
   "execution_count": null,
   "metadata": {},
   "outputs": [],
   "source": [
    "target_result3 = optimize(target_scheme, raise_exception=True)\n"
   ]
  },
  {
   "cell_type": "code",
   "execution_count": null,
   "metadata": {},
   "outputs": [],
   "source": [
    "# Just call the result to get the optimization result summary.\n",
    "target_result3\n",
    "# For easier copy-and-paste try:\n",
    "# print(target_result3)\n"
   ]
  },
  {
   "cell_type": "markdown",
   "metadata": {},
   "source": [
    "### Plot result for interpretation\n"
   ]
  },
  {
   "cell_type": "code",
   "execution_count": null,
   "metadata": {},
   "outputs": [],
   "source": [
    "myFRLcolors = [\n",
    "    \"g\",\n",
    "    \"r\",\n",
    "    ColorCode.cyan,\n",
    "    \"b\",\n",
    "]\n",
    "custom_cycler1 = cycler(color=myFRLcolors)\n",
    "custom_cycler2 = cycler(color=myFRLcolors, linestyle=[\"--\"] * 4)\n",
    "custom_cyclers = (custom_cycler1, custom_cycler1, custom_cycler2, custom_cycler2)\n",
    "from custom_plotting import plot_concentration_and_spectra\n",
    "\n",
    "_ = plot_concentration_and_spectra(\n",
    "    [\n",
    "        target_result3.data[\"670TR1\"],\n",
    "        target_result3.data[\"670TR2\"],\n",
    "        target_result3.data[\"700TR1\"],\n",
    "        target_result3.data[\"700TR2\"],\n",
    "    ],\n",
    "    cycler=custom_cyclers,\n",
    "    das_cycler=PlotStyle().cycler,\n",
    ")\n"
   ]
  },
  {
   "cell_type": "markdown",
   "metadata": {},
   "source": [
    "## Step 3e Create scheme 3C introducing both Ant1 and RP1 and optimize it\n"
   ]
  },
  {
   "cell_type": "code",
   "execution_count": null,
   "metadata": {},
   "outputs": [],
   "source": [
    "target_scheme = Scheme(\n",
    "    model=\"models/target_step3C_Bulk_RP2_CA_Red_Ant1_RP1.yml\",\n",
    "    parameters=load_parameters(\"models/target_step3C_Bulk_RP2_CA_Red_Ant1_RP1.csv\"),\n",
    "    maximum_number_function_evaluations=9,\n",
    "    clp_link_tolerance=0.1,\n",
    "    data={\n",
    "        # TA data\n",
    "        \"670TR1\": DATA_PATH_670_1,\n",
    "        \"670TR2\": DATA_PATH_670_2,\n",
    "        \"700TR1\": DATA_PATH_700_3,\n",
    "        \"700TR2\": DATA_PATH_700_4,\n",
    "        \"RP1SADS\": \"guide/global670and700_670TR2_clp_br4.ascii\",\n",
    "    },  # type: ignore\n",
    ")\n",
    "target_scheme.validate()\n"
   ]
  },
  {
   "cell_type": "code",
   "execution_count": null,
   "metadata": {},
   "outputs": [],
   "source": [
    "target_result3 = optimize(target_scheme, raise_exception=True)\n"
   ]
  },
  {
   "cell_type": "code",
   "execution_count": null,
   "metadata": {},
   "outputs": [],
   "source": [
    "# Just call the result to get the optimization result summary.\n",
    "target_result3\n",
    "# For easier copy-and-paste try:\n",
    "# print(target_result)\n"
   ]
  },
  {
   "cell_type": "markdown",
   "metadata": {},
   "source": [
    "### Plot result for interpretation\n"
   ]
  },
  {
   "cell_type": "code",
   "execution_count": null,
   "metadata": {},
   "outputs": [],
   "source": [
    "myFRLcolors = [\n",
    "    ColorCode.green,\n",
    "    \"g\",\n",
    "    \"r\",\n",
    "    ColorCode.cyan,\n",
    "    \"b\",\n",
    "]\n",
    "custom_cycler1 = cycler(color=myFRLcolors)\n",
    "custom_cycler2 = cycler(color=myFRLcolors, linestyle=[\"--\"] * 5)\n",
    "custom_cyclers = (custom_cycler1, custom_cycler1, custom_cycler2, custom_cycler2)\n",
    "from custom_plotting import plot_concentration_and_spectra\n",
    "\n",
    "_ = plot_concentration_and_spectra(\n",
    "    [\n",
    "        target_result3.data[\"670TR1\"],\n",
    "        target_result3.data[\"670TR2\"],\n",
    "        target_result3.data[\"700TR1\"],\n",
    "        target_result3.data[\"700TR2\"],\n",
    "    ],\n",
    "    cycler=custom_cyclers,\n",
    "    das_cycler=PlotStyle().cycler,\n",
    ")\n"
   ]
  },
  {
   "cell_type": "code",
   "execution_count": null,
   "metadata": {},
   "outputs": [],
   "source": [
    "# Access the result's `optimized_parameters` to print a markdown table of the optimized parameters:\n",
    "target_result3.optimized_parameters\n"
   ]
  },
  {
   "cell_type": "markdown",
   "metadata": {},
   "source": [
    "### Residual analysis of all data\n"
   ]
  },
  {
   "cell_type": "code",
   "execution_count": null,
   "metadata": {},
   "outputs": [],
   "source": [
    "fig, axes = plot_svd_of_residual(\n",
    "    [\n",
    "        target_result3.data[\"670TR2\"],  # order!\n",
    "        target_result3.data[\"670TR1\"],\n",
    "        target_result3.data[\"700TR1\"],\n",
    "        target_result3.data[\"700TR2\"],\n",
    "    ],\n",
    "    linlog=True,\n",
    "    linthresh=10,\n",
    "    index=0,\n",
    ")\n",
    "axes[0].annotate(\"A\", xy=(-0.1, 1), xycoords=\"axes fraction\", fontsize=16)\n",
    "axes[1].annotate(\"B\", xy=(-0.1, 1), xycoords=\"axes fraction\", fontsize=16)\n"
   ]
  },
  {
   "cell_type": "markdown",
   "metadata": {},
   "source": [
    "### Create the step 3C guidance data sets\n"
   ]
  },
  {
   "cell_type": "code",
   "execution_count": null,
   "metadata": {},
   "outputs": [],
   "source": [
    "from glotaran.io import save_dataset\n",
    "from glotaran.utils.io import create_clp_guide_dataset\n",
    "\n",
    "for species in target_result3.data[\"670TR2\"].species:\n",
    "    clp_guide = create_clp_guide_dataset(target_result3.data[\"670TR2\"], species.item())\n",
    "    string_in_string = (\n",
    "        \"guide/target_step3C_Bulk_RP2_CA_Red_Ant1_RP1_clp_{}.ascii\".format(\n",
    "            species.item()\n",
    "        )\n",
    "    )\n",
    "    save_dataset(clp_guide.data, string_in_string, allow_overwrite=True)\n"
   ]
  },
  {
   "cell_type": "markdown",
   "metadata": {},
   "source": [
    "## Step 3f Create scheme 4 introducing RC and free Chla and optimize it\n"
   ]
  },
  {
   "cell_type": "code",
   "execution_count": null,
   "metadata": {},
   "outputs": [],
   "source": [
    "target_scheme = Scheme(\n",
    "    model=\"models/target_step4_Bulk_RP2_CA_Red_Ant1_RP1_RC_free.yml\",\n",
    "    parameters=load_parameters(\n",
    "        \"models/target_step4_Bulk_RP2_CA_Red_Ant1_RP1_RC_free.csv\"\n",
    "    ),\n",
    "    maximum_number_function_evaluations=9,\n",
    "    clp_link_tolerance=0.1,\n",
    "    data={\n",
    "        # TA data\n",
    "        \"670TR1\": DATA_PATH_670_1,\n",
    "        \"670TR2\": DATA_PATH_670_2,\n",
    "        \"700TR1\": DATA_PATH_700_3,\n",
    "        \"700TR2\": DATA_PATH_700_4,\n",
    "        \"Ant1SADS\": \"guide/target_step3C_Bulk_RP2_CA_Red_Ant1_RP1_clp_Ant1.ascii\",\n",
    "        \"RP1SADS\": \"guide/target_step3C_Bulk_RP2_CA_Red_Ant1_RP1_clp_RP1.ascii\",\n",
    "        \"freeSADS\": \"guide/global670and700_670TR2_clp_freeChla.ascii\",\n",
    "    },  # type: ignore\n",
    ")\n",
    "target_scheme.validate()\n"
   ]
  },
  {
   "cell_type": "code",
   "execution_count": null,
   "metadata": {},
   "outputs": [],
   "source": [
    "target_result4 = optimize(target_scheme, raise_exception=True)\n"
   ]
  },
  {
   "cell_type": "code",
   "execution_count": null,
   "metadata": {},
   "outputs": [],
   "source": [
    "# Just call the result to get the optimization result summary.\n",
    "target_result4\n",
    "# For easier copy-and-paste try:\n",
    "# print(target_result)\n"
   ]
  },
  {
   "cell_type": "markdown",
   "metadata": {},
   "source": [
    "### Plot result for interpretation\n"
   ]
  },
  {
   "cell_type": "code",
   "execution_count": null,
   "metadata": {},
   "outputs": [],
   "source": [
    "myFRLcolors = [ColorCode.green, \"g\", \"r\", \"k\", ColorCode.cyan, \"b\", \"y\"]\n",
    "custom_cycler1 = cycler(color=myFRLcolors)\n",
    "custom_cycler2 = cycler(color=myFRLcolors, linestyle=[\"--\"] * 7)\n",
    "custom_cyclers = (custom_cycler1, custom_cycler1, custom_cycler2, custom_cycler2)\n",
    "from custom_plotting import plot_concentration_and_spectra\n",
    "\n",
    "_ = plot_concentration_and_spectra(\n",
    "    [\n",
    "        target_result4.data[\"670TR1\"],\n",
    "        target_result4.data[\"670TR2\"],\n",
    "        target_result4.data[\"700TR1\"],\n",
    "        target_result4.data[\"700TR2\"],\n",
    "    ],\n",
    "    cycler=custom_cyclers,\n",
    "    das_cycler=PlotStyle().cycler,\n",
    "    show_DADS=False,\n",
    ")\n"
   ]
  },
  {
   "cell_type": "code",
   "execution_count": null,
   "metadata": {},
   "outputs": [],
   "source": [
    "# stop\n"
   ]
  },
  {
   "cell_type": "code",
   "execution_count": null,
   "metadata": {},
   "outputs": [],
   "source": [
    "# Access the result's `optimized_parameters` to print a markdown table of the optimized parameters:\n",
    "target_result4.optimized_parameters\n"
   ]
  },
  {
   "cell_type": "markdown",
   "metadata": {},
   "source": [
    "### Residual analysis of all data\n"
   ]
  },
  {
   "cell_type": "code",
   "execution_count": null,
   "metadata": {},
   "outputs": [],
   "source": [
    "fig, axes = plot_svd_of_residual(\n",
    "    [\n",
    "        target_result4.data[\"670TR1\"],\n",
    "        target_result4.data[\"670TR2\"],\n",
    "        target_result4.data[\"700TR1\"],\n",
    "        target_result4.data[\"700TR2\"],\n",
    "    ],\n",
    "    linlog=True,\n",
    "    linthresh=1,\n",
    "    index=0,\n",
    ")\n",
    "axes[0].annotate(\"A\", xy=(-0.1, 1), xycoords=\"axes fraction\", fontsize=16)\n",
    "axes[1].annotate(\"B\", xy=(-0.1, 1), xycoords=\"axes fraction\", fontsize=16)\n"
   ]
  },
  {
   "cell_type": "markdown",
   "metadata": {},
   "source": [
    "There is no more structure in the 1st LSV of the residual matrices. However, the RMSE of the 670TR1 is 10% larger than the RMSE of the other three data sets.\n"
   ]
  },
  {
   "cell_type": "markdown",
   "metadata": {},
   "source": [
    "### Residual analysis of the 670 nm excitation TR1 data\n"
   ]
  },
  {
   "cell_type": "code",
   "execution_count": null,
   "metadata": {},
   "outputs": [],
   "source": [
    "from custom_plotting import plot_residual_and_svd\n",
    "\n",
    "fig, axes = plot_residual_and_svd([target_result4.data[\"670TR1\"]])\n",
    "axes[0].annotate(\"A\", xy=(-0.1, 1), xycoords=\"axes fraction\", fontsize=16)\n",
    "axes[1].annotate(\"B\", xy=(-0.1, 1), xycoords=\"axes fraction\", fontsize=16)\n",
    "axes[2].annotate(\"C\", xy=(-0.1, 1), xycoords=\"axes fraction\", fontsize=16)\n"
   ]
  },
  {
   "cell_type": "markdown",
   "metadata": {},
   "source": [
    "LSV2 of the 670TR1 residual shows a trend on the timescale of 5 ps, and RSV2 is large around 700 nm. This can be solved by the splitting of the Red compartment in two parts. Therefore, we introduce a 2nd Red compartment. To smooth the SADS of the RC we will use a Spectral fit of the RC SADS estimated in step 4. To split the Red compartment we will guide the Red1 and Red2 SADS using the Spectral fit of the Red SADS from step 4 with two shifted guidance SADS.\n"
   ]
  },
  {
   "cell_type": "markdown",
   "metadata": {},
   "source": [
    "### Create the step 4 SADS data sets\n"
   ]
  },
  {
   "cell_type": "code",
   "execution_count": null,
   "metadata": {},
   "outputs": [],
   "source": [
    "# from glotaran.io import save_dataset\n",
    "# from glotaran.utils.io import create_clp_guide_dataset\n",
    "\n",
    "for species in target_result4.data[\"670TR2\"].species:\n",
    "    clp_guide = create_clp_guide_dataset(target_result4.data[\"670TR2\"], species.item())\n",
    "    string_in_string = (\n",
    "        \"guide/target_step4_Bulk_RP2_CA_Red_Ant1_RP1_RC_free_clp_{}.ascii\".format(\n",
    "            species.item()\n",
    "        )\n",
    "    )\n",
    "    save_dataset(clp_guide.data, string_in_string, allow_overwrite=True)\n"
   ]
  },
  {
   "cell_type": "markdown",
   "metadata": {},
   "source": [
    "### Spectral fit of the estimated SADS of the RC with a sum of two skewed gaussians\n"
   ]
  },
  {
   "cell_type": "code",
   "execution_count": null,
   "metadata": {},
   "outputs": [],
   "source": [
    "# from pathlib import Path\n",
    "\n",
    "# import matplotlib.pyplot as plt\n",
    "from glotaran.io import load_dataset, load_model, load_parameters\n",
    "\n",
    "# from glotaran.optimization.optimize import optimize\n",
    "# from glotaran.project.scheme import Scheme\n",
    "# from pyglotaran_extras.plotting.plot_overview import plot_overview\n",
    "from pyglotaran_extras.plotting.style import PlotStyle\n",
    "# from pyglotaran_extras import plot_data_overview\n",
    "\n",
    "plot_style = PlotStyle()\n",
    "plt.rc(\"axes\", prop_cycle=plot_style.cycler)\n",
    "plt.rcParams[\"figure.figsize\"] = (21, 14)\n",
    "\n",
    "dataset = load_dataset(\n",
    "    \"guide/target_step4_Bulk_RP2_CA_Red_Ant1_RP1_RC_free_clp_RC.ascii\"\n",
    ")\n",
    "_ = plot_data_overview(dataset)\n"
   ]
  },
  {
   "cell_type": "code",
   "execution_count": null,
   "metadata": {},
   "outputs": [],
   "source": [
    "spectral_model = load_model(\"models/spectral_model.yml\")\n",
    "spectral_parameters = load_parameters(\"models/spectral_params_RC.yml\")\n",
    "spectral_model.validate(parameters=spectral_parameters)\n",
    "\n",
    "spectral_scheme = Scheme(\n",
    "    spectral_model,\n",
    "    spectral_parameters,\n",
    "    data={\"dataset\": dataset},\n",
    "    maximum_number_function_evaluations=25,\n",
    ")\n",
    "spectral_result = optimize(spectral_scheme)\n",
    "# spectral_result\n",
    "# print(f\"\\n{'#'*3} Spectral Model - Optimization Result {'#'*3}\\n\")\n",
    "# print(spectral_result)\n",
    "\n",
    "# %%\n",
    "# print(f\"\\n{'#'*3} Spectral Model - Optimized Parameters {'#'*3}\\n\")\n",
    "spectral_result.optimized_parameters\n",
    "# BUG in plot_overview\n",
    "# plot_overview(spectral_result.data[\"dataset\"], linlog=False)\n"
   ]
  },
  {
   "cell_type": "code",
   "execution_count": null,
   "metadata": {},
   "outputs": [],
   "source": [
    "spectral_result\n"
   ]
  },
  {
   "cell_type": "code",
   "execution_count": null,
   "metadata": {},
   "outputs": [],
   "source": [
    "from pyglotaran_extras.plotting.plot_overview import plot_overview\n",
    "\n",
    "fig, axes = plot_overview(spectral_result.data[\"dataset\"], linlog=False)\n"
   ]
  },
  {
   "cell_type": "code",
   "execution_count": null,
   "metadata": {},
   "outputs": [],
   "source": [
    "spectral_result.optimized_parameters\n"
   ]
  },
  {
   "cell_type": "code",
   "execution_count": null,
   "metadata": {},
   "outputs": [],
   "source": [
    "from glotaran.io import save_dataset\n",
    "\n",
    "# string_in_string = \"guide/target_step5_Bulk_RP2_CA_Red_Ant1_RP1_RC_free_Red2_clp_spectral_{}.ascii\".format(species.item())\n",
    "save_dataset(\n",
    "    spectral_result.data[\"dataset\"].fitted_data,\n",
    "    \"guide/target_step4_Bulk_RP2_CA_Red_Ant1_RP1_RC_free_clp_RC_fitted.ascii\",\n",
    "    allow_overwrite=True,\n",
    ")\n"
   ]
  },
  {
   "cell_type": "code",
   "execution_count": null,
   "metadata": {},
   "outputs": [],
   "source": [
    "spectral_resultRC = spectral_result\n"
   ]
  },
  {
   "cell_type": "markdown",
   "metadata": {},
   "source": [
    "### Spectral fit of the Red SADS with two shifted species\n"
   ]
  },
  {
   "cell_type": "code",
   "execution_count": null,
   "metadata": {},
   "outputs": [],
   "source": [
    "# from pathlib import Path\n",
    "\n",
    "# import matplotlib.pyplot as plt\n",
    "from glotaran.io import load_dataset, load_model, load_parameters\n",
    "\n",
    "# from glotaran.optimization.optimize import optimize\n",
    "# from glotaran.project.scheme import Scheme\n",
    "# from pyglotaran_extras.plotting.plot_overview import plot_overview\n",
    "from pyglotaran_extras.plotting.style import PlotStyle\n",
    "# from pyglotaran_extras import plot_data_overview\n",
    "\n",
    "plot_style = PlotStyle()\n",
    "plt.rc(\"axes\", prop_cycle=plot_style.cycler)\n",
    "plt.rcParams[\"figure.figsize\"] = (21, 14)\n",
    "\n",
    "dataset = load_dataset(\n",
    "    \"guide/target_step4_Bulk_RP2_CA_Red_Ant1_RP1_RC_free_clp_Red.ascii\"\n",
    ")\n",
    "_ = plot_data_overview(dataset)\n"
   ]
  },
  {
   "cell_type": "code",
   "execution_count": null,
   "metadata": {},
   "outputs": [],
   "source": [
    "spectral_model = load_model(\"models/spectral_model2splitRed.yml\")\n",
    "spectral_parameters = load_parameters(\"models/spectral_parameters2splitRed.csv\")\n",
    "spectral_model.validate(parameters=spectral_parameters)\n",
    "\n",
    "spectral_scheme = Scheme(\n",
    "    spectral_model,\n",
    "    spectral_parameters,\n",
    "    data={\"dataset\": dataset},\n",
    ")\n",
    "spectral_result = optimize(spectral_scheme)\n",
    "# spectral_result\n",
    "# print(f\"\\n{'#'*3} Spectral Model - Optimization Result {'#'*3}\\n\")\n",
    "# print(spectral_result)\n",
    "\n",
    "# %%\n",
    "# print(f\"\\n{'#'*3} Spectral Model - Optimized Parameters {'#'*3}\\n\")\n",
    "# spectral_result.optimized_parameters\n",
    "# NB commented out because of BUG in spectral_result.optimized_parameters\n"
   ]
  },
  {
   "cell_type": "code",
   "execution_count": null,
   "metadata": {},
   "outputs": [],
   "source": [
    "plot_style = PlotStyle()\n",
    "plt.rc(\"axes\", prop_cycle=plot_style.cycler)\n",
    "plt.rcParams[\"figure.figsize\"] = (21, 14)\n"
   ]
  },
  {
   "cell_type": "markdown",
   "metadata": {},
   "source": [
    "### Spectral fits of the raw SADS of RC and Red\n"
   ]
  },
  {
   "cell_type": "code",
   "execution_count": null,
   "metadata": {},
   "outputs": [],
   "source": [
    "fig, axes = plt.subplots(1, 2, figsize=(15, 4))\n",
    "spectral_resultRC.data[\"dataset\"].data.plot(ax=axes[0])\n",
    "spectral_resultRC.data[\"dataset\"].fitted_data.plot(ax=axes[0])\n",
    "axes[0].set_xlabel(\"Wavelength (nm)\")\n",
    "axes[0].set_ylabel(\"SADS (mOD)\")\n",
    "axes[0].set_title(\"RC\")\n",
    "axes[0].axhline(0, color=\"k\", linewidth=1)\n",
    "spectral_result.data[\"dataset\"].data.plot.line(x=\"spectral\", ax=axes[1])\n",
    "spectral_result.data[\"dataset\"].fitted_data.plot.line(x=\"spectral\", ax=axes[1])\n",
    "spec1 = (\n",
    "    spectral_result.data[\"dataset\"].clp[:, 0]\n",
    "    * spectral_result.data[\"dataset\"].species_spectra[:, 0]\n",
    "    + spectral_result.data[\"dataset\"].clp[:, 1]\n",
    "    * spectral_result.data[\"dataset\"].species_spectra[:, 1]\n",
    ")\n",
    "spec1.plot.line(x=\"spectral\", ax=axes[1])\n",
    "spec2 = (\n",
    "    spectral_result.data[\"dataset\"].clp[:, 2]\n",
    "    * spectral_result.data[\"dataset\"].species_spectra[:, 2]\n",
    "    + spectral_result.data[\"dataset\"].clp[:, 3]\n",
    "    * spectral_result.data[\"dataset\"].species_spectra[:, 3]\n",
    ")\n",
    "spec2.plot.line(x=\"spectral\", ax=axes[1])\n",
    "axes[1].set_xlabel(\"Wavelength (nm)\")\n",
    "axes[1].set_ylabel(\"SADS (mOD)\")\n",
    "axes[1].set_title(\"Red\")\n",
    "axes[1].axhline(0, color=\"k\", linewidth=1)\n",
    "axes[1].get_legend().remove()\n"
   ]
  },
  {
   "cell_type": "code",
   "execution_count": null,
   "metadata": {},
   "outputs": [],
   "source": [
    "from glotaran.io import save_dataset\n",
    "\n",
    "# string_in_string = \"guide/target_step5_Bulk_RP2_CA_Red_Ant1_RP1_RC_free_Red2_clp_spectral_{}.ascii\".format(species.item())\n",
    "save_dataset(\n",
    "    spec1,\n",
    "    \"guide/target_step4_Bulk_RP2_CA_Red_Ant1_RP1_RC_free_clp_RC_spec1_fitted.ascii\",\n",
    "    allow_overwrite=True,\n",
    ")\n",
    "save_dataset(\n",
    "    spec2,\n",
    "    \"guide/target_step4_Bulk_RP2_CA_Red_Ant1_RP1_RC_free_clp_RC_spec2_fitted.ascii\",\n",
    "    allow_overwrite=True,\n",
    ")\n"
   ]
  },
  {
   "cell_type": "markdown",
   "metadata": {},
   "source": [
    "The guidance spectra created here are used in the next step to guide the Red1 and Red2 SADS.\n"
   ]
  },
  {
   "cell_type": "markdown",
   "metadata": {},
   "source": [
    "## Step 3g.i Create scheme 5 introducing Red2 and optimize it\n"
   ]
  },
  {
   "cell_type": "code",
   "execution_count": null,
   "metadata": {},
   "outputs": [],
   "source": [
    "target_scheme = Scheme(\n",
    "    model=\"models/target_step5_Bulk_RP2_CA_Red_Ant1_RP1_RC_free_Red2.yml\",\n",
    "    parameters=load_parameters(\n",
    "        \"models/target_step5_Bulk_RP2_CA_Red_Ant1_RP1_RC_free_Red2.csv\"\n",
    "    ),\n",
    "    maximum_number_function_evaluations=7,\n",
    "    clp_link_tolerance=0.1,\n",
    "    data={\n",
    "        # TA data\n",
    "        \"670TR1\": DATA_PATH_670_1,\n",
    "        \"670TR2\": DATA_PATH_670_2,\n",
    "        \"700TR1\": DATA_PATH_700_3,\n",
    "        \"700TR2\": DATA_PATH_700_4,\n",
    "        \"RCSADS\": \"guide/target_step4_Bulk_RP2_CA_Red_Ant1_RP1_RC_free_clp_RC_fitted.ascii\",\n",
    "        \"Red1SADS\": \"guide/target_step4_Bulk_RP2_CA_Red_Ant1_RP1_RC_free_clp_RC_spec2_fitted.ascii\",\n",
    "        \"Red2SADS\": \"guide/target_step4_Bulk_RP2_CA_Red_Ant1_RP1_RC_free_clp_RC_spec1_fitted.ascii\",\n",
    "        \"Ant1SADS\": \"guide/target_step4_Bulk_RP2_CA_Red_Ant1_RP1_RC_free_clp_Ant1.ascii\",\n",
    "        \"freeSADS\": \"guide/global670and700_670TR2_clp_freeChla.ascii\",\n",
    "    },  # type: ignore\n",
    ")\n",
    "target_scheme.validate()\n"
   ]
  },
  {
   "cell_type": "code",
   "execution_count": null,
   "metadata": {},
   "outputs": [],
   "source": [
    "target_result5 = optimize(target_scheme, raise_exception=True)\n"
   ]
  },
  {
   "cell_type": "markdown",
   "metadata": {},
   "source": [
    "### Results and parameters\n"
   ]
  },
  {
   "cell_type": "code",
   "execution_count": null,
   "metadata": {},
   "outputs": [],
   "source": [
    "# Just call the result to get the optimization result summary.\n",
    "target_result5\n",
    "# For easier copy-and-paste try:\n",
    "# print(target_result)\n"
   ]
  },
  {
   "cell_type": "markdown",
   "metadata": {},
   "source": [
    "Note that this RMSE of is virtually the same as that reached in a global analysis with 5 and 4 lifetimes for the 670 and 700 nm excitation TA data, respectively.\n"
   ]
  },
  {
   "cell_type": "markdown",
   "metadata": {},
   "source": [
    "### Residual analysis of the 670 nm excitation TR1 data\n"
   ]
  },
  {
   "cell_type": "code",
   "execution_count": null,
   "metadata": {},
   "outputs": [],
   "source": [
    "fig, axes = plot_residual_and_svd([target_result5.data[\"670TR1\"]], indices=[0, 1])\n",
    "axes[0].annotate(\"A\", xy=(-0.1, 1), xycoords=\"axes fraction\", fontsize=16)\n",
    "axes[1].annotate(\"B\", xy=(-0.1, 1), xycoords=\"axes fraction\", fontsize=16)\n",
    "axes[2].annotate(\"C\", xy=(-0.1, 1), xycoords=\"axes fraction\", fontsize=16)\n"
   ]
  },
  {
   "cell_type": "markdown",
   "metadata": {},
   "source": [
    "The introduction of the 2nd Red compartment has led to a decrease in the RMSE and disappearance of the previous structure in LSV2 and RSV2 of 670TR1. Instead these are now dominated by the still imperfect description of the CA, cf. also the large residuals straddling time zero in (A) and (B).\n"
   ]
  },
  {
   "cell_type": "markdown",
   "metadata": {},
   "source": [
    "### Plot result for interpretation\n"
   ]
  },
  {
   "cell_type": "code",
   "execution_count": null,
   "metadata": {},
   "outputs": [],
   "source": [
    "myFRLcolors = [ColorCode.green, \"g\", \"tab:orange\", \"r\", \"k\", ColorCode.cyan, \"b\", \"y\"]\n",
    "custom_cycler1 = cycler(color=myFRLcolors)\n",
    "custom_cycler2 = cycler(color=myFRLcolors, linestyle=[\"--\"] * 8)\n",
    "custom_cyclers = (custom_cycler1, custom_cycler1, custom_cycler2, custom_cycler2)\n",
    "from custom_plotting import plot_concentration_and_spectra\n",
    "\n",
    "_ = plot_concentration_and_spectra(\n",
    "    [\n",
    "        target_result4.data[\"670TR1\"],\n",
    "        target_result4.data[\"670TR2\"],\n",
    "        target_result4.data[\"700TR1\"],\n",
    "        target_result4.data[\"700TR2\"],\n",
    "    ],\n",
    "    cycler=custom_cyclers,\n",
    "    das_cycler=PlotStyle().cycler,\n",
    "    show_DADS=False,\n",
    ")\n"
   ]
  },
  {
   "cell_type": "markdown",
   "metadata": {},
   "source": [
    "### Comparison of the estimated SADS (red) and the guidance spectra (black)\n",
    "\n",
    "The guidance spectra are the SADS estimated with scheme 3C.\n",
    "Alternatively, (smooth) shapes can be estimated with the help of spectral models or splines.\n"
   ]
  },
  {
   "cell_type": "code",
   "execution_count": null,
   "metadata": {},
   "outputs": [],
   "source": [
    "fig, axes = plt.subplots(2, 3, figsize=(15, 7))\n",
    "target_result5.data[\"RCSADS\"].data.plot(ax=axes[0, 0])\n",
    "target_result5.data[\"RCSADS\"].fitted_data.plot(ax=axes[0, 0])\n",
    "target_result5.data[\"Red1SADS\"].data.plot(ax=axes[0, 1])\n",
    "target_result5.data[\"Red1SADS\"].fitted_data.plot(ax=axes[0, 1])\n",
    "target_result5.data[\"Red2SADS\"].data.plot(ax=axes[0, 2])\n",
    "target_result5.data[\"Red2SADS\"].fitted_data.plot(ax=axes[0, 2])\n",
    "# target_result.data[\"RP1SADS\"].data.plot(ax=axes[1,0])\n",
    "# target_result.data[\"RP1SADS\"].fitted_data.plot(ax=axes[1,0])\n",
    "target_result5.data[\"Ant1SADS\"].data.plot(ax=axes[1, 1])\n",
    "target_result5.data[\"Ant1SADS\"].fitted_data.plot(ax=axes[1, 1])\n",
    "target_result5.data[\"freeSADS\"].data.plot(ax=axes[1, 2])\n",
    "target_result5.data[\"freeSADS\"].fitted_data.plot(ax=axes[1, 2])\n",
    "axes[0, 0].set_xlabel(\"\")\n",
    "axes[0, 0].set_ylabel(\"SADS (mOD)\")\n",
    "axes[0, 0].set_title(\"RC\")\n",
    "axes[0, 1].set_xlabel(\"\")\n",
    "axes[0, 1].set_ylabel(\"SADS (mOD)\")\n",
    "axes[0, 1].set_title(\"Red1\")\n",
    "axes[0, 2].set_xlabel(\"\")\n",
    "axes[0, 2].set_ylabel(\"SADS (mOD)\")\n",
    "axes[0, 2].set_title(\"Red2\")\n",
    "axes[1, 0].set_xlabel(\"Wavelength (nm)\")\n",
    "axes[1, 0].set_ylabel(\"SADS (mOD)\")\n",
    "axes[1, 0].set_title(\"RP1\")\n",
    "axes[1, 1].set_xlabel(\"Wavelength (nm)\")\n",
    "axes[1, 1].set_ylabel(\"SADS (mOD)\")\n",
    "axes[1, 1].set_title(\"Ant1\")\n",
    "axes[1, 2].set_xlabel(\"Wavelength (nm)\")\n",
    "axes[1, 2].set_ylabel(\"SADS (mOD)\")\n",
    "axes[1, 2].set_title(\"free\")\n"
   ]
  },
  {
   "cell_type": "code",
   "execution_count": null,
   "metadata": {},
   "outputs": [],
   "source": [
    "# stop\n"
   ]
  },
  {
   "cell_type": "markdown",
   "metadata": {},
   "source": [
    "### Create the step 5 SADS data sets\n"
   ]
  },
  {
   "cell_type": "code",
   "execution_count": null,
   "metadata": {},
   "outputs": [],
   "source": [
    "# from glotaran.io import save_dataset\n",
    "# from glotaran.utils.io import create_clp_guide_dataset\n",
    "\n",
    "for species in target_result5.data[\"670TR2\"].species:\n",
    "    clp_guide = create_clp_guide_dataset(target_result5.data[\"670TR2\"], species.item())\n",
    "    string_in_string = (\n",
    "        \"guide/target_step5_Bulk_RP2_CA_Red_Ant1_RP1_RC_free_Red2_clp_{}.ascii\".format(\n",
    "            species.item()\n",
    "        )\n",
    "    )\n",
    "    save_dataset(clp_guide.data, string_in_string, allow_overwrite=True)\n"
   ]
  },
  {
   "cell_type": "markdown",
   "metadata": {},
   "source": [
    "Now in order to compute smooth guidance SADS we fit the estimated SADS of RC, Red1 and Red2 with a sum of two skewed gaussians, and employ these fits as the new guidance SADS, employing heavier weights of 0.4 and 0.7 for Red1 and Red2.\n"
   ]
  },
  {
   "cell_type": "markdown",
   "metadata": {},
   "source": [
    "### Fit of the estimated SADS of RC, Red1, Red2, and free with a sum of two skewed gaussians\n"
   ]
  },
  {
   "cell_type": "code",
   "execution_count": null,
   "metadata": {},
   "outputs": [],
   "source": [
    "# from pathlib import Path\n",
    "\n",
    "# import matplotlib.pyplot as plt\n",
    "from glotaran.io import load_dataset, load_model, load_parameters\n",
    "\n",
    "# from glotaran.optimization.optimize import optimize\n",
    "# from glotaran.project.scheme import Scheme\n",
    "# from pyglotaran_extras.plotting.plot_overview import plot_overview\n",
    "from pyglotaran_extras.plotting.style import PlotStyle\n",
    "# from pyglotaran_extras import plot_data_overview\n",
    "\n",
    "plot_style = PlotStyle()\n",
    "plt.rc(\"axes\", prop_cycle=plot_style.cycler)\n",
    "plt.rcParams[\"figure.figsize\"] = (21, 14)\n",
    "\n",
    "dataset = load_dataset(\n",
    "    \"guide/target_step5_Bulk_RP2_CA_Red_Ant1_RP1_RC_free_Red2_clp_RC.ascii\"\n",
    ")\n",
    "# plot_data_overview(dataset)\n"
   ]
  },
  {
   "cell_type": "code",
   "execution_count": null,
   "metadata": {},
   "outputs": [],
   "source": [
    "spectral_model = load_model(\"models/spectral_model.yml\")\n",
    "spectral_parameters = load_parameters(\"models/spectral_params_RC.yml\")\n",
    "spectral_model.validate(parameters=spectral_parameters)\n",
    "\n",
    "spectral_scheme = Scheme(\n",
    "    spectral_model,\n",
    "    spectral_parameters,\n",
    "    data={\"dataset\": dataset},\n",
    "    maximum_number_function_evaluations=25,\n",
    ")\n",
    "spectral_result = optimize(spectral_scheme)\n",
    "# spectral_result\n",
    "# print(f\"\\n{'#'*3} Spectral Model - Optimization Result {'#'*3}\\n\")\n",
    "# print(spectral_result)\n",
    "\n",
    "# %%\n",
    "# print(f\"\\n{'#'*3} Spectral Model - Optimized Parameters {'#'*3}\\n\")\n",
    "spectral_result.optimized_parameters\n",
    "# BUG in plot_overview\n",
    "# plot_overview(spectral_result.data[\"dataset\"], linlog=False)\n"
   ]
  },
  {
   "cell_type": "code",
   "execution_count": null,
   "metadata": {},
   "outputs": [],
   "source": [
    "spectral_result\n"
   ]
  },
  {
   "cell_type": "code",
   "execution_count": null,
   "metadata": {},
   "outputs": [],
   "source": [
    "from pyglotaran_extras.plotting.plot_overview import plot_overview\n",
    "\n",
    "fig, axes = plot_overview(spectral_result.data[\"dataset\"], linlog=False)\n"
   ]
  },
  {
   "cell_type": "code",
   "execution_count": null,
   "metadata": {},
   "outputs": [],
   "source": [
    "# stop\n"
   ]
  },
  {
   "cell_type": "code",
   "execution_count": null,
   "metadata": {},
   "outputs": [],
   "source": [
    "from glotaran.io import save_dataset\n",
    "\n",
    "# string_in_string = \"guide/target_step5_Bulk_RP2_CA_Red_Ant1_RP1_RC_free_Red2_clp_spectral_{}.ascii\".format(species.item())\n",
    "save_dataset(\n",
    "    spectral_result.data[\"dataset\"].fitted_data,\n",
    "    \"guide/target_step5_Bulk_RP2_CA_Red_Ant1_RP1_RC_free_Red2_clp_RC_fitted.ascii\",\n",
    "    allow_overwrite=True,\n",
    ")\n"
   ]
  },
  {
   "cell_type": "code",
   "execution_count": null,
   "metadata": {},
   "outputs": [],
   "source": [
    "spectral_resultRC = spectral_result\n"
   ]
  },
  {
   "cell_type": "code",
   "execution_count": null,
   "metadata": {},
   "outputs": [],
   "source": [
    "plot_style = PlotStyle()\n",
    "plt.rc(\"axes\", prop_cycle=plot_style.cycler)\n",
    "plt.rcParams[\"figure.figsize\"] = (21, 14)\n",
    "\n",
    "dataset = load_dataset(\n",
    "    \"guide/target_step5_Bulk_RP2_CA_Red_Ant1_RP1_RC_free_Red2_clp_Red1.ascii\"\n",
    ")\n",
    "# plot_data_overview(dataset)\n"
   ]
  },
  {
   "cell_type": "code",
   "execution_count": null,
   "metadata": {},
   "outputs": [],
   "source": [
    "spectral_model = load_model(\"models/spectral_model.yml\")\n",
    "spectral_parameters = load_parameters(\"models/spectral_params.yml\")\n",
    "spectral_model.validate(parameters=spectral_parameters)\n",
    "\n",
    "spectral_scheme = Scheme(\n",
    "    spectral_model,\n",
    "    spectral_parameters,\n",
    "    data={\"dataset\": dataset},\n",
    ")\n",
    "spectral_result = optimize(spectral_scheme)\n",
    "# spectral_result\n",
    "# print(f\"\\n{'#'*3} Spectral Model - Optimization Result {'#'*3}\\n\")\n",
    "# print(spectral_result)\n",
    "\n",
    "# %%\n",
    "# print(f\"\\n{'#'*3} Spectral Model - Optimized Parameters {'#'*3}\\n\")\n",
    "spectral_result.optimized_parameters\n",
    "# BUG in plot_overview\n",
    "# plot_overview(spectral_result.data[\"dataset\"], linlog=False)\n"
   ]
  },
  {
   "cell_type": "code",
   "execution_count": null,
   "metadata": {},
   "outputs": [],
   "source": [
    "spectral_result\n"
   ]
  },
  {
   "cell_type": "code",
   "execution_count": null,
   "metadata": {},
   "outputs": [],
   "source": [
    "from pyglotaran_extras.plotting.plot_overview import plot_overview\n",
    "\n",
    "fig, axes = plot_overview(spectral_result.data[\"dataset\"], linlog=False)\n"
   ]
  },
  {
   "cell_type": "code",
   "execution_count": null,
   "metadata": {},
   "outputs": [],
   "source": [
    "from glotaran.io import save_dataset\n",
    "\n",
    "# string_in_string = \"guide/target_step5_Bulk_RP2_CA_Red_Ant1_RP1_RC_free_Red2_clp_spectral_{}.ascii\".format(species.item())\n",
    "save_dataset(\n",
    "    spectral_result.data[\"dataset\"].fitted_data,\n",
    "    \"guide/target_step5_Bulk_RP2_CA_Red_Ant1_RP1_RC_free_Red2_clp_Red1_fitted.ascii\",\n",
    "    allow_overwrite=True,\n",
    ")\n"
   ]
  },
  {
   "cell_type": "code",
   "execution_count": null,
   "metadata": {},
   "outputs": [],
   "source": [
    "spectral_resultRed1 = spectral_result\n"
   ]
  },
  {
   "cell_type": "code",
   "execution_count": null,
   "metadata": {},
   "outputs": [],
   "source": [
    "plot_style = PlotStyle()\n",
    "plt.rc(\"axes\", prop_cycle=plot_style.cycler)\n",
    "plt.rcParams[\"figure.figsize\"] = (21, 14)\n",
    "\n",
    "dataset = load_dataset(\n",
    "    \"guide/target_step5_Bulk_RP2_CA_Red_Ant1_RP1_RC_free_Red2_clp_Red2.ascii\"\n",
    ")\n",
    "# plot_data_overview(dataset)\n"
   ]
  },
  {
   "cell_type": "code",
   "execution_count": null,
   "metadata": {},
   "outputs": [],
   "source": [
    "spectral_model = load_model(\"models/spectral_model.yml\")\n",
    "spectral_parameters = load_parameters(\"models/spectral_params.yml\")\n",
    "spectral_model.validate(parameters=spectral_parameters)\n",
    "\n",
    "spectral_scheme = Scheme(\n",
    "    spectral_model,\n",
    "    spectral_parameters,\n",
    "    data={\"dataset\": dataset},\n",
    ")\n",
    "spectral_result = optimize(spectral_scheme)\n",
    "# spectral_result\n",
    "# print(f\"\\n{'#'*3} Spectral Model - Optimization Result {'#'*3}\\n\")\n",
    "# print(spectral_result)\n",
    "\n",
    "# %%\n",
    "# print(f\"\\n{'#'*3} Spectral Model - Optimized Parameters {'#'*3}\\n\")\n",
    "spectral_result.optimized_parameters\n",
    "# BUG in plot_overview\n",
    "# plot_overview(spectral_result.data[\"dataset\"], linlog=False)\n"
   ]
  },
  {
   "cell_type": "code",
   "execution_count": null,
   "metadata": {},
   "outputs": [],
   "source": [
    "spectral_result\n"
   ]
  },
  {
   "cell_type": "code",
   "execution_count": null,
   "metadata": {},
   "outputs": [],
   "source": [
    "from pyglotaran_extras.plotting.plot_overview import plot_overview\n",
    "\n",
    "fig, axes = plot_overview(spectral_result.data[\"dataset\"], linlog=False)\n"
   ]
  },
  {
   "cell_type": "code",
   "execution_count": null,
   "metadata": {},
   "outputs": [],
   "source": [
    "from glotaran.io import save_dataset\n",
    "\n",
    "# string_in_string = \"guide/target_step5_Bulk_RP2_CA_Red_Ant1_RP1_RC_free_Red2_clp_spectral_{}.ascii\".format(species.item())\n",
    "save_dataset(\n",
    "    spectral_result.data[\"dataset\"].fitted_data,\n",
    "    \"guide/target_step5_Bulk_RP2_CA_Red_Ant1_RP1_RC_free_Red2_clp_Red2_fitted.ascii\",\n",
    "    allow_overwrite=True,\n",
    ")\n"
   ]
  },
  {
   "cell_type": "code",
   "execution_count": null,
   "metadata": {},
   "outputs": [],
   "source": [
    "spectral_resultRed2 = spectral_result\n"
   ]
  },
  {
   "cell_type": "code",
   "execution_count": null,
   "metadata": {},
   "outputs": [],
   "source": [
    "plot_style = PlotStyle()\n",
    "plt.rc(\"axes\", prop_cycle=plot_style.cycler)\n",
    "plt.rcParams[\"figure.figsize\"] = (21, 14)\n",
    "\n",
    "dataset = load_dataset(\n",
    "    \"guide/target_step5_Bulk_RP2_CA_Red_Ant1_RP1_RC_free_Red2_clp_free.ascii\"\n",
    ")\n",
    "# plot_data_overview(dataset)\n"
   ]
  },
  {
   "cell_type": "code",
   "execution_count": null,
   "metadata": {},
   "outputs": [],
   "source": [
    "spectral_model = load_model(\"models/spectral_model.yml\")\n",
    "spectral_parameters = load_parameters(\"models/spectral_params_free.yml\")\n",
    "spectral_model.validate(parameters=spectral_parameters)\n",
    "\n",
    "spectral_scheme = Scheme(\n",
    "    spectral_model,\n",
    "    spectral_parameters,\n",
    "    data={\"dataset\": dataset},\n",
    "    maximum_number_function_evaluations=25,\n",
    ")\n",
    "spectral_result = optimize(spectral_scheme)\n",
    "# spectral_result\n",
    "# print(f\"\\n{'#'*3} Spectral Model - Optimization Result {'#'*3}\\n\")\n",
    "# print(spectral_result)\n",
    "\n",
    "# %%\n",
    "# print(f\"\\n{'#'*3} Spectral Model - Optimized Parameters {'#'*3}\\n\")\n",
    "spectral_result.optimized_parameters\n",
    "# BUG in plot_overview\n",
    "# plot_overview(spectral_result.data[\"dataset\"], linlog=False)\n"
   ]
  },
  {
   "cell_type": "code",
   "execution_count": null,
   "metadata": {},
   "outputs": [],
   "source": [
    "spectral_result\n"
   ]
  },
  {
   "cell_type": "code",
   "execution_count": null,
   "metadata": {},
   "outputs": [],
   "source": [
    "from pyglotaran_extras.plotting.plot_overview import plot_overview\n",
    "\n",
    "fig, axes = plot_overview(spectral_result.data[\"dataset\"], linlog=False)\n"
   ]
  },
  {
   "cell_type": "code",
   "execution_count": null,
   "metadata": {},
   "outputs": [],
   "source": [
    "from glotaran.io import save_dataset\n",
    "\n",
    "# string_in_string = \"guide/target_step5_Bulk_RP2_CA_Red_Ant1_RP1_RC_free_Red2_clp_spectral_{}.ascii\".format(species.item())\n",
    "save_dataset(\n",
    "    spectral_result.data[\"dataset\"].fitted_data,\n",
    "    \"guide/target_step5_Bulk_RP2_CA_Red_Ant1_RP1_RC_free_Red2_clp_free_fitted.ascii\",\n",
    "    allow_overwrite=True,\n",
    ")\n"
   ]
  },
  {
   "cell_type": "markdown",
   "metadata": {},
   "source": [
    "### Spectral fits of the step5 SADS of RC, Red1, Red2\n"
   ]
  },
  {
   "cell_type": "code",
   "execution_count": null,
   "metadata": {},
   "outputs": [],
   "source": [
    "fig, axes = plt.subplots(1, 3, figsize=(15, 4))\n",
    "spectral_resultRC.data[\"dataset\"].data.plot(ax=axes[0])\n",
    "spectral_resultRC.data[\"dataset\"].fitted_data.plot(ax=axes[0])\n",
    "spectral_resultRed1.data[\"dataset\"].data.plot(ax=axes[1])\n",
    "spectral_resultRed1.data[\"dataset\"].fitted_data.plot(ax=axes[1])\n",
    "spectral_resultRed2.data[\"dataset\"].data.plot(ax=axes[2])\n",
    "spectral_resultRed2.data[\"dataset\"].fitted_data.plot(ax=axes[2])\n",
    "axes[0].set_xlabel(\"Wavelength (nm)\")\n",
    "axes[0].set_ylabel(\"SADS (mOD)\")\n",
    "axes[0].set_title(\"RC\")\n",
    "axes[1].set_xlabel(\"Wavelength (nm)\")\n",
    "axes[1].set_ylabel(\"SADS (mOD)\")\n",
    "axes[1].set_title(\"Red1\")\n",
    "axes[2].set_xlabel(\"Wavelength (nm)\")\n",
    "axes[2].set_ylabel(\"SADS (mOD)\")\n",
    "axes[2].set_title(\"Red2\")\n"
   ]
  },
  {
   "cell_type": "markdown",
   "metadata": {},
   "source": [
    "## Step 3g.ii Use scheme 5 with smooth guidance SADS and optimize it\n"
   ]
  },
  {
   "cell_type": "code",
   "execution_count": null,
   "metadata": {},
   "outputs": [],
   "source": [
    "target_scheme = Scheme(\n",
    "    model=\"models/target_step5_Bulk_RP2_CA_Red_Ant1_RP1_RC_free_Red2.yml\",\n",
    "    parameters=load_parameters(\n",
    "        \"models/target_step5_Bulk_RP2_CA_Red_Ant1_RP1_RC_free_Red2.csv\"\n",
    "    ),\n",
    "    maximum_number_function_evaluations=7,\n",
    "    clp_link_tolerance=0.1,\n",
    "    data={\n",
    "        # TA data\n",
    "        \"670TR1\": DATA_PATH_670_1,\n",
    "        \"670TR2\": DATA_PATH_670_2,\n",
    "        \"700TR1\": DATA_PATH_700_3,\n",
    "        \"700TR2\": DATA_PATH_700_4,\n",
    "        \"RCSADS\": \"guide/target_step5_Bulk_RP2_CA_Red_Ant1_RP1_RC_free_Red2_clp_RC_fitted.ascii\",\n",
    "        \"Red1SADS\": \"guide/target_step5_Bulk_RP2_CA_Red_Ant1_RP1_RC_free_Red2_clp_Red1_fitted.ascii\",\n",
    "        \"Red2SADS\": \"guide/target_step5_Bulk_RP2_CA_Red_Ant1_RP1_RC_free_Red2_clp_Red2_fitted.ascii\",\n",
    "        \"Ant1SADS\": \"guide/target_step4_Bulk_RP2_CA_Red_Ant1_RP1_RC_free_clp_Ant1.ascii\",\n",
    "        \"freeSADS\": \"guide/target_step5_Bulk_RP2_CA_Red_Ant1_RP1_RC_free_Red2_clp_free_fitted.ascii\",\n",
    "    },  # type: ignore\n",
    ")\n",
    "target_scheme.validate()\n"
   ]
  },
  {
   "cell_type": "code",
   "execution_count": null,
   "metadata": {},
   "outputs": [],
   "source": [
    "target_result = optimize(target_scheme, raise_exception=True)\n"
   ]
  },
  {
   "cell_type": "markdown",
   "metadata": {},
   "source": [
    "### Results and parameters\n"
   ]
  },
  {
   "cell_type": "code",
   "execution_count": null,
   "metadata": {},
   "outputs": [],
   "source": [
    "# Just call the result to get the optimization result summary.\n",
    "target_result\n",
    "# For easier copy-and-paste try:\n",
    "# print(target_result)\n"
   ]
  },
  {
   "cell_type": "markdown",
   "metadata": {},
   "source": [
    "To save the results of the optimization we can use the `save_result` command.\n",
    "\n",
    "Because it saves _everything_ it consumes about 52MB of disk space per save.\n"
   ]
  },
  {
   "cell_type": "code",
   "execution_count": null,
   "metadata": {},
   "outputs": [],
   "source": [
    "save_result(\n",
    "    result=target_result,\n",
    "    result_path=\"results/target670and700/result.yaml\",\n",
    "    allow_overwrite=True,\n",
    ")\n"
   ]
  },
  {
   "cell_type": "markdown",
   "metadata": {},
   "source": [
    "### Plot result for interpretation\n"
   ]
  },
  {
   "cell_type": "code",
   "execution_count": null,
   "metadata": {},
   "outputs": [],
   "source": [
    "myFRLcolors = [ColorCode.green, \"g\", \"tab:orange\", \"r\", \"k\", ColorCode.cyan, \"b\", \"y\"]\n",
    "# myFRLcolors = [ ColorCode.green,\"g\",\"tab:orange\",  \"r\", \"k\",ColorCode.cyan, \"b\", ColorCode.yellow]\n",
    "\n",
    "custom_cycler1 = cycler(color=myFRLcolors)\n",
    "custom_cycler2 = cycler(color=myFRLcolors, linestyle=[\"--\"] * 8)\n",
    "custom_cyclers = (custom_cycler1, custom_cycler1, custom_cycler2, custom_cycler2)\n",
    "from custom_plotting import plot_concentration_and_spectra\n",
    "\n",
    "_ = plot_concentration_and_spectra(\n",
    "    [\n",
    "        target_result3.data[\"670TR1\"],\n",
    "        target_result3.data[\"670TR2\"],\n",
    "        target_result3.data[\"700TR1\"],\n",
    "        target_result3.data[\"700TR2\"],\n",
    "    ],\n",
    "    cycler=custom_cyclers,\n",
    "    das_cycler=PlotStyle().cycler,\n",
    ")\n"
   ]
  },
  {
   "cell_type": "markdown",
   "metadata": {},
   "source": [
    "### Residual analysis of all data\n"
   ]
  },
  {
   "cell_type": "code",
   "execution_count": null,
   "metadata": {},
   "outputs": [],
   "source": [
    "fig, axes = plot_svd_of_residual(\n",
    "    [\n",
    "        target_result.data[\"670TR1\"],\n",
    "        target_result.data[\"670TR2\"],\n",
    "        target_result.data[\"700TR1\"],\n",
    "        target_result.data[\"700TR2\"],\n",
    "    ],\n",
    "    linlog=True,\n",
    "    linthresh=1,\n",
    "    index=0,\n",
    ")\n",
    "axes[0].annotate(\"A\", xy=(-0.1, 1), xycoords=\"axes fraction\", fontsize=16)\n",
    "axes[1].annotate(\"B\", xy=(-0.1, 1), xycoords=\"axes fraction\", fontsize=16)\n"
   ]
  },
  {
   "cell_type": "markdown",
   "metadata": {},
   "source": [
    "### Comparison of the estimated SADS (red) and the guidance spectra (black)\n",
    "\n",
    "The guidance spectra are the SADS estimated with scheme 3C.\n",
    "Alternatively, (smooth) shapes can be estimated with the help of spectral models or splines.\n"
   ]
  },
  {
   "cell_type": "code",
   "execution_count": null,
   "metadata": {},
   "outputs": [],
   "source": [
    "fig, axes = plt.subplots(2, 3, figsize=(15, 7))\n",
    "target_result.data[\"RCSADS\"].data.plot(ax=axes[0, 0])\n",
    "target_result.data[\"RCSADS\"].fitted_data.plot(ax=axes[0, 0])\n",
    "target_result.data[\"Red1SADS\"].data.plot(ax=axes[0, 1])\n",
    "target_result.data[\"Red1SADS\"].fitted_data.plot(ax=axes[0, 1])\n",
    "target_result.data[\"Red2SADS\"].data.plot(ax=axes[0, 2])\n",
    "target_result.data[\"Red2SADS\"].fitted_data.plot(ax=axes[0, 2])\n",
    "# target_result.data[\"RP1SADS\"].data.plot(ax=axes[1,0])\n",
    "# target_result.data[\"RP1SADS\"].fitted_data.plot(ax=axes[1,0])\n",
    "target_result.data[\"Ant1SADS\"].data.plot(ax=axes[1, 1])\n",
    "target_result.data[\"Ant1SADS\"].fitted_data.plot(ax=axes[1, 1])\n",
    "target_result.data[\"freeSADS\"].data.plot(ax=axes[1, 2])\n",
    "target_result.data[\"freeSADS\"].fitted_data.plot(ax=axes[1, 2])\n",
    "axes[0, 0].set_xlabel(\"\")\n",
    "axes[0, 0].set_ylabel(\"SADS (mOD)\")\n",
    "axes[0, 0].set_title(\"RC\")\n",
    "axes[0, 1].set_xlabel(\"\")\n",
    "axes[0, 1].set_ylabel(\"SADS (mOD)\")\n",
    "axes[0, 1].set_title(\"Red1\")\n",
    "axes[0, 2].set_xlabel(\"\")\n",
    "axes[0, 2].set_ylabel(\"SADS (mOD)\")\n",
    "axes[0, 2].set_title(\"Red2\")\n",
    "axes[1, 0].set_xlabel(\"Wavelength (nm)\")\n",
    "axes[1, 0].set_ylabel(\"SADS (mOD)\")\n",
    "axes[1, 0].set_title(\"RP1\")\n",
    "axes[1, 1].set_xlabel(\"Wavelength (nm)\")\n",
    "axes[1, 1].set_ylabel(\"SADS (mOD)\")\n",
    "axes[1, 1].set_title(\"Ant1\")\n",
    "axes[1, 2].set_xlabel(\"Wavelength (nm)\")\n",
    "axes[1, 2].set_ylabel(\"SADS (mOD)\")\n",
    "axes[1, 2].set_title(\"free\")\n"
   ]
  },
  {
   "cell_type": "code",
   "execution_count": null,
   "metadata": {},
   "outputs": [],
   "source": [
    "fig, axes = plt.subplots(1, 3, figsize=(15, 4))\n",
    "target_result.data[\"RCSADS\"].data.plot(ax=axes[0])\n",
    "target_result.data[\"RCSADS\"].fitted_data.plot(ax=axes[0])\n",
    "target_result.data[\"Red1SADS\"].data.plot(ax=axes[1])\n",
    "target_result.data[\"Red1SADS\"].fitted_data.plot(ax=axes[1])\n",
    "target_result.data[\"Red2SADS\"].data.plot(ax=axes[2])\n",
    "target_result.data[\"Red2SADS\"].fitted_data.plot(ax=axes[2])\n",
    "axes[0].set_xlabel(\"Wavelength (nm)\")\n",
    "axes[0].set_ylabel(\"SADS (mOD)\")\n",
    "axes[0].set_title(\"RC\")\n",
    "axes[1].set_xlabel(\"Wavelength (nm)\")\n",
    "axes[1].set_ylabel(\"SADS (mOD)\")\n",
    "axes[1].set_title(\"Red1\")\n",
    "axes[2].set_xlabel(\"Wavelength (nm)\")\n",
    "axes[2].set_ylabel(\"SADS (mOD)\")\n",
    "axes[2].set_title(\"Red2\")\n",
    "axes[0].axhline(0, color=\"k\", linewidth=1)\n",
    "axes[1].axhline(0, color=\"k\", linewidth=1)\n",
    "axes[2].axhline(0, color=\"k\", linewidth=1)\n"
   ]
  },
  {
   "cell_type": "code",
   "execution_count": null,
   "metadata": {},
   "outputs": [],
   "source": [
    "# Access the result's `optimized_parameters` to print a markdown table of the optimized parameters:\n",
    "target_result.optimized_parameters\n"
   ]
  },
  {
   "cell_type": "code",
   "execution_count": null,
   "metadata": {},
   "outputs": [],
   "source": [
    "# stop\n"
   ]
  },
  {
   "cell_type": "markdown",
   "metadata": {},
   "source": [
    "### Result plots\n"
   ]
  },
  {
   "cell_type": "markdown",
   "metadata": {},
   "source": [
    "<sub>Note: The color scheme of the plots in this notebook may not match published figures.</sub>\n"
   ]
  },
  {
   "cell_type": "markdown",
   "metadata": {},
   "source": [
    "### Fit quality\n"
   ]
  },
  {
   "cell_type": "code",
   "execution_count": null,
   "metadata": {},
   "outputs": [],
   "source": [
    "target_result_TA = (\n",
    "    target_result.data[\"670TR1\"],\n",
    "    target_result.data[\"670TR2\"],\n",
    "    target_result.data[\"700TR1\"],\n",
    "    target_result.data[\"700TR2\"],\n",
    ")\n",
    "wavelengths = select_plot_wavelengths(target_result_TA, equidistant_wavelengths=True)\n",
    "plot_fitted_traces(target_result_TA, wavelengths, linlog=True, linthresh=1)\n"
   ]
  },
  {
   "cell_type": "markdown",
   "metadata": {},
   "source": [
    "The above command `plot_fitted_traces` is used to plot a selection of traces for a set of wavelengths (autogenerated using the `select_plot_wavelengths` function).\n",
    "To show to make a manual selection of traces, and 'dress up the plot' see the code below, which reproduces Figure 2 of the iScience paper.\n"
   ]
  },
  {
   "cell_type": "code",
   "execution_count": null,
   "metadata": {},
   "outputs": [],
   "source": [
    "# Reproduction of Figure 2 of the iScience paper\n",
    "from pyglotaran_extras.plotting.style import ColorCode as cc\n",
    "from custom_plotting import plot_fitted_traces_iscience\n",
    "\n",
    "fig, ax_ = plot_fitted_traces_iscience(\n",
    "    target_result_TA,\n",
    "    [685, 700, 720, 760],\n",
    "    linlog=True,\n",
    "    linthresh=1,  # published figure uses 0.3 for easthetic reasons, but here 1 looks better\n",
    "    axes_shape=(2, 2),\n",
    "    figsize=(6, 4),\n",
    "    title=\"\",\n",
    "    per_axis_legend=True,\n",
    "    cycler=cycler(\n",
    "        color=[\n",
    "            cc.grey,\n",
    "            cc.black,\n",
    "            cc.grey,\n",
    "            cc.black,\n",
    "            cc.orange,\n",
    "            cc.red,\n",
    "            cc.orange,\n",
    "            cc.red,\n",
    "        ]\n",
    "    ),\n",
    ")\n"
   ]
  },
  {
   "cell_type": "markdown",
   "metadata": {},
   "source": [
    "### Overview 670 exc\n"
   ]
  },
  {
   "cell_type": "code",
   "execution_count": null,
   "metadata": {},
   "outputs": [],
   "source": [
    "plot_overview(\n",
    "    target_result.data[\"670TR1\"],\n",
    "    nr_of_data_svd_vectors=4,\n",
    "    nr_of_residual_svd_vectors=2,\n",
    "    linlog=False,\n",
    "    linthresh=1,\n",
    "    cycler=cycler(\n",
    "        color=[\n",
    "            ColorCode.green,\n",
    "            \"g\",\n",
    "            ColorCode.orange,\n",
    "            \"r\",\n",
    "            \"k\",\n",
    "            ColorCode.cyan,\n",
    "            \"b\",\n",
    "            \"y\",\n",
    "        ]\n",
    "    ),\n",
    "    use_svd_number=True,\n",
    "    das_cycler=PlotStyle().cycler,\n",
    "    svd_cycler=PlotStyle().cycler,\n",
    ")\n"
   ]
  },
  {
   "cell_type": "code",
   "execution_count": null,
   "metadata": {},
   "outputs": [],
   "source": [
    "plot_overview(\n",
    "    target_result.data[\"670TR2\"],\n",
    "    nr_of_data_svd_vectors=4,\n",
    "    nr_of_residual_svd_vectors=2,\n",
    "    linlog=False,\n",
    "    linthresh=1,\n",
    "    cycler=cycler(\n",
    "        color=[\n",
    "            ColorCode.green,\n",
    "            \"g\",\n",
    "            ColorCode.orange,\n",
    "            \"r\",\n",
    "            \"k\",\n",
    "            ColorCode.cyan,\n",
    "            \"b\",\n",
    "            \"y\",\n",
    "        ]\n",
    "    ),\n",
    "    use_svd_number=True,\n",
    "    das_cycler=PlotStyle().cycler,\n",
    "    svd_cycler=PlotStyle().cycler,\n",
    ")\n"
   ]
  },
  {
   "cell_type": "markdown",
   "metadata": {},
   "source": [
    "### Overview 700 exc\n"
   ]
  },
  {
   "cell_type": "code",
   "execution_count": null,
   "metadata": {},
   "outputs": [],
   "source": [
    "plot_overview(\n",
    "    target_result.data[\"700TR1\"],\n",
    "    nr_of_data_svd_vectors=4,\n",
    "    nr_of_residual_svd_vectors=2,\n",
    "    linlog=False,\n",
    "    linthresh=1,\n",
    "    cycler=cycler(\n",
    "        color=[\n",
    "            ColorCode.green,\n",
    "            \"g\",\n",
    "            ColorCode.orange,\n",
    "            \"r\",\n",
    "            \"k\",\n",
    "            ColorCode.cyan,\n",
    "            \"b\",\n",
    "            \"y\",\n",
    "        ]\n",
    "    ),\n",
    "    use_svd_number=True,\n",
    "    das_cycler=PlotStyle().cycler,\n",
    "    svd_cycler=PlotStyle().cycler,\n",
    ")\n"
   ]
  },
  {
   "cell_type": "code",
   "execution_count": null,
   "metadata": {},
   "outputs": [],
   "source": [
    "# from pyglotaran_extras.plotting.style import PlotStyle\n",
    "\n",
    "fig, axes = plot_overview(\n",
    "    target_result.data[\"700TR2\"],\n",
    "    nr_of_data_svd_vectors=4,\n",
    "    nr_of_residual_svd_vectors=2,\n",
    "    linlog=False,\n",
    "    linthresh=1,\n",
    "    cycler=cycler(\n",
    "        color=[\n",
    "            ColorCode.green,\n",
    "            \"g\",\n",
    "            ColorCode.orange,\n",
    "            \"r\",\n",
    "            \"k\",\n",
    "            ColorCode.cyan,\n",
    "            \"b\",\n",
    "            \"y\",\n",
    "        ]\n",
    "    ),\n",
    "    use_svd_number=True,\n",
    "    das_cycler=PlotStyle().cycler,\n",
    "    svd_cycler=PlotStyle().cycler,\n",
    ")\n"
   ]
  },
  {
   "cell_type": "markdown",
   "metadata": {},
   "source": [
    "### Amplitude matrices\n"
   ]
  },
  {
   "cell_type": "code",
   "execution_count": null,
   "metadata": {},
   "outputs": [],
   "source": [
    "show_a_matrixes(target_result)\n"
   ]
  },
  {
   "cell_type": "markdown",
   "metadata": {},
   "source": [
    "### K-matrix of the target model\n"
   ]
  },
  {
   "cell_type": "code",
   "execution_count": null,
   "metadata": {},
   "outputs": [],
   "source": [
    "compartments = target_scheme.model.initial_concentration[\"input700\"].compartments\n",
    "\n",
    "target_scheme.model.k_matrix[\"kmWL\"].matrix_as_markdown(compartments).replace(\n",
    "    \"0.0000e+00\", \"\"\n",
    ").replace(\"To\", \"\").replace(\"From\", \"&larr;\").replace(\"rates\", \"k\")\n"
   ]
  }
 ],
 "metadata": {
  "kernelspec": {
   "display_name": "Python 3 (ipykernel)",
   "language": "python",
   "name": "python3"
  },
  "language_info": {
   "codemirror_mode": {
    "name": "ipython",
    "version": 3
   },
   "file_extension": ".py",
   "mimetype": "text/x-python",
   "name": "python",
   "nbconvert_exporter": "python",
   "pygments_lexer": "ipython3",
   "version": "3.10.13"
  },
  "vscode": {
   "interpreter": {
    "hash": "c96939a00adbd8139175687d27213cba589faa8203f47f613c3350e59358e0cf"
   }
  }
 },
 "nbformat": 4,
 "nbformat_minor": 4
}

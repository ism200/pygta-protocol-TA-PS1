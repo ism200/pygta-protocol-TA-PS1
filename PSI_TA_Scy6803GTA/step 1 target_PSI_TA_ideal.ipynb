{
 "cells": [
  {
   "cell_type": "markdown",
   "metadata": {},
   "source": [
    "# Step 1 Target analysis of TA of ideal WL-PSI\n"
   ]
  },
  {
   "cell_type": "markdown",
   "metadata": {},
   "source": [
    "### Package imports\n"
   ]
  },
  {
   "cell_type": "code",
   "execution_count": null,
   "metadata": {},
   "outputs": [],
   "source": [
    "from glotaran.io import load_parameters, save_result\n",
    "from glotaran.optimization.optimize import optimize\n",
    "from glotaran.project.scheme import Scheme\n",
    "\n",
    "# Plotting related imports\n",
    "from pyglotaran_extras import plot_overview, plot_data_overview\n",
    "from pyglotaran_extras import plot_fitted_traces, select_plot_wavelengths\n",
    "from pyglotaran_extras.inspect import show_a_matrixes\n",
    "from pyglotaran_extras.plotting.style import PlotStyle\n",
    "from pyglotaran_extras.plotting.style import ColorCode\n",
    "from cycler import cycler\n"
   ]
  },
  {
   "cell_type": "markdown",
   "metadata": {},
   "source": [
    "### Data inspection\n"
   ]
  },
  {
   "cell_type": "code",
   "execution_count": null,
   "metadata": {},
   "outputs": [],
   "source": [
    "# specify data paths (relative to notebook)\n",
    "DATA_PATH3 = \"data/synWTred_idealc.ascii\"\n",
    "DATA_PATH4 = \"data/synWTred_ideald.ascii\"\n"
   ]
  },
  {
   "cell_type": "code",
   "execution_count": null,
   "metadata": {},
   "outputs": [],
   "source": [
    "fig, axes = plot_data_overview(\n",
    "    DATA_PATH3,\n",
    "    nr_of_data_svd_vectors=5,\n",
    "    linlog=False,\n",
    "    cmap=\"seismic\",\n",
    "    vmin=-7,\n",
    "    vmax=7,\n",
    "    use_svd_number=True,\n",
    ")\n"
   ]
  },
  {
   "cell_type": "code",
   "execution_count": null,
   "metadata": {},
   "outputs": [],
   "source": [
    "fig, axes = plot_data_overview(\n",
    "    DATA_PATH4,\n",
    "    nr_of_data_svd_vectors=5,\n",
    "    linlog=False,\n",
    "    linthresh=10,\n",
    "    cmap=\"seismic\",\n",
    "    vmin=-7,\n",
    "    vmax=7,\n",
    "    use_svd_number=True,\n",
    ")\n"
   ]
  },
  {
   "cell_type": "markdown",
   "metadata": {},
   "source": [
    "## Target Analysis\n"
   ]
  },
  {
   "cell_type": "markdown",
   "metadata": {},
   "source": [
    "### Model specification\n"
   ]
  },
  {
   "cell_type": "markdown",
   "metadata": {},
   "source": [
    "#### Model file\n"
   ]
  },
  {
   "cell_type": "code",
   "execution_count": null,
   "metadata": {},
   "outputs": [],
   "source": [
    "target_model_path = \"models/ideal_target_model_PSI_TA.yml\"\n",
    "\n",
    "## Uncomment the following 2 lines to display the target model file in the notebook\n",
    "# from glotaran.utils.ipython import display_file\n",
    "# display_file(target_model_path, syntax=\"yaml\")\n",
    "\n",
    "# Alternatively (recommended), open the file in a text editor to see the model definition\n"
   ]
  },
  {
   "cell_type": "markdown",
   "metadata": {},
   "source": [
    "#### Parameters file\n"
   ]
  },
  {
   "cell_type": "code",
   "execution_count": null,
   "metadata": {},
   "outputs": [],
   "source": [
    "target_parameters_path = \"models/ideal_target_parameters_PSI_TA.csv\"\n",
    "optimized_parameters = load_parameters(target_parameters_path)\n",
    "\n",
    "# Uncomment the next line and run the cell to print the starting values of the analysis\n",
    "# These starting values have already been optimized, hence the name optimized_parameters\n",
    "\n",
    "# optimized_parameters\n"
   ]
  },
  {
   "cell_type": "markdown",
   "metadata": {},
   "source": [
    "### Define the analysis scheme and optimize\n",
    "\n",
    "A scheme is a collection of a model, parameters and data, along with options for optimization.\n"
   ]
  },
  {
   "cell_type": "code",
   "execution_count": null,
   "metadata": {},
   "outputs": [],
   "source": [
    "target_scheme = Scheme(\n",
    "    model=target_model_path,  # type: ignore\n",
    "    parameters=optimized_parameters,\n",
    "    maximum_number_function_evaluations=7,\n",
    "    clp_link_tolerance=0.1,\n",
    "    data={\n",
    "        # TA data\n",
    "        \"700TR1\": DATA_PATH3,\n",
    "        \"700TR2\": DATA_PATH4,\n",
    "    },  # type: ignore\n",
    ")\n",
    "target_scheme.validate()\n"
   ]
  },
  {
   "cell_type": "code",
   "execution_count": null,
   "metadata": {},
   "outputs": [],
   "source": [
    "target_result = optimize(target_scheme, raise_exception=True)\n"
   ]
  },
  {
   "cell_type": "markdown",
   "metadata": {},
   "source": [
    "<sub>For reference, after 6 iterations the final cost is expected to be 7.7517e-05.</sub>\n",
    "\n",
    "To save the results of the optimization we can use the `save_result` command.\n",
    "\n",
    "Because it saves _everything_ it consumes about 15MB of disk space per save.\n"
   ]
  },
  {
   "cell_type": "code",
   "execution_count": null,
   "metadata": {},
   "outputs": [],
   "source": [
    "save_result(\n",
    "    result=target_result,\n",
    "    result_path=\"results/ideal/result.yaml\",\n",
    "    allow_overwrite=True,\n",
    ")\n",
    "# Look at the saved result files in the results/ideal folder\n"
   ]
  },
  {
   "cell_type": "markdown",
   "metadata": {},
   "source": [
    "### Results and parameters\n"
   ]
  },
  {
   "cell_type": "code",
   "execution_count": null,
   "metadata": {},
   "outputs": [],
   "source": [
    "# Just call the result to get the optimization result summary.\n",
    "target_result\n",
    "# For easier copy-and-paste try:\n",
    "# print(target_result)\n"
   ]
  },
  {
   "cell_type": "code",
   "execution_count": null,
   "metadata": {},
   "outputs": [],
   "source": [
    "# Access the result's `optimized_parameters` to print a markdown table of the optimized parameters:\n",
    "target_result.optimized_parameters\n"
   ]
  },
  {
   "cell_type": "markdown",
   "metadata": {},
   "source": [
    "## Result plots\n"
   ]
  },
  {
   "cell_type": "markdown",
   "metadata": {},
   "source": [
    "<sub>Note: The color scheme of the plots in this notebook may not match published figures.</sub>\n"
   ]
  },
  {
   "cell_type": "markdown",
   "metadata": {},
   "source": [
    "## Fit quality\n"
   ]
  },
  {
   "cell_type": "code",
   "execution_count": null,
   "metadata": {},
   "outputs": [],
   "source": [
    "target_result_TA = (\n",
    "    target_result.data[\"700TR1\"],\n",
    "    target_result.data[\"700TR2\"],\n",
    ")\n",
    "wavelengths = select_plot_wavelengths(target_result_TA, equidistant_wavelengths=True)\n",
    "fig_traces = plot_fitted_traces(target_result_TA, wavelengths, linlog=True, linthresh=1)\n"
   ]
  },
  {
   "cell_type": "markdown",
   "metadata": {},
   "source": [
    "The above command `plot_fitted_traces` is used to plot a selection of traces for a set of wavelengths (autogenerated using the `select_plot_wavelengths` function).\n"
   ]
  },
  {
   "cell_type": "markdown",
   "metadata": {},
   "source": [
    "## Overview 700 exc\n"
   ]
  },
  {
   "cell_type": "markdown",
   "metadata": {},
   "source": [
    "Note that the final rms error is 3.5E-5, which is almost a million times smaller than the largest signal, a signal to noise ratio that is of course experimentally impossible. This residual matrix still shows some structure in the overview plots below.\n"
   ]
  },
  {
   "cell_type": "code",
   "execution_count": null,
   "metadata": {},
   "outputs": [],
   "source": [
    "fig_700tr1 = plot_overview(\n",
    "    target_result.data[\"700TR1\"],\n",
    "    nr_of_data_svd_vectors=4,\n",
    "    nr_of_residual_svd_vectors=1,\n",
    "    linlog=False,\n",
    "    linthresh=1,\n",
    "    cycler=cycler(\n",
    "        color=[\"y\", \"g\", \"tab:orange\", \"r\", \"k\", \"c\", \"b\", \"m\", \"tab:purple\"]\n",
    "    ),\n",
    "    use_svd_number=True,\n",
    "    das_cycler=PlotStyle().cycler,\n",
    "    svd_cycler=PlotStyle().cycler,\n",
    ")\n"
   ]
  },
  {
   "cell_type": "code",
   "execution_count": null,
   "metadata": {},
   "outputs": [],
   "source": [
    "fig_700tr2 = plot_overview(\n",
    "    target_result.data[\"700TR2\"],\n",
    "    nr_of_data_svd_vectors=5,\n",
    "    nr_of_residual_svd_vectors=1,\n",
    "    linlog=False,\n",
    "    linthresh=1,\n",
    "    cycler=cycler(\n",
    "        color=[\"y\", \"g\", \"tab:orange\", \"r\", \"k\", \"c\", \"b\", \"m\", \"tab:purple\"]\n",
    "    ),\n",
    "    use_svd_number=True,\n",
    "    das_cycler=PlotStyle().cycler,\n",
    "    svd_cycler=PlotStyle().cycler,\n",
    ")\n"
   ]
  },
  {
   "cell_type": "markdown",
   "metadata": {},
   "source": [
    "## Plot result for interpretation\n"
   ]
  },
  {
   "cell_type": "code",
   "execution_count": null,
   "metadata": {},
   "outputs": [],
   "source": [
    "from custom_plotting import plot_concentration_and_spectra\n",
    "\n",
    "custom_cycler = cycler(color=[\"g\", \"r\", \"k\", ColorCode.cyan, \"b\"])\n",
    "custom_cycler2 = cycler(\n",
    "    color=[\"tab:grey\", \"tab:orange\", ColorCode.green, ColorCode.turquoise, \"m\"]\n",
    ")\n",
    "\n",
    "fig, axes = plot_concentration_and_spectra(\n",
    "    [target_result.data[\"700TR1\"], target_result.data[\"700TR2\"]],\n",
    "    cycler=custom_cycler,\n",
    "    das_cycler=custom_cycler2,\n",
    "    # das_cycler=PlotStyle().cycler,  # for default colors\n",
    ")\n"
   ]
  },
  {
   "cell_type": "markdown",
   "metadata": {},
   "source": [
    "### Amplitude matrices\n"
   ]
  },
  {
   "cell_type": "code",
   "execution_count": null,
   "metadata": {},
   "outputs": [],
   "source": [
    "show_a_matrixes(target_result)\n"
   ]
  },
  {
   "cell_type": "code",
   "execution_count": null,
   "metadata": {},
   "outputs": [],
   "source": [
    "compartments = target_scheme.model.initial_concentration[\"input700\"].compartments\n",
    "\n",
    "target_scheme.model.k_matrix[\"kmWL\"].matrix_as_markdown(compartments).replace(\n",
    "    \"0.0000e+00\", \"\"\n",
    ").replace(\"To\", \"\").replace(\"From\", \"&larr;\").replace(\"rates\", \"k\")\n"
   ]
  }
 ],
 "metadata": {
  "kernelspec": {
   "display_name": "Python 3 (ipykernel)",
   "language": "python",
   "name": "python3"
  },
  "language_info": {
   "codemirror_mode": {
    "name": "ipython",
    "version": 3
   },
   "file_extension": ".py",
   "mimetype": "text/x-python",
   "name": "python",
   "nbconvert_exporter": "python",
   "pygments_lexer": "ipython3",
   "version": "3.10.13"
  },
  "vscode": {
   "interpreter": {
    "hash": "c96939a00adbd8139175687d27213cba589faa8203f47f613c3350e59358e0cf"
   }
  }
 },
 "nbformat": 4,
 "nbformat_minor": 4
}

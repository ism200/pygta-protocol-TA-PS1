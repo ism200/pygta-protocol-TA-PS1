{
 "cells": [
  {
   "cell_type": "markdown",
   "metadata": {},
   "source": [
    "## Global analysis of 670nm excitation TA of WL-PSI of SCy6803"
   ]
  },
  {
   "cell_type": "markdown",
   "metadata": {},
   "source": [
    "### Inspect data"
   ]
  },
  {
   "cell_type": "code",
   "execution_count": null,
   "metadata": {},
   "outputs": [],
   "source": [
    "from cycler import cycler\n",
    "from glotaran.io import load_parameters, save_result\n",
    "from glotaran.optimization.optimize import optimize\n",
    "from glotaran.project.scheme import Scheme\n",
    "from pyglotaran_extras.plotting.plot_overview import plot_overview\n",
    "from pyglotaran_extras.plotting.style import PlotStyle\n",
    "from pyglotaran_extras.plotting.plot_traces import (\n",
    "    plot_fitted_traces,\n",
    "    select_plot_wavelengths,\n",
    ")\n",
    "from pyglotaran_extras.inspect import show_a_matrixes"
   ]
  },
  {
   "cell_type": "code",
   "execution_count": null,
   "metadata": {},
   "outputs": [],
   "source": [
    "from pyglotaran_extras import plot_data_overview\n",
    "\n",
    "DATA_PATH1 = \"data/SCy6803WL/synWTred670_700nm_exc2RPnocycle1nm_reva.ascii\"\n",
    "DATA_PATH2 = \"data/SCy6803WL/synWTred670_700nm_exc2RPnocycle1nm_revb.ascii\"\n",
    "DATA_PATH3 = \"data/SCy6803WL/synWTred670_700nm_exc2RPnocycle1nm_revc.ascii\"\n",
    "DATA_PATH4 = \"data/SCy6803WL/synWTred670_700nm_exc2RPnocycle1nm_revd.ascii\"\n",
    "fig, axes = plot_data_overview(\n",
    "    DATA_PATH1, nr_of_data_svd_vectors=5, linlog=False,  cmap='seismic',vmin = -7,vmax=7,use_svd_number=True\n",
    ")\n",
    "# change color map seismic or bwr\n",
    "# axes[0].set_cmap('seismic')"
   ]
  },
  {
   "cell_type": "code",
   "execution_count": null,
   "metadata": {},
   "outputs": [],
   "source": [
    "import matplotlib.pyplot as plt\n",
    "# import matplotlib.pyplot.set_cmap as set_cmap\n",
    "plt.set_cmap('seismic')\n",
    "fig, axes = plot_data_overview(\n",
    "    DATA_PATH2, nr_of_data_svd_vectors=5, linlog=False, linthresh=10,  cmap='seismic',vmin = -7,vmax=7,use_svd_number=True\n",
    ")\n"
   ]
  },
  {
   "cell_type": "markdown",
   "metadata": {},
   "source": [
    "## Global Analysis"
   ]
  },
  {
   "cell_type": "markdown",
   "metadata": {},
   "source": [
    "### Used model and parameters"
   ]
  },
  {
   "cell_type": "code",
   "execution_count": null,
   "metadata": {},
   "outputs": [],
   "source": [
    "global_model_path = \"models/20230821model_PSI_TA_SCy6803WLglobal670_with_DOAS.yml\""
   ]
  },
  {
   "cell_type": "code",
   "execution_count": null,
   "metadata": {},
   "outputs": [],
   "source": [
    "# global_parameters_path = \"models/20230821optimized_parameters670_with_DOAS.csv\"\n",
    "# optimizedparameters = load_parameters(global_parameters_path)"
   ]
  },
  {
   "cell_type": "code",
   "execution_count": null,
   "metadata": {},
   "outputs": [],
   "source": [
    "# global_parameters_path = \"models/20230821optimized_parameters670_with_DOAS.csv\"\n",
    "optimizedparameters = load_parameters(\"models/20230821optimized_parameters670_with_DOAS.csv\")"
   ]
  },
  {
   "cell_type": "markdown",
   "metadata": {},
   "source": [
    "#### Model file"
   ]
  },
  {
   "cell_type": "code",
   "execution_count": null,
   "metadata": {},
   "outputs": [],
   "source": [
    "# Uncomment the following 2 lines to display the global model file in the notebook\n",
    "# from glotaran.utils.ipython import display_file\n",
    "# display_file(global_model_path, syntax=\"yaml\")\n",
    "\n",
    "# Alternatively (recommended), open the file in a text editor to see the model definition"
   ]
  },
  {
   "cell_type": "markdown",
   "metadata": {},
   "source": [
    "#### Parameters file"
   ]
  },
  {
   "cell_type": "code",
   "execution_count": null,
   "metadata": {},
   "outputs": [],
   "source": [
    "# Uncomment the next line and run the cell to print the starting values of the analysis\n",
    "# These starting values have already been optimized, hence the name optimizedparameters\n",
    "\n",
    "# optimizedparameters"
   ]
  },
  {
   "cell_type": "markdown",
   "metadata": {},
   "source": [
    "### Create scheme and optimize it"
   ]
  },
  {
   "cell_type": "code",
   "execution_count": null,
   "metadata": {},
   "outputs": [],
   "source": [
    "global_scheme = Scheme(\n",
    "    model=\"models/20230821model_PSI_TA_SCy6803WLglobal670_without_DOAS.yml\",  # type: ignore\n",
    "    parameters=load_parameters(\"models/20230821optimized_parameters670_without_DOAS.csv\"),\n",
    "    maximum_number_function_evaluations=15,\n",
    "    clp_link_tolerance=0.1,\n",
    "    data={\n",
    "        # TA data\n",
    "        \"670TR1\": DATA_PATH1,\n",
    "        \"670TR2\": DATA_PATH2,\n",
    "    },  # type: ignore\n",
    ")\n",
    "global_scheme.validate()"
   ]
  },
  {
   "cell_type": "code",
   "execution_count": null,
   "metadata": {},
   "outputs": [],
   "source": [
    "global_result1 = optimize(global_scheme, raise_exception=True)"
   ]
  },
  {
   "cell_type": "markdown",
   "metadata": {},
   "source": [
    "## Residual analysis of the 670 nm excitation TR1 data"
   ]
  },
  {
   "cell_type": "code",
   "execution_count": null,
   "metadata": {},
   "outputs": [],
   "source": [
    "import matplotlib.pyplot as plt\n",
    "from pyglotaran_extras.plotting.plot_residual import plot_residual\n",
    "from pyglotaran_extras.plotting.plot_svd import plot_lsv_residual\n",
    "from pyglotaran_extras.plotting.plot_svd import plot_rsv_residual\n",
    "\n",
    "\n",
    "def plot_residual_and_svd(result_dataset):\n",
    "    fig, axes = plt.subplots(1, 3, figsize=(10, 2))\n",
    "    plot_residual(result_dataset, axes[0])\n",
    "    axes[0].get_legend().remove()\n",
    "    axes[0].set_ylabel(\"Wavelength (nm)\")\n",
    "    plot_lsv_residual(result_dataset, axes[1], indices=[0])\n",
    "    axes[1].get_legend().remove()\n",
    "    axes[1].set_ylabel(\"\")\n",
    "    axes[1].set_title(\"residual 1st LSV\")\n",
    "    plot_rsv_residual(result_dataset, axes[2], indices=[0])\n",
    "    axes[2].set_xlabel(\"Wavelength (nm)\")\n",
    "    axes[2].set_title(\"residual 1st RSV\")\n",
    "    axes[2].get_legend().remove()\n",
    "    axes[2].set_ylabel(\"\")\n",
    "\n",
    "    return fig, axes\n",
    "\n",
    "\n",
    "fig, axes = plot_residual_and_svd(global_result1.data[\"670TR1\"])\n",
    "axes[0].annotate(\"A\", xy=(-0.1, 1), xycoords=\"axes fraction\", fontsize=16)\n",
    "axes[1].annotate(\"B\", xy=(-0.1, 1), xycoords=\"axes fraction\", fontsize=16)\n",
    "axes[2].annotate(\"C\", xy=(-0.1, 1), xycoords=\"axes fraction\", fontsize=16)"
   ]
  },
  {
   "cell_type": "markdown",
   "metadata": {},
   "source": [
    "# Plot result for interpretation\n"
   ]
  },
  {
   "cell_type": "code",
   "execution_count": null,
   "metadata": {},
   "outputs": [],
   "source": [
    "import matplotlib.pyplot as plt\n",
    "from cycler import cycler\n",
    "from pyglotaran_extras.plotting.plot_concentrations import plot_concentrations\n",
    "from pyglotaran_extras.plotting.plot_spectra import plot_das\n",
    "from pyglotaran_extras.plotting.plot_spectra import plot_sas\n",
    "from pyglotaran_extras.plotting.style import ColorCode\n",
    "\n",
    "myFRLcolors = [ \"tab:grey\",\"tab:orange\",  ColorCode.cyan, ColorCode.green,\"m\", \"y\", \"k\",\"r\", \"b\", \"tab:purple\"]\n",
    "\n",
    "custom_cycler = cycler(color=myFRLcolors)\n",
    "\n",
    "\n",
    "def plot_concentration_and_spectra(result_dataset,result_dataset2):\n",
    "    # fig, axes = plt.subplots(1, 2, figsize=(18, 7))\n",
    "    fig, axes = plt.subplots(1, 3, figsize=(15, 4))\n",
    "    plot_concentrations(result_dataset, axes[0], center_λ=0, linlog=True, cycler=custom_cycler)\n",
    "    plot_concentrations(result_dataset2, axes[0], center_λ=0, linlog=True, cycler=custom_cycler)\n",
    "    plot_sas(result_dataset, axes[1], cycler=custom_cycler)\n",
    "    plot_das(result_dataset, axes[2], cycler=custom_cycler)\n",
    "    return fig, axes\n",
    "\n",
    "\n",
    "fig, axes = plot_concentration_and_spectra(global_result1.data[\"670TR1\"],global_result1.data[\"670TR2\"])\n",
    "axes[0].set_xlabel(\"Time (ps)\")\n",
    "axes[0].set_ylabel(\"\")\n",
    "axes[0].axhline(0, color=\"k\", linewidth=1)\n",
    "axes[1].set_xlabel(\"Wavelength (nm)\")\n",
    "axes[1].set_ylabel(\"EADS (mOD)\")\n",
    "axes[1].set_title(\"EADS\")\n",
    "axes[2].set_xlabel(\"Wavelength (nm)\")\n",
    "axes[2].set_ylabel(\"DADS (mOD)\")\n",
    "axes[2].set_title(\"DADS\")\n",
    "axes[1].axhline(0, color=\"k\", linewidth=1)\n",
    "axes[0].annotate(\"A\", xy=(-0.05, 1.02), xycoords=\"axes fraction\", fontsize=16)\n",
    "axes[1].annotate(\"B\", xy=(-0.05, 1.02), xycoords=\"axes fraction\", fontsize=16)\n",
    "axes[2].annotate(\"C\", xy=(-0.05, 1.02), xycoords=\"axes fraction\", fontsize=16)"
   ]
  },
  {
   "cell_type": "code",
   "execution_count": null,
   "metadata": {},
   "outputs": [],
   "source": [
    "global_scheme = Scheme(\n",
    "    model=\"models/20230821model_PSI_TA_SCy6803WLglobal670_with_DOAS.yml\",  # type: ignore\n",
    "    parameters=load_parameters(\"models/20230821optimized_parameters670_with_DOAS.csv\"),\n",
    "    maximum_number_function_evaluations=15,\n",
    "    clp_link_tolerance=0.1,\n",
    "    data={\n",
    "        # TA data\n",
    "        \"670TR1\": DATA_PATH1,\n",
    "        \"670TR2\": DATA_PATH2,\n",
    "    },  # type: ignore\n",
    ")\n",
    "global_scheme.validate()"
   ]
  },
  {
   "cell_type": "code",
   "execution_count": null,
   "metadata": {},
   "outputs": [],
   "source": [
    "global_result = optimize(global_scheme, raise_exception=True)"
   ]
  },
  {
   "cell_type": "code",
   "execution_count": null,
   "metadata": {},
   "outputs": [],
   "source": [
    "global_result670=global_result"
   ]
  },
  {
   "cell_type": "markdown",
   "metadata": {},
   "source": [
    "## Residual analysis of the 670 nm excitation TR1 data"
   ]
  },
  {
   "cell_type": "code",
   "execution_count": null,
   "metadata": {},
   "outputs": [],
   "source": [
    "# import matplotlib.pyplot as plt\n",
    "# from pyglotaran_extras.plotting.plot_residual import plot_residual\n",
    "# from pyglotaran_extras.plotting.plot_svd import plot_lsv_residual\n",
    "# from pyglotaran_extras.plotting.plot_svd import plot_rsv_residual\n",
    "\n",
    "\n",
    "# def plot_residual_and_svd(result_dataset):\n",
    "#     fig, axes = plt.subplots(1, 3, figsize=(10, 2))\n",
    "#     plot_residual(result_dataset, axes[0])\n",
    "#     axes[0].get_legend().remove()\n",
    "#     axes[0].set_ylabel(\"Wavelength (nm)\")\n",
    "#     plot_lsv_residual(result_dataset, axes[1], indices=[0])\n",
    "#     axes[1].get_legend().remove()\n",
    "#     axes[1].set_ylabel(\"\")\n",
    "#     axes[1].set_title(\"residual 1st LSV\")\n",
    "#     plot_rsv_residual(result_dataset, axes[2], indices=[0])\n",
    "#     axes[2].set_xlabel(\"Wavelength (nm)\")\n",
    "#     axes[2].set_title(\"residual 1st RSV\")\n",
    "#     axes[2].get_legend().remove()\n",
    "#     axes[2].set_ylabel(\"\")\n",
    "\n",
    "#     return fig, axes\n",
    "\n",
    "\n",
    "fig, axes = plot_residual_and_svd(global_result.data[\"670TR1\"])\n",
    "axes[0].annotate(\"A\", xy=(-0.1, 1), xycoords=\"axes fraction\", fontsize=16)\n",
    "axes[1].annotate(\"B\", xy=(-0.1, 1), xycoords=\"axes fraction\", fontsize=16)\n",
    "axes[2].annotate(\"C\", xy=(-0.1, 1), xycoords=\"axes fraction\", fontsize=16)"
   ]
  },
  {
   "cell_type": "markdown",
   "metadata": {},
   "source": [
    "# Plot result for interpretation\n"
   ]
  },
  {
   "cell_type": "code",
   "execution_count": null,
   "metadata": {},
   "outputs": [],
   "source": [
    "# import matplotlib.pyplot as plt\n",
    "# from cycler import cycler\n",
    "# from pyglotaran_extras.plotting.plot_concentrations import plot_concentrations\n",
    "# from pyglotaran_extras.plotting.plot_spectra import plot_das\n",
    "# from pyglotaran_extras.plotting.plot_spectra import plot_sas\n",
    "# from pyglotaran_extras.plotting.style import ColorCode\n",
    "\n",
    "# myFRLcolors = [ \"tab:grey\",\"tab:orange\",  ColorCode.cyan, ColorCode.green,\"m\", \"y\", \"k\",\"r\", \"b\", \"tab:purple\"]\n",
    "\n",
    "# custom_cycler = cycler(color=myFRLcolors)\n",
    "\n",
    "\n",
    "# def plot_concentration_and_spectra(result_dataset,result_dataset2):\n",
    "#     # fig, axes = plt.subplots(1, 2, figsize=(18, 7))\n",
    "#     fig, axes = plt.subplots(1, 3, figsize=(15, 4))\n",
    "#     plot_concentrations(result_dataset, axes[0], center_λ=0, linlog=True, cycler=custom_cycler)\n",
    "#     plot_concentrations(result_dataset2, axes[0], center_λ=0, linlog=True, cycler=custom_cycler)\n",
    "#     plot_sas(result_dataset, axes[1], cycler=custom_cycler)\n",
    "#     plot_das(result_dataset, axes[2], cycler=custom_cycler)\n",
    "#     return fig, axes\n",
    "\n",
    "\n",
    "fig, axes = plot_concentration_and_spectra(global_result.data[\"670TR1\"],global_result.data[\"670TR2\"])\n",
    "axes[0].set_xlabel(\"Time (ps)\")\n",
    "axes[0].set_ylabel(\"\")\n",
    "axes[0].axhline(0, color=\"k\", linewidth=1)\n",
    "axes[1].set_xlabel(\"Wavelength (nm)\")\n",
    "axes[1].set_ylabel(\"EADS (mOD)\")\n",
    "axes[1].set_title(\"EADS\")\n",
    "axes[2].set_xlabel(\"Wavelength (nm)\")\n",
    "axes[2].set_ylabel(\"DADS (mOD)\")\n",
    "axes[2].set_title(\"DADS\")\n",
    "axes[1].axhline(0, color=\"k\", linewidth=1)\n",
    "axes[0].annotate(\"A\", xy=(-0.05, 1.02), xycoords=\"axes fraction\", fontsize=16)\n",
    "axes[1].annotate(\"B\", xy=(-0.05, 1.02), xycoords=\"axes fraction\", fontsize=16)\n",
    "axes[2].annotate(\"C\", xy=(-0.05, 1.02), xycoords=\"axes fraction\", fontsize=16)"
   ]
  },
  {
   "cell_type": "markdown",
   "metadata": {},
   "source": [
    "To save the results of the optimization we can use the `save_result` command.\n",
    "\n",
    "Because it saves *everything* it consumes about 50MB of disk space per save."
   ]
  },
  {
   "cell_type": "code",
   "execution_count": null,
   "metadata": {},
   "outputs": [],
   "source": [
    "save_result(\n",
    "    result=global_result,\n",
    "    result_path=\"results/20230830/result.yaml\",\n",
    "    allow_overwrite=True,\n",
    ")"
   ]
  },
  {
   "cell_type": "markdown",
   "metadata": {},
   "source": [
    "15         5.7843e+02 linking k54, estimated 28.021 ps, rmse 6.74e-02\n",
    "15      5.7931e+02 linking k54 at the 700 nm estimate of 1/26 ps, rmse 6.75e-02 timu 6.666e-2 because of 670TR1 being smaller 6.975 instead of 7.29\n",
    "15         5.7048e+02  free DOAS rate\n",
    "15         5.6983e+02 free DOAS rate&freq rmse 6.69e-02 670TR1 7.04e-02 but IRFAS & DOAS compensate\n",
    "-   15         6.1658e+02  no DOAS\n",
    "-   15         5.6870e+02  with DOAS & CAwidth IRFAS & DOAS peak at 670\n",
    "-   6         5.6838e+02 26.45 ps"
   ]
  },
  {
   "cell_type": "markdown",
   "metadata": {},
   "source": [
    "### Results and parameters"
   ]
  },
  {
   "cell_type": "code",
   "execution_count": null,
   "metadata": {},
   "outputs": [],
   "source": [
    "# Just call the result to get the optimization result summary.\n",
    "global_result\n",
    "# For easier copy-and-paste try:\n",
    "# print(global_result)"
   ]
  },
  {
   "cell_type": "code",
   "execution_count": null,
   "metadata": {},
   "outputs": [],
   "source": [
    "# Access the result's `optimized_parameters` to print a markdown table of the optimized parameters:\n",
    "global_result.optimized_parameters"
   ]
  },
  {
   "cell_type": "markdown",
   "metadata": {},
   "source": [
    "# what to do if the estimated rate constants are not in decreasing order?\n",
    "then one should sort the estimated rate constants in decreasing order, and repeat the fit with those new starting values"
   ]
  },
  {
   "cell_type": "markdown",
   "metadata": {},
   "source": [
    "### Amplitude matrices"
   ]
  },
  {
   "cell_type": "code",
   "execution_count": null,
   "metadata": {},
   "outputs": [],
   "source": [
    "show_a_matrixes(global_result)"
   ]
  },
  {
   "cell_type": "markdown",
   "metadata": {},
   "source": [
    "# Result plots"
   ]
  },
  {
   "cell_type": "markdown",
   "metadata": {},
   "source": [
    "<sub>Note: The color scheme of the plots in this notebook may not match published figures.</sub>"
   ]
  },
  {
   "cell_type": "markdown",
   "metadata": {},
   "source": [
    "## Fit quality"
   ]
  },
  {
   "cell_type": "code",
   "execution_count": null,
   "metadata": {},
   "outputs": [],
   "source": [
    "global_result_TA = (\n",
    "    global_result.data[\"670TR1\"],\n",
    "    global_result.data[\"670TR2\"],\n",
    ")\n",
    "wavelengths = select_plot_wavelengths(global_result_TA, equidistant_wavelengths=True)\n",
    "plot_fitted_traces(global_result_TA, wavelengths, linlog=True, linthresh=1);"
   ]
  },
  {
   "cell_type": "markdown",
   "metadata": {},
   "source": [
    "The above command `plot_fitted_traces` is used to plot a selection of traces for a set of wavelengths (autogenerated using the `select_plot_wavelengths` function).\n",
    "To show to make a manual selection of traces, and 'dress up the plot' see the code below, which reproduces Figure 2 of the paper."
   ]
  },
  {
   "cell_type": "code",
   "execution_count": null,
   "metadata": {},
   "outputs": [],
   "source": [
    "# Reproduction of Figure 2 of the paper\n",
    "import warnings\n",
    "from pyglotaran_extras.plotting.style import ColorCode as cc\n",
    "\n",
    "with warnings.catch_warnings():\n",
    "    warnings.simplefilter(\"ignore\")\n",
    "    fig, ax_ = plot_fitted_traces(\n",
    "        global_result_TA,\n",
    "        [685, 700, 720, 760],\n",
    "        linlog=True,\n",
    "        linthresh=1,  # published figure uses 0.3 for easthetic reasons, but here 1 looks better\n",
    "        axes_shape=(2, 2),\n",
    "        figsize=(6, 4),\n",
    "        title=\"\",\n",
    "        per_axis_legend=True,\n",
    "        cycler=cycler(\n",
    "            color=[\n",
    "                cc.grey,\n",
    "                cc.black,\n",
    "                cc.grey,\n",
    "                cc.black,\n",
    "                cc.orange,\n",
    "                cc.red,\n",
    "                cc.orange,\n",
    "                cc.red,\n",
    "            ]\n",
    "        ),\n",
    "    )\n",
    "    handles, labels = ax_.flatten()[0].get_legend_handles_labels()\n",
    "    for i in range(len(handles)):\n",
    "        if i == 1:\n",
    "            labels[i] = \"670 nm excitation\"\n",
    "        elif i == 5:\n",
    "            labels[i] = \"700 nm excitation\"\n",
    "        else:\n",
    "            labels[i] = \"_Hidden\"\n",
    "    for idx, ax in enumerate(ax_.flatten()):\n",
    "        ax.set_ylabel(ax.title.get_text().replace(\"spectral = \", \"\"))\n",
    "        if idx > 1:\n",
    "            ax.set_xlabel(\"Time (ps)\")\n",
    "        else:\n",
    "            ax.set_xlabel(\"\")\n",
    "        ax.set_title(\"\")\n",
    "        if ax.get_legend() is not None:\n",
    "            ax.get_legend().remove()\n",
    "        for line in ax.lines:\n",
    "            line.set_linewidth(0.5)  # Set the line width here\n",
    "    fig.legend(\n",
    "        handles,\n",
    "        labels,\n",
    "        bbox_to_anchor=(0.5, -0.05),\n",
    "        loc=\"lower center\",\n",
    "        ncol=len(handles),\n",
    "    )\n",
    "    fig.tight_layout()"
   ]
  },
  {
   "cell_type": "markdown",
   "metadata": {},
   "source": [
    "## Overview 670 exc"
   ]
  },
  {
   "cell_type": "code",
   "execution_count": null,
   "metadata": {},
   "outputs": [],
   "source": [
    "plot_overview(\n",
    "    global_result.data[\"670TR1\"],\n",
    "    nr_of_data_svd_vectors=4,\n",
    "    nr_of_residual_svd_vectors=1,\n",
    "    linlog=False,\n",
    "    linthresh=1,\n",
    "    cycler=cycler(\n",
    "        color=[\"y\", \"g\", \"tab:orange\", \"r\", \"k\", \"c\", \"b\", \"m\", \"tab:purple\"]\n",
    "    ),use_svd_number=True,svd_cycler=PlotStyle().cycler,\n",
    ");"
   ]
  },
  {
   "cell_type": "code",
   "execution_count": null,
   "metadata": {},
   "outputs": [],
   "source": [
    "plot_overview(\n",
    "    global_result.data[\"670TR2\"],\n",
    "    nr_of_data_svd_vectors=4,\n",
    "    nr_of_residual_svd_vectors=1,\n",
    "    linlog=False,\n",
    "    linthresh=1,\n",
    "    cycler=cycler(\n",
    "        color=[\"y\", \"g\", \"tab:orange\", \"r\", \"k\", \"c\", \"b\", \"m\", \"tab:purple\"]\n",
    "    ),use_svd_number=True,svd_cycler=PlotStyle().cycler,\n",
    ");"
   ]
  },
  {
   "cell_type": "markdown",
   "metadata": {},
   "source": [
    "## Coherent Artifact\n"
   ]
  },
  {
   "cell_type": "code",
   "execution_count": null,
   "metadata": {},
   "outputs": [],
   "source": [
    "from pyglotaran_extras import plot_coherent_artifact\n",
    "\n",
    "fig, axes = plot_coherent_artifact(global_result.data[\"670TR1\"], time_range=(-0.3, 0.3), figsize=(10, 4))\n",
    "axes[0].set_xlabel(\"Time (ps)\")\n",
    "axes[1].set_xlabel(\"Wavelength (nm)\")\n",
    "axes[0].set_ylabel(\"\")\n",
    "axes[0].annotate(\"A\", xy=(0.02, 0.9), xycoords=\"axes fraction\", fontsize=16)\n",
    "axes[1].annotate(\"B\", xy=(0.02, 0.9), xycoords=\"axes fraction\", fontsize=16)\n",
    "fig.tight_layout()"
   ]
  },
  {
   "cell_type": "markdown",
   "metadata": {},
   "source": [
    "## Overview of the estimated DOAS and phases of 670 nm excitation data"
   ]
  },
  {
   "cell_type": "markdown",
   "metadata": {},
   "source": []
  },
  {
   "cell_type": "code",
   "execution_count": null,
   "metadata": {},
   "outputs": [],
   "source": [
    "from pyglotaran_extras import plot_doas\n",
    "from pyglotaran_extras.plotting.style import ColorCode\n",
    "\n",
    "fig, axes = plot_doas(\n",
    "    global_result.data[\"670TR1\"],\n",
    "    damped_oscillation=[\"osc1\"],\n",
    "    time_range=(-0.3, 0.3),\n",
    "    spectral=700,\n",
    "    figsize=(15, 4),\n",
    "    normalize=False\n",
    "    # oscillation_type=\"sin\",\n",
    "    # center_λ=550,\n",
    ")\n",
    "\n",
    "# for vline_pos in [415, 460]:\n",
    "#     axes[1].axvline(vline_pos, color=\"r\", linewidth=1)\n",
    "#     axes[2].axvline(vline_pos, color=\"r\", linewidth=1)\n",
    "# for vline_pos in [526]:\n",
    "#     axes[1].axvline(vline_pos, color=ColorCode.green, linewidth=1)\n",
    "#     axes[2].axvline(vline_pos, color=ColorCode.green, linewidth=1)\n",
    "# for vline_pos in [393, 429, 479]:\n",
    "#     axes[1].axvline(vline_pos, color=\"b\", linewidth=1)\n",
    "#     axes[2].axvline(vline_pos, color=\"b\", linewidth=1)\n",
    "axes[0].set_xlabel(\"Time (ps)\")\n",
    "axes[0].axhline(0, color=\"k\", linewidth=1)\n",
    "axes[1].set_xlabel(\"Wavelength (nm)\")\n",
    "axes[2].set_xlabel(\"Wavelength (nm)\")\n",
    "axes[1].set_ylabel(\"\")\n",
    "axes[1].set_title(\"DOAS\")\n",
    "# axes[0].annotate(\"A\", xy=(0.01, 0.89), xycoords=\"axes fraction\", fontsize=16)\n",
    "# axes[1].annotate(\"B\", xy=(0.01, 0.89), xycoords=\"axes fraction\", fontsize=16)\n",
    "# axes[2].annotate(\"C\", xy=(0.01, 0.89), xycoords=\"axes fraction\", fontsize=16)\n",
    "axes[0].annotate(\"C\", xy=(0.01, 0.89), xycoords=\"axes fraction\", fontsize=16)\n",
    "axes[1].annotate(\"D\", xy=(0.01, 0.89), xycoords=\"axes fraction\", fontsize=16)\n",
    "axes[2].annotate(\"E\", xy=(0.01, 0.89), xycoords=\"axes fraction\", fontsize=16)"
   ]
  },
  {
   "cell_type": "markdown",
   "metadata": {},
   "source": [
    "## Global analysis of 700nm excitation TA of WL-PSI of SCy6803"
   ]
  },
  {
   "cell_type": "markdown",
   "metadata": {},
   "source": [
    "### Inspect data"
   ]
  },
  {
   "cell_type": "code",
   "execution_count": null,
   "metadata": {},
   "outputs": [],
   "source": [
    "from cycler import cycler\n",
    "from glotaran.io import load_parameters, save_result\n",
    "from glotaran.optimization.optimize import optimize\n",
    "from glotaran.project.scheme import Scheme\n",
    "from pyglotaran_extras.plotting.plot_overview import plot_overview\n",
    "from pyglotaran_extras.plotting.plot_traces import (\n",
    "    plot_fitted_traces,\n",
    "    select_plot_wavelengths,\n",
    ")\n",
    "from pyglotaran_extras.inspect import show_a_matrixes"
   ]
  },
  {
   "cell_type": "code",
   "execution_count": null,
   "metadata": {},
   "outputs": [],
   "source": [
    "from pyglotaran_extras import plot_data_overview\n",
    "\n",
    "DATA_PATH3 = \"data/SCy6803WL/synWTred670_700nm_exc2RPnocycle1nm_revc.ascii\"\n",
    "DATA_PATH4 = \"data/SCy6803WL/synWTred670_700nm_exc2RPnocycle1nm_revd.ascii\"\n",
    "fig, axes = plot_data_overview(\n",
    "    DATA_PATH3, nr_of_data_svd_vectors=5, linlog=False,  cmap='seismic',vmin = -7,vmax=7,use_svd_number=True\n",
    ")\n",
    "# change color map seismic or bwr\n",
    "# axes[0].set_cmap('seismic')"
   ]
  },
  {
   "cell_type": "code",
   "execution_count": null,
   "metadata": {},
   "outputs": [],
   "source": [
    "fig, axes = plot_data_overview(\n",
    "    DATA_PATH4, nr_of_data_svd_vectors=5, linlog=False, linthresh=10,  cmap='seismic',vmin = -7,vmax=7,use_svd_number=True\n",
    ")"
   ]
  },
  {
   "cell_type": "markdown",
   "metadata": {},
   "source": [
    "## Global Analysis"
   ]
  },
  {
   "cell_type": "markdown",
   "metadata": {},
   "source": [
    "### Used model and parameters"
   ]
  },
  {
   "cell_type": "code",
   "execution_count": null,
   "metadata": {},
   "outputs": [],
   "source": [
    "global_model_path = \"models/20230821model_PSI_TA_SCy6803WLglobal700.yml\""
   ]
  },
  {
   "cell_type": "code",
   "execution_count": null,
   "metadata": {},
   "outputs": [],
   "source": [
    "global_parameters_path = \"models/20230821optimized_parameters700.csv\"\n",
    "optimizedparameters = load_parameters(global_parameters_path)"
   ]
  },
  {
   "cell_type": "markdown",
   "metadata": {},
   "source": [
    "#### Model file"
   ]
  },
  {
   "cell_type": "code",
   "execution_count": null,
   "metadata": {},
   "outputs": [],
   "source": [
    "# Uncomment the following 2 lines to display the global model file in the notebook\n",
    "# from glotaran.utils.ipython import display_file\n",
    "# display_file(global_model_path, syntax=\"yaml\")\n",
    "\n",
    "# Alternatively (recommended), open the file in a text editor to see the model definition"
   ]
  },
  {
   "cell_type": "markdown",
   "metadata": {},
   "source": [
    "#### Parameters file"
   ]
  },
  {
   "cell_type": "code",
   "execution_count": null,
   "metadata": {},
   "outputs": [],
   "source": [
    "# Uncomment the next line and run the cell to print the starting values of the analysis\n",
    "# These starting values have already been optimized, hence the name optimizedparameters\n",
    "\n",
    "# optimizedparameters"
   ]
  },
  {
   "cell_type": "markdown",
   "metadata": {},
   "source": [
    "### Create scheme and optimize it"
   ]
  },
  {
   "cell_type": "code",
   "execution_count": null,
   "metadata": {},
   "outputs": [],
   "source": [
    "global_scheme = Scheme(\n",
    "    model=global_model_path,  # type: ignore\n",
    "    parameters=optimizedparameters,\n",
    "    maximum_number_function_evaluations=15,\n",
    "    clp_link_tolerance=0.1,\n",
    "    data={\n",
    "        # TA data\n",
    "        # \"670TR1\": DATA_PATH1,\n",
    "        # \"670TR2\": DATA_PATH2,\n",
    "        \"700TR1\": DATA_PATH3,\n",
    "        \"700TR2\": DATA_PATH4,\n",
    "    },  # type: ignore\n",
    ")\n",
    "global_scheme.validate()"
   ]
  },
  {
   "cell_type": "code",
   "execution_count": null,
   "metadata": {},
   "outputs": [],
   "source": [
    "global_result = optimize(global_scheme, raise_exception=True)"
   ]
  },
  {
   "cell_type": "markdown",
   "metadata": {},
   "source": [
    "To save the results of the optimization we can use the `save_result` command.\n",
    "\n",
    "Because it saves *everything* it consumes about 50MB of disk space per save."
   ]
  },
  {
   "cell_type": "code",
   "execution_count": null,
   "metadata": {},
   "outputs": [],
   "source": [
    "global_result700=global_result"
   ]
  },
  {
   "cell_type": "code",
   "execution_count": null,
   "metadata": {},
   "outputs": [],
   "source": [
    "save_result(\n",
    "    result=global_result,\n",
    "    result_path=\"results/20230821/result.yaml\",\n",
    "    allow_overwrite=True,\n",
    ")"
   ]
  },
  {
   "cell_type": "markdown",
   "metadata": {},
   "source": [
    "-   15         2.6310e+02   no DOAS first k 120\n",
    "-   12         2.7452e+02 four k\n",
    "-   15         5.6870e+02  with DOAS & CAwidth IRFAS & DOAS peak at 670\n",
    "-   6         5.6838e+02 26.45 ps"
   ]
  },
  {
   "cell_type": "markdown",
   "metadata": {},
   "source": [
    "### Results and parameters"
   ]
  },
  {
   "cell_type": "code",
   "execution_count": null,
   "metadata": {},
   "outputs": [],
   "source": [
    "# Just call the result to get the optimization result summary.\n",
    "global_result\n",
    "# For easier copy-and-paste try:\n",
    "# print(global_result)"
   ]
  },
  {
   "cell_type": "code",
   "execution_count": null,
   "metadata": {},
   "outputs": [],
   "source": [
    "# Access the result's `optimized_parameters` to print a markdown table of the optimized parameters:\n",
    "global_result.optimized_parameters"
   ]
  },
  {
   "cell_type": "markdown",
   "metadata": {},
   "source": [
    "# what to do if the estimated rate constants are not in decreasing order?\n",
    "then one should sort the estimated rate constants in decreasing order, and repeat the fit with those new starting values"
   ]
  },
  {
   "cell_type": "markdown",
   "metadata": {},
   "source": [
    "### Amplitude matrices"
   ]
  },
  {
   "cell_type": "code",
   "execution_count": null,
   "metadata": {},
   "outputs": [],
   "source": [
    "show_a_matrixes(global_result)"
   ]
  },
  {
   "cell_type": "markdown",
   "metadata": {},
   "source": [
    "### Amplitude matrices"
   ]
  },
  {
   "cell_type": "code",
   "execution_count": null,
   "metadata": {},
   "outputs": [],
   "source": [
    "show_a_matrixes(global_result)"
   ]
  },
  {
   "cell_type": "markdown",
   "metadata": {},
   "source": [
    "# Result plots"
   ]
  },
  {
   "cell_type": "markdown",
   "metadata": {},
   "source": [
    "<sub>Note: The color scheme of the plots in this notebook may not match published figures.</sub>"
   ]
  },
  {
   "cell_type": "markdown",
   "metadata": {},
   "source": [
    "## Fit quality"
   ]
  },
  {
   "cell_type": "code",
   "execution_count": null,
   "metadata": {},
   "outputs": [],
   "source": [
    "global_result_TA = (\n",
    "    global_result.data[\"700TR1\"],\n",
    "    global_result.data[\"700TR2\"],\n",
    ")\n",
    "wavelengths = select_plot_wavelengths(global_result_TA, equidistant_wavelengths=True)\n",
    "plot_fitted_traces(global_result_TA, wavelengths, linlog=True, linthresh=1);"
   ]
  },
  {
   "cell_type": "markdown",
   "metadata": {},
   "source": [
    "The above command `plot_fitted_traces` is used to plot a selection of traces for a set of wavelengths (autogenerated using the `select_plot_wavelengths` function).\n",
    "To show to make a manual selection of traces, and 'dress up the plot' see the code below, which reproduces Figure 2 of the paper."
   ]
  },
  {
   "cell_type": "code",
   "execution_count": null,
   "metadata": {},
   "outputs": [],
   "source": [
    "# Reproduction of Figure 2 of the paper\n",
    "import warnings\n",
    "from pyglotaran_extras.plotting.style import ColorCode as cc\n",
    "\n",
    "with warnings.catch_warnings():\n",
    "    warnings.simplefilter(\"ignore\")\n",
    "    fig, ax_ = plot_fitted_traces(\n",
    "        global_result_TA,\n",
    "        [685, 700, 720, 760],\n",
    "        linlog=True,\n",
    "        linthresh=1,  # published figure uses 0.3 for easthetic reasons, but here 1 looks better\n",
    "        axes_shape=(2, 2),\n",
    "        figsize=(6, 4),\n",
    "        title=\"\",\n",
    "        per_axis_legend=True,\n",
    "        cycler=cycler(\n",
    "            color=[\n",
    "                cc.grey,\n",
    "                cc.black,\n",
    "                cc.grey,\n",
    "                cc.black,\n",
    "                cc.orange,\n",
    "                cc.red,\n",
    "                cc.orange,\n",
    "                cc.red,\n",
    "            ]\n",
    "        ),\n",
    "    )\n",
    "    handles, labels = ax_.flatten()[0].get_legend_handles_labels()\n",
    "    for i in range(len(handles)):\n",
    "        if i == 1:\n",
    "        #     labels[i] = \"670 nm excitation\"\n",
    "        # elif i == 5:\n",
    "            labels[i] = \"700 nm excitation\"\n",
    "        else:\n",
    "            labels[i] = \"_Hidden\"\n",
    "    for idx, ax in enumerate(ax_.flatten()):\n",
    "        ax.set_ylabel(ax.title.get_text().replace(\"spectral = \", \"\"))\n",
    "        if idx > 1:\n",
    "            ax.set_xlabel(\"Time (ps)\")\n",
    "        else:\n",
    "            ax.set_xlabel(\"\")\n",
    "        ax.set_title(\"\")\n",
    "        if ax.get_legend() is not None:\n",
    "            ax.get_legend().remove()\n",
    "        for line in ax.lines:\n",
    "            line.set_linewidth(0.5)  # Set the line width here\n",
    "    fig.legend(\n",
    "        handles,\n",
    "        labels,\n",
    "        bbox_to_anchor=(0.5, -0.05),\n",
    "        loc=\"lower center\",\n",
    "        ncol=len(handles),\n",
    "    )\n",
    "    fig.tight_layout()"
   ]
  },
  {
   "cell_type": "markdown",
   "metadata": {},
   "source": [
    "## Overview 700 exc"
   ]
  },
  {
   "cell_type": "code",
   "execution_count": null,
   "metadata": {},
   "outputs": [],
   "source": [
    "myFRLcolors = [\"k\",\"r\", \"g\", \"tab:purple\"]\n",
    "custom_cycler = cycler(color=myFRLcolors)\n",
    "plot_overview(\n",
    "    global_result.data[\"700TR1\"],\n",
    "    nr_of_data_svd_vectors=4,\n",
    "    nr_of_residual_svd_vectors=1,\n",
    "    linlog=False,\n",
    "    linthresh=1,\n",
    "    cycler=custom_cycler,use_svd_number=True,svd_cycler=PlotStyle().cycler\n",
    ");"
   ]
  },
  {
   "cell_type": "code",
   "execution_count": null,
   "metadata": {},
   "outputs": [],
   "source": [
    "plot_overview(\n",
    "    global_result.data[\"700TR2\"],\n",
    "    nr_of_data_svd_vectors=4,\n",
    "    nr_of_residual_svd_vectors=1,\n",
    "    linlog=False,\n",
    "    linthresh=10,\n",
    "    cycler=custom_cycler,use_svd_number=True,svd_cycler=PlotStyle().cycler\n",
    ");"
   ]
  },
  {
   "cell_type": "markdown",
   "metadata": {},
   "source": [
    "## Coherent Artifact\n"
   ]
  },
  {
   "cell_type": "code",
   "execution_count": null,
   "metadata": {},
   "outputs": [],
   "source": [
    "from pyglotaran_extras import plot_coherent_artifact\n",
    "\n",
    "fig, axes = plot_coherent_artifact(global_result.data[\"700TR1\"], time_range=(-0.3, 0.3), figsize=(10, 4))\n",
    "axes[0].set_xlabel(\"Time (ps)\")\n",
    "axes[1].set_xlabel(\"Wavelength (nm)\")\n",
    "axes[0].set_ylabel(\"\")\n",
    "axes[0].annotate(\"A\", xy=(0.02, 0.9), xycoords=\"axes fraction\", fontsize=16)\n",
    "axes[1].annotate(\"B\", xy=(0.02, 0.9), xycoords=\"axes fraction\", fontsize=16)\n",
    "fig.tight_layout()"
   ]
  },
  {
   "cell_type": "markdown",
   "metadata": {},
   "source": [
    "# Plot result for interpretation\n"
   ]
  },
  {
   "cell_type": "code",
   "execution_count": null,
   "metadata": {},
   "outputs": [],
   "source": [
    "import matplotlib.pyplot as plt\n",
    "from cycler import cycler\n",
    "from pyglotaran_extras.plotting.plot_concentrations import plot_concentrations\n",
    "from pyglotaran_extras.plotting.plot_spectra import plot_das\n",
    "from pyglotaran_extras.plotting.plot_spectra import plot_sas\n",
    "from pyglotaran_extras.plotting.style import ColorCode\n",
    "\n",
    "# myFRLcolors = [ \"tab:grey\",\"tab:orange\",  ColorCode.cyan, ColorCode.green,\"m\", \"y\", \"k\",\"r\", \"b\", \"tab:purple\"]\n",
    "myFRLcolors = [\"k\",\"r\", \"g\", \"tab:purple\"]\n",
    "\n",
    "custom_cycler = cycler(color=myFRLcolors)\n",
    "\n",
    "\n",
    "def plot_concentration_and_spectra(result_dataset,result_dataset2):\n",
    "    # fig, axes = plt.subplots(1, 2, figsize=(18, 7))\n",
    "    fig, axes = plt.subplots(1, 3, figsize=(15, 4))\n",
    "    plot_concentrations(result_dataset, axes[0], center_λ=0, linlog=True, cycler=custom_cycler)\n",
    "    plot_concentrations(result_dataset2, axes[0], center_λ=0, linlog=True, cycler=custom_cycler)\n",
    "    plot_sas(result_dataset, axes[1], cycler=custom_cycler)\n",
    "    plot_das(result_dataset, axes[2], cycler=custom_cycler)\n",
    "    return fig, axes\n",
    "\n",
    "\n",
    "fig, axes = plot_concentration_and_spectra(global_result.data[\"700TR1\"],global_result.data[\"700TR2\"])\n",
    "axes[0].set_xlabel(\"Time (ps)\")\n",
    "axes[0].set_ylabel(\"\")\n",
    "axes[0].axhline(0, color=\"k\", linewidth=1)\n",
    "axes[1].set_xlabel(\"Wavelength (nm)\")\n",
    "axes[1].set_ylabel(\"EADS (mOD)\")\n",
    "axes[1].set_title(\"EADS\")\n",
    "axes[2].set_xlabel(\"Wavelength (nm)\")\n",
    "axes[2].set_ylabel(\"DADS (mOD)\")\n",
    "axes[2].set_title(\"DADS\")\n",
    "axes[1].axhline(0, color=\"k\", linewidth=1)\n",
    "axes[0].annotate(\"A\", xy=(-0.05, 1.02), xycoords=\"axes fraction\", fontsize=16)\n",
    "axes[1].annotate(\"B\", xy=(-0.05, 1.02), xycoords=\"axes fraction\", fontsize=16)\n",
    "axes[2].annotate(\"C\", xy=(-0.05, 1.02), xycoords=\"axes fraction\", fontsize=16)"
   ]
  },
  {
   "cell_type": "code",
   "execution_count": null,
   "metadata": {},
   "outputs": [],
   "source": [
    "global_result700.data[\"700TR1\"].species_associated_spectra[:,3];"
   ]
  },
  {
   "cell_type": "code",
   "execution_count": null,
   "metadata": {},
   "outputs": [],
   "source": [
    "fig, axes = plt.subplots(1, 2, figsize=(15, 4))\n",
    "# plot_sas(global_result.data[\"700TR1\"], axes[1], cycler=custom_cycler)\n",
    "final670=global_result670.data[\"670TR1\"].species_associated_spectra[:,4]\n",
    "final700=0.85*global_result700.data[\"700TR1\"].species_associated_spectra[:,3]\n",
    "diff=final670-final700\n",
    "# global_result700.data[\"700TR1\"].species_associated_spectra[:,3].plot.line(x=\"spectral\", ax=axes[0],color=\"purple\")\n",
    "final700.plot.line(x=\"spectral\", ax=axes[0],color=\"k\",label=\"700 exc\")\n",
    "# global_result670.data[\"670TR1\"].species_associated_spectra[:,4].plot.line(x=\"spectral\", ax=axes[0],color=\"magenta\")\n",
    "final670.plot.line(x=\"spectral\", ax=axes[0],color=\"r\",label=\"670 exc\")\n",
    "diff.plot.line(x=\"spectral\", ax=axes[1])\n",
    "axes[0].set_xlabel(\"Wavelength (nm)\")\n",
    "axes[0].set_ylabel(\"EADS (mOD)\")\n",
    "axes[0].set_title(\"final EADS\")\n",
    "axes[0].axhline(0, color=\"k\", linewidth=1)\n",
    "axes[1].set_xlabel(\"Wavelength (nm)\")\n",
    "axes[1].set_ylabel(\"difference (mOD)\")\n",
    "axes[1].set_title(\"difference final EADS\")\n",
    "axes[1].axhline(0, color=\"k\", linewidth=1)\n",
    "axes[0].legend()\n",
    "axes[0].annotate(\"A\", xy=(-0.05, 1.02), xycoords=\"axes fraction\", fontsize=16)\n",
    "axes[1].annotate(\"B\", xy=(-0.05, 1.02), xycoords=\"axes fraction\", fontsize=16)\n",
    "\n"
   ]
  },
  {
   "cell_type": "markdown",
   "metadata": {},
   "source": [
    "## Residual analysis of the 700 nm excitation TR1 data"
   ]
  },
  {
   "cell_type": "code",
   "execution_count": null,
   "metadata": {},
   "outputs": [],
   "source": [
    "import matplotlib.pyplot as plt\n",
    "from pyglotaran_extras.plotting.plot_residual import plot_residual\n",
    "from pyglotaran_extras.plotting.plot_svd import plot_lsv_residual\n",
    "from pyglotaran_extras.plotting.plot_svd import plot_rsv_residual\n",
    "\n",
    "\n",
    "def plot_residual_and_svd(result_dataset):\n",
    "    fig, axes = plt.subplots(1, 3, figsize=(10, 2))\n",
    "    plot_residual(result_dataset, axes[0])\n",
    "    axes[0].get_legend().remove()\n",
    "    axes[0].set_ylabel(\"Wavelength (nm)\")\n",
    "    plot_lsv_residual(result_dataset, axes[1], indices=[0])\n",
    "    axes[1].get_legend().remove()\n",
    "    axes[1].set_ylabel(\"\")\n",
    "    axes[1].set_title(\"residual 1st LSV\")\n",
    "    plot_rsv_residual(result_dataset, axes[2], indices=[0])\n",
    "    axes[2].set_xlabel(\"Wavelength (nm)\")\n",
    "    axes[2].set_title(\"residual 1st RSV\")\n",
    "    axes[2].get_legend().remove()\n",
    "    axes[2].set_ylabel(\"\")\n",
    "\n",
    "    return fig, axes\n",
    "\n",
    "\n",
    "fig, axes = plot_residual_and_svd(global_result.data[\"700TR1\"])\n",
    "axes[0].annotate(\"A\", xy=(-0.1, 1), xycoords=\"axes fraction\", fontsize=16)\n",
    "axes[1].annotate(\"B\", xy=(-0.1, 1), xycoords=\"axes fraction\", fontsize=16)\n",
    "axes[2].annotate(\"C\", xy=(-0.1, 1), xycoords=\"axes fraction\", fontsize=16)"
   ]
  },
  {
   "cell_type": "markdown",
   "metadata": {},
   "source": [
    "\n",
    "# Simultaneous global analysis of TA of WL-PSI of Scy6803"
   ]
  },
  {
   "cell_type": "markdown",
   "metadata": {},
   "source": [
    "### Inspect data"
   ]
  },
  {
   "cell_type": "code",
   "execution_count": null,
   "metadata": {},
   "outputs": [],
   "source": [
    "from cycler import cycler\n",
    "from glotaran.io import load_parameters, save_result\n",
    "from glotaran.optimization.optimize import optimize\n",
    "from glotaran.project.scheme import Scheme\n",
    "from pyglotaran_extras.plotting.plot_overview import plot_overview\n",
    "from pyglotaran_extras.plotting.plot_traces import (\n",
    "    plot_fitted_traces,\n",
    "    select_plot_wavelengths,\n",
    ")\n",
    "from pyglotaran_extras.inspect import show_a_matrixes\n"
   ]
  },
  {
   "cell_type": "markdown",
   "metadata": {},
   "source": [
    "## Global Analysis"
   ]
  },
  {
   "cell_type": "markdown",
   "metadata": {},
   "source": [
    "### Used model and parameters"
   ]
  },
  {
   "cell_type": "code",
   "execution_count": null,
   "metadata": {},
   "outputs": [],
   "source": [
    "global_model_path = \"models/20230927model_PSI_TA_SCy6803WLglobal_with_DOAS.yml\"\n"
   ]
  },
  {
   "cell_type": "code",
   "execution_count": null,
   "metadata": {},
   "outputs": [],
   "source": [
    "global_parameters_path = \"models/20230927model_PSI_TA_SCy6803WLglobal_with_DOAS.csv\"\n",
    "optimizedparameters = load_parameters(global_parameters_path)\n"
   ]
  },
  {
   "cell_type": "markdown",
   "metadata": {},
   "source": [
    "#### Model file"
   ]
  },
  {
   "cell_type": "code",
   "execution_count": null,
   "metadata": {},
   "outputs": [],
   "source": [
    "# Uncomment the following 2 lines to display the global model file in the notebook\n",
    "# from glotaran.utils.ipython import display_file\n",
    "# display_file(global_model_path, syntax=\"yaml\")\n",
    "\n",
    "# Alternatively (recommended), open the file in a text editor to see the model definition\n"
   ]
  },
  {
   "cell_type": "markdown",
   "metadata": {},
   "source": [
    "#### Parameters file"
   ]
  },
  {
   "cell_type": "code",
   "execution_count": null,
   "metadata": {},
   "outputs": [],
   "source": [
    "# Uncomment the next line and run the cell to print the starting values of the analysis\n",
    "# These starting values have already been optimized, hence the name optimizedparameters\n",
    "\n",
    "# optimizedparameters\n"
   ]
  },
  {
   "cell_type": "markdown",
   "metadata": {},
   "source": [
    "### Create scheme and optimize it"
   ]
  },
  {
   "cell_type": "code",
   "execution_count": null,
   "metadata": {},
   "outputs": [],
   "source": [
    "global_scheme = Scheme(\n",
    "    model=global_model_path,  # type: ignore\n",
    "    parameters=optimizedparameters,\n",
    "    maximum_number_function_evaluations=5,\n",
    "    clp_link_tolerance=0.1,\n",
    "    data={\n",
    "        # TA data\n",
    "        \"670TR1\": DATA_PATH1,\n",
    "        \"670TR2\": DATA_PATH2,\n",
    "        \"700TR1\": DATA_PATH3,\n",
    "        \"700TR2\": DATA_PATH4,\n",
    "    },  # type: ignore\n",
    ")\n",
    "global_scheme.validate()\n"
   ]
  },
  {
   "cell_type": "code",
   "execution_count": null,
   "metadata": {},
   "outputs": [],
   "source": [
    "global_result = optimize(global_scheme, raise_exception=True)\n"
   ]
  },
  {
   "cell_type": "raw",
   "metadata": {},
   "source": [
    "- 6.2122e+02 no scat RMSE 6.99e-02\n",
    "- 5.8400e+02 with scat 700-710 nm RMSE 6.77e-02\n",
    "- 5.7960e+02 with scat 697-707 nm RMSE (NB with scat input on 700TR1)\n",
    "- 3         5.8277e+02 without scat input on 700TR1\n",
    "- 3         3.2955e+02 weight 700 exc 0.3\n",
    "- 3         3.8383e+02 weight 700 exc 0.5\n",
    "- 5         5.7857e+02 Weighting 0.1 at 703.5 and 705.5 nm\n",
    "- 5         5.7791e+02 Weighting 0.001 at 703.5 and 705.5 nm\n",
    "-  5         5.6833e+02 Weighting 0.001 at 703.5 and 705.5 nm Weighting 0.1 at 706.5 nm\n",
    "-   5         5.6182e+02 Weighting 0.001 at 703.5 and 705.5 nm Weighting 0.1 at 706.5 nm Weighting 0.3 at 698.5 nm\n",
    "-   5         5.6187e+02 Weighting 0.03 at 703.5 and 705.5 nm Weighting 0.1 at 706.5 nm Weighting 0.3 at 698.5 nm\n"
   ]
  },
  {
   "cell_type": "markdown",
   "metadata": {},
   "source": [
    "To save the results of the optimization we can use the `save_result` command.\n",
    "\n",
    "Because it saves *everything* it consumes about 50MB of disk space per save."
   ]
  },
  {
   "cell_type": "code",
   "execution_count": null,
   "metadata": {},
   "outputs": [],
   "source": [
    "save_result(\n",
    "    result=global_result,\n",
    "    result_path=\"results/20230821simul/result.yaml\",\n",
    "    allow_overwrite=True,\n",
    ")\n"
   ]
  },
  {
   "cell_type": "raw",
   "metadata": {},
   "source": [
    "15         5.7843e+02 linking k54, estimated 28.021 ps, rmse 6.74e-02\n",
    "15      5.7931e+02 linking k54 at the 700 nm estimate of 1/26 ps, rmse 6.75e-02 timu 6.666e-2 because of 670TR1 being smaller 6.975 instead of 7.29\n",
    "15         5.7048e+02  free DOAS rate\n",
    "15         5.6983e+02 free DOAS rate&freq rmse 6.69e-02 670TR1 7.04e-02 but IRFAS & DOAS compensate\n",
    "-   15         6.1658e+02  no DOAS\n",
    "-   15         5.6870e+02  with DOAS & CAwidth IRFAS & DOAS peak at 670\n",
    "-   6         5.6838e+02 26.45 ps\n",
    " 15         6.2121e+02 common final EADS\n"
   ]
  },
  {
   "cell_type": "markdown",
   "metadata": {},
   "source": [
    "### Results and parameters"
   ]
  },
  {
   "cell_type": "code",
   "execution_count": null,
   "metadata": {},
   "outputs": [],
   "source": [
    "# Just call the result to get the optimization result summary.\n",
    "global_result\n",
    "# For easier copy-and-paste try:\n",
    "# print(global_result)\n"
   ]
  },
  {
   "cell_type": "code",
   "execution_count": null,
   "metadata": {},
   "outputs": [],
   "source": [
    "# Access the result's `optimized_parameters` to print a markdown table of the optimized parameters:\n",
    "global_result.optimized_parameters\n"
   ]
  },
  {
   "cell_type": "markdown",
   "metadata": {},
   "source": [
    "### Q: what to do if the estimated rate constants are not in decreasing order?\n",
    "then one should sort the estimated rate constants in decreasing order, and repeat the fit with those new starting values"
   ]
  },
  {
   "cell_type": "markdown",
   "metadata": {},
   "source": [
    "### Amplitude matrices"
   ]
  },
  {
   "cell_type": "code",
   "execution_count": null,
   "metadata": {},
   "outputs": [],
   "source": [
    "show_a_matrixes(global_result)\n"
   ]
  },
  {
   "cell_type": "markdown",
   "metadata": {},
   "source": [
    "## Result plots"
   ]
  },
  {
   "cell_type": "markdown",
   "metadata": {},
   "source": [
    "<sub>Note: The color scheme of the plots in this notebook may not match published figures.</sub>"
   ]
  },
  {
   "cell_type": "markdown",
   "metadata": {},
   "source": [
    "## Fit quality"
   ]
  },
  {
   "cell_type": "code",
   "execution_count": null,
   "metadata": {},
   "outputs": [],
   "source": [
    "global_result_TA = (\n",
    "    global_result.data[\"670TR1\"],\n",
    "    global_result.data[\"670TR2\"],\n",
    "    global_result.data[\"700TR1\"],\n",
    "    global_result.data[\"700TR2\"],\n",
    ")\n",
    "wavelengths = select_plot_wavelengths(global_result_TA, equidistant_wavelengths=True)\n",
    "plot_fitted_traces(global_result_TA, wavelengths, linlog=True, linthresh=1);\n"
   ]
  },
  {
   "cell_type": "markdown",
   "metadata": {},
   "source": [
    "The above command `plot_fitted_traces` is used to plot a selection of traces for a set of wavelengths (autogenerated using the `select_plot_wavelengths` function).\n",
    "To show to make a manual selection of traces, and 'dress up the plot' see the code below, which reproduces Figure 2 of the paper."
   ]
  },
  {
   "cell_type": "code",
   "execution_count": null,
   "metadata": {},
   "outputs": [],
   "source": [
    "# Reproduction of Figure 2 of the paper\n",
    "import warnings\n",
    "from pyglotaran_extras.plotting.style import ColorCode as cc\n",
    "\n",
    "with warnings.catch_warnings():\n",
    "    warnings.simplefilter(\"ignore\")\n",
    "    fig, ax_ = plot_fitted_traces(\n",
    "        global_result_TA,\n",
    "        [685, 700, 720, 760],\n",
    "        linlog=True,\n",
    "        linthresh=1,  # published figure uses 0.3 for easthetic reasons, but here 1 looks better\n",
    "        axes_shape=(2, 2),\n",
    "        figsize=(6, 4),\n",
    "        title=\"\",\n",
    "        per_axis_legend=True,\n",
    "        cycler=cycler(\n",
    "            color=[\n",
    "                cc.grey,\n",
    "                cc.black,\n",
    "                cc.grey,\n",
    "                cc.black,\n",
    "                cc.orange,\n",
    "                cc.red,\n",
    "                cc.orange,\n",
    "                cc.red,\n",
    "            ]\n",
    "        ),\n",
    "    )\n",
    "    handles, labels = ax_.flatten()[0].get_legend_handles_labels()\n",
    "    for i in range(len(handles)):\n",
    "        if i == 1:\n",
    "            labels[i] = \"670 nm excitation\"\n",
    "        elif i == 5:\n",
    "            labels[i] = \"700 nm excitation\"\n",
    "        else:\n",
    "            labels[i] = \"_Hidden\"\n",
    "    for idx, ax in enumerate(ax_.flatten()):\n",
    "        ax.set_ylabel(ax.title.get_text().replace(\"spectral = \", \"\"))\n",
    "        if idx > 1:\n",
    "            ax.set_xlabel(\"Time (ps)\")\n",
    "        else:\n",
    "            ax.set_xlabel(\"\")\n",
    "        ax.set_title(\"\")\n",
    "        if ax.get_legend() is not None:\n",
    "            ax.get_legend().remove()\n",
    "        for line in ax.lines:\n",
    "            line.set_linewidth(0.5)  # Set the line width here\n",
    "    fig.legend(\n",
    "        handles,\n",
    "        labels,\n",
    "        bbox_to_anchor=(0.5, -0.05),\n",
    "        loc=\"lower center\",\n",
    "        ncol=len(handles),\n",
    "    )\n",
    "    fig.tight_layout()\n"
   ]
  },
  {
   "cell_type": "markdown",
   "metadata": {},
   "source": [
    "## Overview 670 exc"
   ]
  },
  {
   "cell_type": "code",
   "execution_count": null,
   "metadata": {},
   "outputs": [],
   "source": [
    "from pyglotaran_extras.plotting.style import ColorCode\n",
    "\n",
    "plot_overview(\n",
    "    global_result.data[\"670TR1\"],\n",
    "    nr_of_data_svd_vectors=4,\n",
    "    nr_of_residual_svd_vectors=2,\n",
    "    linlog=False,\n",
    "    linthresh=1,\n",
    "    cycler=cycler(\n",
    "        color=[ \"tab:grey\",\"tab:orange\",  ColorCode.cyan, ColorCode.green,\"m\", \"y\", \"k\",\"r\", \"b\", \"tab:purple\"]\n",
    "    ),use_svd_number=True,das_cycler=PlotStyle().cycler,svd_cycler=PlotStyle().cycler,\n",
    ");\n"
   ]
  },
  {
   "cell_type": "markdown",
   "metadata": {},
   "source": [
    "## Residual analysis of the 670 nm excitation TR1 data"
   ]
  },
  {
   "cell_type": "code",
   "execution_count": null,
   "metadata": {},
   "outputs": [],
   "source": [
    "import matplotlib.pyplot as plt\n",
    "from pyglotaran_extras.plotting.plot_residual import plot_residual\n",
    "from pyglotaran_extras.plotting.plot_svd import plot_lsv_residual\n",
    "from pyglotaran_extras.plotting.plot_svd import plot_rsv_residual\n",
    "\n",
    "\n",
    "def plot_residual_and_svd(result_dataset):\n",
    "    fig, axes = plt.subplots(1, 3, figsize=(10, 2))\n",
    "    plot_residual(result_dataset, axes[0])\n",
    "    axes[0].get_legend().remove()\n",
    "    axes[0].set_ylabel(\"Wavelength (nm)\")\n",
    "    plot_lsv_residual(result_dataset, axes[1], indices=[0])\n",
    "    axes[1].get_legend().remove()\n",
    "    axes[1].set_ylabel(\"\")\n",
    "    axes[1].set_title(\"residual 1st LSV\")\n",
    "    plot_rsv_residual(result_dataset, axes[2], indices=[0])\n",
    "    axes[2].set_xlabel(\"Wavelength (nm)\")\n",
    "    axes[2].set_title(\"residual 1st RSV\")\n",
    "    axes[2].get_legend().remove()\n",
    "    axes[2].set_ylabel(\"\")\n",
    "\n",
    "    return fig, axes\n",
    "\n",
    "\n",
    "fig, axes = plot_residual_and_svd(global_result.data[\"670TR1\"])\n",
    "axes[0].annotate(\"A\", xy=(-0.1, 1), xycoords=\"axes fraction\", fontsize=16)\n",
    "axes[1].annotate(\"B\", xy=(-0.1, 1), xycoords=\"axes fraction\", fontsize=16)\n",
    "axes[2].annotate(\"C\", xy=(-0.1, 1), xycoords=\"axes fraction\", fontsize=16)\n"
   ]
  },
  {
   "cell_type": "code",
   "execution_count": null,
   "metadata": {},
   "outputs": [],
   "source": [
    "global_result.data[\"670TR2\"]\n"
   ]
  },
  {
   "cell_type": "markdown",
   "metadata": {},
   "source": [
    "## Residual analysis of all data"
   ]
  },
  {
   "cell_type": "code",
   "execution_count": null,
   "metadata": {},
   "outputs": [],
   "source": [
    "import matplotlib.pyplot as plt\n",
    "from pyglotaran_extras.plotting.plot_residual import plot_residual\n",
    "from pyglotaran_extras.plotting.plot_svd import plot_lsv_residual\n",
    "from pyglotaran_extras.plotting.plot_svd import plot_rsv_residual\n",
    "\n",
    "\n",
    "def plot_svd_of_residual(result_dataset,result_dataset2,result_dataset3,result_dataset4,linlog,linthresh,index):\n",
    "    fig, axes = plt.subplots(1, 2, figsize=(10, 2))\n",
    "    custom_cycler = cycler(color=[\"tab:grey\"])\n",
    "    plot_lsv_residual(result_dataset, axes[0], indices=[index],linlog=linlog,linthresh=linthresh, cycler=custom_cycler)\n",
    "    plot_lsv_residual(result_dataset2, axes[0], indices=[index],linlog=linlog,linthresh=linthresh)\n",
    "    custom_cycler = cycler(color=[\"tab:orange\"])\n",
    "    plot_lsv_residual(result_dataset3, axes[0], indices=[index],linlog=linlog,linthresh=linthresh, cycler=custom_cycler)\n",
    "    custom_cycler = cycler(color=[\"r\"])\n",
    "    plot_lsv_residual(result_dataset4, axes[0], indices=[index],linlog=linlog,linthresh=linthresh, cycler=custom_cycler)\n",
    "    axes[0].set_xlabel(\"Time (ps)\")\n",
    "    axes[0].get_legend().remove()\n",
    "    axes[0].set_ylabel(\"\")\n",
    "    axes[0].set_title(\"residual 1st LSV\")\n",
    "    custom_cycler = cycler(color=[\"tab:grey\"])\n",
    "    plot_rsv_residual(result_dataset, axes[1], indices=[index], cycler=custom_cycler)\n",
    "    plot_rsv_residual(result_dataset2, axes[1], indices=[index])\n",
    "    custom_cycler = cycler(color=[\"tab:orange\"])\n",
    "    plot_rsv_residual(result_dataset3, axes[1], indices=[index], cycler=custom_cycler)\n",
    "    custom_cycler = cycler(color=[\"r\"])\n",
    "    plot_rsv_residual(result_dataset4, axes[1], indices=[index], cycler=custom_cycler)\n",
    "    axes[1].set_xlabel(\"Wavelength (nm)\")\n",
    "    axes[1].set_title(\"residual 1st RSV\")\n",
    "    axes[1].get_legend().remove()\n",
    "    axes[1].set_ylabel(\"\")\n",
    "\n",
    "    return fig, axes\n",
    "\n",
    "fig, axes = plot_svd_of_residual(global_result.data[\"670TR1\"],global_result.data[\"670TR2\"],global_result.data[\"700TR1\"],global_result.data[\"700TR2\"],linlog=True,linthresh=1,index=0)\n",
    "axes[0].annotate(\"A\", xy=(-0.1, 1), xycoords=\"axes fraction\", fontsize=16)\n",
    "axes[1].annotate(\"B\", xy=(-0.1, 1), xycoords=\"axes fraction\", fontsize=16)\n"
   ]
  },
  {
   "cell_type": "code",
   "execution_count": null,
   "metadata": {},
   "outputs": [],
   "source": [
    "global_result.data[\"700TR2\"].residual_right_singular_vectors.isel(right_singular_value_index=0,spectral=[60,80])\n"
   ]
  },
  {
   "cell_type": "code",
   "execution_count": null,
   "metadata": {},
   "outputs": [],
   "source": [
    "global_result.data[\"700TR2\"].residual.plot(x=\"time\")\n"
   ]
  },
  {
   "cell_type": "code",
   "execution_count": null,
   "metadata": {},
   "outputs": [],
   "source": [
    "global_result.data[\"700TR2\"].weighted_residual.plot(x=\"time\")\n"
   ]
  },
  {
   "cell_type": "code",
   "execution_count": null,
   "metadata": {},
   "outputs": [],
   "source": [
    "global_result.data[\"700TR1\"].weighted_residual.plot(x=\"time\")\n"
   ]
  },
  {
   "cell_type": "code",
   "execution_count": null,
   "metadata": {},
   "outputs": [],
   "source": [
    "global_result.data[\"700TR2\"].residual_right_singular_vectors.isel(spectral=slice(56,72),right_singular_value_index=0).plot()\n"
   ]
  },
  {
   "cell_type": "markdown",
   "metadata": {},
   "source": [
    "### Q: why is weighted_residual_right_singular_vectors not visible in the print of the result object?"
   ]
  },
  {
   "cell_type": "code",
   "execution_count": null,
   "metadata": {},
   "outputs": [],
   "source": [
    "global_result.data[\"700TR2\"].weighted_residual_right_singular_vectors.isel(spectral=slice(56,72),right_singular_value_index=0).plot()\n"
   ]
  },
  {
   "cell_type": "code",
   "execution_count": null,
   "metadata": {},
   "outputs": [],
   "source": [
    "global_result.data[\"700TR2\"].weighted_residual_right_singular_vectors.isel(spectral=slice(56,72),right_singular_value_index=1).plot()\n"
   ]
  },
  {
   "cell_type": "code",
   "execution_count": null,
   "metadata": {},
   "outputs": [],
   "source": [
    "global_result.data[\"700TR2\"].residual_right_singular_vectors.isel(spectral=[60,80],right_singular_value_index=0)\n"
   ]
  },
  {
   "cell_type": "code",
   "execution_count": null,
   "metadata": {},
   "outputs": [],
   "source": [
    "fig, axes = plot_svd_of_residual(global_result.data[\"670TR1\"],global_result.data[\"670TR2\"],global_result.data[\"700TR1\"],global_result.data[\"700TR2\"],linlog=True,linthresh=1,index=1)\n",
    "axes[0].annotate(\"A\", xy=(-0.1, 1), xycoords=\"axes fraction\", fontsize=16)\n",
    "axes[1].annotate(\"B\", xy=(-0.1, 1), xycoords=\"axes fraction\", fontsize=16)\n",
    "axes[0].set_title(\"residual 2nd LSV\")\n",
    "axes[1].set_title(\"residual 2nd RSV\")\n"
   ]
  },
  {
   "cell_type": "code",
   "execution_count": null,
   "metadata": {},
   "outputs": [],
   "source": [
    "plot_overview(\n",
    "    global_result.data[\"670TR2\"],\n",
    "    nr_of_data_svd_vectors=4,\n",
    "    nr_of_residual_svd_vectors=2,\n",
    "    linlog=False,\n",
    "    linthresh=1,\n",
    "    cycler=cycler(\n",
    "        # color=[ \"tab:grey\",\"tab:orange\",  \"c\", \"g\",\"m\", \"y\", \"k\",\"r\", \"b\", \"tab:purple\"]\n",
    "        color=[ \"tab:grey\",\"tab:orange\",  ColorCode.cyan, ColorCode.green,\"m\", \"y\", \"k\",\"r\", \"b\", \"tab:purple\"]\n",
    "    ),use_svd_number=True,das_cycler=PlotStyle().cycler,svd_cycler=PlotStyle().cycler,\n",
    ");\n"
   ]
  },
  {
   "cell_type": "markdown",
   "metadata": {},
   "source": [
    "## Overview 700 exc"
   ]
  },
  {
   "cell_type": "code",
   "execution_count": null,
   "metadata": {},
   "outputs": [],
   "source": [
    "plot_overview(\n",
    "    global_result.data[\"700TR1\"],\n",
    "    nr_of_data_svd_vectors=4,\n",
    "    nr_of_residual_svd_vectors=2,\n",
    "    linlog=False,\n",
    "    linthresh=1,\n",
    "    cycler=cycler(\n",
    "        color=[\"k\",\"r\", \"g\", \"tab:purple\"]\n",
    "    ),use_svd_number=True,svd_cycler=PlotStyle().cycler,\n",
    ");\n"
   ]
  },
  {
   "cell_type": "code",
   "execution_count": null,
   "metadata": {},
   "outputs": [],
   "source": [
    "plot_overview(\n",
    "    global_result.data[\"700TR2\"],\n",
    "    nr_of_data_svd_vectors=4,\n",
    "    nr_of_residual_svd_vectors=2,\n",
    "    linlog=False,\n",
    "    linthresh=1,\n",
    "    cycler=cycler(\n",
    "        color=[\"k\",\"r\", \"g\", \"tab:purple\"]\n",
    "    ),use_svd_number=True,svd_cycler=PlotStyle().cycler,\n",
    ");\n"
   ]
  },
  {
   "cell_type": "markdown",
   "metadata": {},
   "source": [
    "## Residual analysis of the 700 nm excitation TR2 data"
   ]
  },
  {
   "cell_type": "code",
   "execution_count": null,
   "metadata": {},
   "outputs": [],
   "source": [
    "import matplotlib.pyplot as plt\n",
    "from pyglotaran_extras.plotting.plot_residual import plot_residual\n",
    "from pyglotaran_extras.plotting.plot_svd import plot_lsv_residual\n",
    "from pyglotaran_extras.plotting.plot_svd import plot_rsv_residual\n",
    "\n",
    "\n",
    "def plot_residual_and_svd(result_dataset):\n",
    "    fig, axes = plt.subplots(1, 3, figsize=(10, 2))\n",
    "    plot_residual(result_dataset, axes[0])\n",
    "    axes[0].get_legend().remove()\n",
    "    axes[0].set_xlabel(\"Time (ps)\")\n",
    "    axes[0].set_ylabel(\"Wavelength (nm)\")\n",
    "    plot_lsv_residual(result_dataset, axes[1], indices=[0])\n",
    "    axes[1].set_xlabel(\"Time (ps)\")\n",
    "    axes[1].get_legend().remove()\n",
    "    axes[1].set_ylabel(\"\")\n",
    "    axes[1].set_title(\"residual 1st LSV\")\n",
    "    plot_rsv_residual(result_dataset, axes[2], indices=[0])\n",
    "    axes[2].set_xlabel(\"Wavelength (nm)\")\n",
    "    axes[2].set_title(\"residual 1st RSV\")\n",
    "    axes[2].get_legend().remove()\n",
    "    axes[2].set_ylabel(\"\")\n",
    "\n",
    "    return fig, axes\n",
    "\n",
    "\n",
    "fig, axes = plot_residual_and_svd(global_result.data[\"700TR2\"])\n",
    "axes[0].annotate(\"A\", xy=(-0.1, 1), xycoords=\"axes fraction\", fontsize=16)\n",
    "axes[1].annotate(\"B\", xy=(-0.1, 1), xycoords=\"axes fraction\", fontsize=16)\n",
    "axes[2].annotate(\"C\", xy=(-0.1, 1), xycoords=\"axes fraction\", fontsize=16)\n"
   ]
  },
  {
   "cell_type": "markdown",
   "metadata": {},
   "source": [
    "## Plot result for interpretation\n"
   ]
  },
  {
   "cell_type": "code",
   "execution_count": null,
   "metadata": {},
   "outputs": [],
   "source": [
    "import matplotlib.pyplot as plt\n",
    "from cycler import cycler\n",
    "from pyglotaran_extras.plotting.plot_concentrations import plot_concentrations\n",
    "from pyglotaran_extras.plotting.plot_spectra import plot_das\n",
    "from pyglotaran_extras.plotting.plot_spectra import plot_sas\n",
    "from pyglotaran_extras.plotting.style import ColorCode\n",
    "\n",
    "myFRLcolors = [ \"tab:grey\",\"tab:orange\",  ColorCode.cyan, ColorCode.green,\"m\", \"y\", \"k\",\"r\", \"b\", \"tab:purple\"]\n",
    "\n",
    "custom_cycler = cycler(color=myFRLcolors)\n",
    "\n",
    "\n",
    "def plot_concentration_and_spectra(result_dataset,result_dataset2):\n",
    "    # fig, axes = plt.subplots(1, 2, figsize=(18, 7))\n",
    "    fig, axes = plt.subplots(1, 3, figsize=(15, 4))\n",
    "    plot_concentrations(result_dataset, axes[0], center_λ=0, linlog=True, cycler=custom_cycler)\n",
    "    plot_concentrations(result_dataset2, axes[0], center_λ=0, linlog=True, cycler=custom_cycler)\n",
    "    plot_sas(result_dataset, axes[1], cycler=custom_cycler)\n",
    "    plot_das(result_dataset, axes[2], cycler=custom_cycler)\n",
    "    return fig, axes\n",
    "\n",
    "\n",
    "fig, axes = plot_concentration_and_spectra(global_result.data[\"670TR1\"],global_result.data[\"670TR2\"])\n",
    "axes[0].set_xlabel(\"Time (ps)\")\n",
    "axes[0].set_ylabel(\"\")\n",
    "axes[0].axhline(0, color=\"k\", linewidth=1)\n",
    "axes[1].set_xlabel(\"Wavelength (nm)\")\n",
    "axes[1].set_ylabel(\"EADS (mOD)\")\n",
    "axes[1].set_title(\"EADS\")\n",
    "axes[2].set_xlabel(\"Wavelength (nm)\")\n",
    "axes[2].set_ylabel(\"DADS (mOD)\")\n",
    "axes[2].set_title(\"DADS\")\n",
    "axes[1].axhline(0, color=\"k\", linewidth=1)\n",
    "axes[0].annotate(\"A\", xy=(-0.05, 1.02), xycoords=\"axes fraction\", fontsize=16)\n",
    "axes[1].annotate(\"B\", xy=(-0.05, 1.02), xycoords=\"axes fraction\", fontsize=16)\n",
    "axes[2].annotate(\"C\", xy=(-0.05, 1.02), xycoords=\"axes fraction\", fontsize=16)\n"
   ]
  },
  {
   "cell_type": "code",
   "execution_count": null,
   "metadata": {},
   "outputs": [],
   "source": [
    "# import matplotlib.pyplot as plt\n",
    "# from cycler import cycler\n",
    "# from pyglotaran_extras.plotting.plot_concentrations import plot_concentrations\n",
    "# from pyglotaran_extras.plotting.plot_spectra import plot_sas\n",
    "# from pyglotaran_extras.plotting.style import ColorCode\n",
    "\n",
    "myFRLcolors = [\"k\",\"r\", \"g\", \"tab:purple\"]\n",
    "\n",
    "custom_cycler = cycler(color=myFRLcolors)\n",
    "\n",
    "\n",
    "fig, axes = plot_concentration_and_spectra(global_result.data[\"700TR1\"],global_result.data[\"700TR2\"])\n",
    "axes[0].set_xlabel(\"Time (ps)\")\n",
    "axes[0].set_ylabel(\"\")\n",
    "axes[0].axhline(0, color=\"k\", linewidth=1)\n",
    "axes[1].set_xlabel(\"Wavelength (nm)\")\n",
    "axes[1].set_ylabel(\"EADS (mOD)\")\n",
    "axes[1].set_title(\"EADS\")\n",
    "axes[1].axhline(0, color=\"k\", linewidth=1)\n",
    "axes[2].set_xlabel(\"Wavelength (nm)\")\n",
    "axes[2].set_ylabel(\"DADS (mOD)\")\n",
    "axes[2].set_title(\"DADS\")\n",
    "axes[0].annotate(\"D\", xy=(-0.05, 1.02), xycoords=\"axes fraction\", fontsize=16)\n",
    "axes[1].annotate(\"E\", xy=(-0.05, 1.02), xycoords=\"axes fraction\", fontsize=16)\n",
    "axes[2].annotate(\"F\", xy=(-0.05, 1.02), xycoords=\"axes fraction\", fontsize=16)\n"
   ]
  },
  {
   "cell_type": "markdown",
   "metadata": {},
   "source": [
    "## Coherent Artifact\n"
   ]
  },
  {
   "cell_type": "code",
   "execution_count": null,
   "metadata": {},
   "outputs": [],
   "source": [
    "from pyglotaran_extras import plot_coherent_artifact\n",
    "\n",
    "fig, axes = plot_coherent_artifact(global_result.data[\"670TR1\"], time_range=(-0.3, 0.3), figsize=(10, 4))\n",
    "axes[0].set_xlabel(\"Time (ps)\")\n",
    "axes[1].set_xlabel(\"Wavelength (nm)\")\n",
    "axes[0].set_ylabel(\"\")\n",
    "axes[0].annotate(\"A\", xy=(0.02, 0.9), xycoords=\"axes fraction\", fontsize=16)\n",
    "axes[1].annotate(\"B\", xy=(0.02, 0.9), xycoords=\"axes fraction\", fontsize=16)\n",
    "fig.tight_layout()\n"
   ]
  },
  {
   "cell_type": "code",
   "execution_count": null,
   "metadata": {},
   "outputs": [],
   "source": [
    "from pyglotaran_extras import plot_coherent_artifact\n",
    "\n",
    "fig, axes = plot_coherent_artifact(global_result.data[\"700TR1\"], time_range=(-0.3, 0.3), figsize=(10, 4))\n",
    "axes[0].set_xlabel(\"Time (ps)\")\n",
    "axes[1].set_xlabel(\"Wavelength (nm)\")\n",
    "axes[0].set_ylabel(\"\")\n",
    "axes[0].annotate(\"A\", xy=(0.02, 0.9), xycoords=\"axes fraction\", fontsize=16)\n",
    "axes[1].annotate(\"B\", xy=(0.02, 0.9), xycoords=\"axes fraction\", fontsize=16)\n",
    "fig.tight_layout()\n"
   ]
  },
  {
   "cell_type": "markdown",
   "metadata": {},
   "source": [
    "## Overview of the estimated DOAS and phases of 670 nm excitation data"
   ]
  },
  {
   "cell_type": "markdown",
   "metadata": {},
   "source": []
  },
  {
   "cell_type": "code",
   "execution_count": null,
   "metadata": {},
   "outputs": [],
   "source": [
    "from pyglotaran_extras import plot_doas\n",
    "from pyglotaran_extras.plotting.style import ColorCode\n",
    "\n",
    "fig, axes = plot_doas(\n",
    "    global_result.data[\"670TR1\"],\n",
    "    damped_oscillation=[\"osc1\"],\n",
    "    time_range=(-0.3, 0.3),\n",
    "    spectral=700,\n",
    "    figsize=(15, 4),\n",
    "    normalize=False\n",
    "    # oscillation_type=\"sin\",\n",
    "    # center_λ=550,\n",
    ")\n",
    "\n",
    "# for vline_pos in [415, 460]:\n",
    "#     axes[1].axvline(vline_pos, color=\"r\", linewidth=1)\n",
    "#     axes[2].axvline(vline_pos, color=\"r\", linewidth=1)\n",
    "# for vline_pos in [526]:\n",
    "#     axes[1].axvline(vline_pos, color=ColorCode.green, linewidth=1)\n",
    "#     axes[2].axvline(vline_pos, color=ColorCode.green, linewidth=1)\n",
    "# for vline_pos in [393, 429, 479]:\n",
    "#     axes[1].axvline(vline_pos, color=\"b\", linewidth=1)\n",
    "#     axes[2].axvline(vline_pos, color=\"b\", linewidth=1)\n",
    "axes[0].set_xlabel(\"Time (ps)\")\n",
    "axes[0].axhline(0, color=\"k\", linewidth=1)\n",
    "axes[1].set_xlabel(\"Wavelength (nm)\")\n",
    "axes[2].set_xlabel(\"Wavelength (nm)\")\n",
    "axes[1].set_ylabel(\"\")\n",
    "axes[1].set_title(\"DOAS\")\n",
    "# axes[0].annotate(\"A\", xy=(0.01, 0.89), xycoords=\"axes fraction\", fontsize=16)\n",
    "# axes[1].annotate(\"B\", xy=(0.01, 0.89), xycoords=\"axes fraction\", fontsize=16)\n",
    "# axes[2].annotate(\"C\", xy=(0.01, 0.89), xycoords=\"axes fraction\", fontsize=16)\n",
    "axes[0].annotate(\"C\", xy=(0.01, 0.89), xycoords=\"axes fraction\", fontsize=16)\n",
    "axes[1].annotate(\"D\", xy=(0.01, 0.89), xycoords=\"axes fraction\", fontsize=16)\n",
    "axes[2].annotate(\"E\", xy=(0.01, 0.89), xycoords=\"axes fraction\", fontsize=16)\n"
   ]
  },
  {
   "cell_type": "code",
   "execution_count": null,
   "metadata": {},
   "outputs": [],
   "source": [
    "from glotaran.io import save_dataset\n",
    "from glotaran.utils.io import create_clp_guide_dataset\n",
    "\n",
    "for species in global_result.data[\"670TR2\"].species:\n",
    "    clp_guide = create_clp_guide_dataset(global_result.data[\"670TR2\"], species.item())\n",
    "    string_in_string = \"guide/20231016global_670TR2_clp_{}.ascii\".format(species.item())\n",
    "    save_dataset(clp_guide.data, string_in_string,allow_overwrite=True)\n"
   ]
  },
  {
   "cell_type": "code",
   "execution_count": null,
   "metadata": {},
   "outputs": [],
   "source": []
  }
 ],
 "metadata": {
  "kernelspec": {
   "display_name": "Python 3 (ipykernel)",
   "language": "python",
   "name": "python3"
  },
  "language_info": {
   "codemirror_mode": {
    "name": "ipython",
    "version": 3
   },
   "file_extension": ".py",
   "mimetype": "text/x-python",
   "name": "python",
   "nbconvert_exporter": "python",
   "pygments_lexer": "ipython3",
   "version": "3.10.6"
  },
  "vscode": {
   "interpreter": {
    "hash": "c96939a00adbd8139175687d27213cba589faa8203f47f613c3350e59358e0cf"
   }
  }
 },
 "nbformat": 4,
 "nbformat_minor": 4
}
